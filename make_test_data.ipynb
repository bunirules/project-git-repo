{
 "cells": [
  {
   "cell_type": "code",
   "execution_count": 2,
   "metadata": {},
   "outputs": [],
   "source": [
    "from glob import glob\n",
    "import os\n",
    "import random\n",
    "from PIL import Image\n",
    "from skimage.morphology import label\n",
    "import numpy as np\n",
    "import matplotlib.pyplot as plt\n",
    "import tifffile\n",
    "from skimage.util import img_as_ubyte\n",
    "np.random.seed(4)"
   ]
  },
  {
   "cell_type": "code",
   "execution_count": 30,
   "metadata": {},
   "outputs": [],
   "source": [
    "SyMBac_training_data_dir = \"C:/Users/robho/OneDrive/Desktop/Uni Work/Year 4/project2/superres/first_trial/omnipose_training/pmc_0.1638_SR/test/convolutions\"\n",
    "savedir = \"C:/Users/robho/OneDrive/Desktop/Uni Work/Year 4/project2/superres/first_trial/omnipose_training/pmc_0.1638_SR/test/convolutions_tiled\"\n",
    "mask_dir = \"C:/Users/robho/OneDrive/Desktop/Uni Work/Year 4/project2/superres/first_trial/main_batch/pmc_0.0655/train/masks\""
   ]
  },
  {
   "cell_type": "code",
   "execution_count": 31,
   "metadata": {},
   "outputs": [],
   "source": [
    "masks_dir = SyMBac_training_data_dir + \"/masks/\"\n",
    "masks_dir = mask_dir\n",
    "convs_dir = SyMBac_training_data_dir + \"/convolutions/\"\n",
    "convs_dir = SyMBac_training_data_dir\n",
    "masks = sorted(glob(masks_dir+\"/*\"))\n",
    "convs = sorted(glob(convs_dir+\"/*\"))"
   ]
  },
  {
   "cell_type": "code",
   "execution_count": 32,
   "metadata": {},
   "outputs": [],
   "source": [
    "tile_length = 40\n",
    "if \"test\" in savedir:\n",
    "    test_samples = 5\n",
    "    indices = np.linspace(0,tile_length*(test_samples-1),test_samples).astype(int)\n",
    "elif \"training\" in savedir:\n",
    "    training_samples = 200\n",
    "    indices = random.sample(range(len(masks)-tile_length), training_samples)\n",
    "label_required = False # If you did not use label=True in SyMBac, then you should set this to true."
   ]
  },
  {
   "cell_type": "code",
   "execution_count": 33,
   "metadata": {},
   "outputs": [
    {
     "data": {
      "text/plain": [
       "200"
      ]
     },
     "execution_count": 33,
     "metadata": {},
     "output_type": "execute_result"
    }
   ],
   "source": [
    "len(convs)"
   ]
  },
  {
   "cell_type": "code",
   "execution_count": 35,
   "metadata": {},
   "outputs": [],
   "source": [
    "# os.mkdir(savedir)\n",
    "try:\n",
    "    os.mkdir(savedir + \"/masks\")\n",
    "    os.mkdir(savedir + \"/convolutions\")\n",
    "except:\n",
    "    pass\n",
    "for i, x in enumerate(indices):\n",
    "    x = indices[i]\n",
    "    # mask_tile = np.concatenate([tifffile.imread(mask) for mask in masks[x:x+tile_length]], axis=1)\n",
    "    # if label_required:\n",
    "    #     mask_tile = label(mask_tile)\n",
    "    # conv_tile = np.concatenate([tifffile.imread(conv) for conv in convs[x:x+tile_length]], axis=1)\n",
    "    conv_tile = np.concatenate([np.array(Image.open(conv)) for conv in convs[x:x+tile_length]], axis=1)\n",
    "    conv_tile = conv_tile/conv_tile.max()\n",
    "    conv_tile = img_as_ubyte(conv_tile)\n",
    "    # Image.fromarray(mask_tile.astype(np.ubyte)).save(f\"{savedir}/masks/test_{str(i).zfill(5)}_masks.png\")\n",
    "    Image.fromarray(conv_tile).save(f\"{savedir}/convolutions/test_{str(i).zfill(5)}.png\")"
   ]
  },
  {
   "cell_type": "code",
   "execution_count": 13,
   "metadata": {},
   "outputs": [
    {
     "data": {
      "text/plain": [
       "(172, 1520)"
      ]
     },
     "execution_count": 13,
     "metadata": {},
     "output_type": "execute_result"
    }
   ],
   "source": [
    "conv_tile.shape"
   ]
  },
  {
   "cell_type": "code",
   "execution_count": 3,
   "metadata": {},
   "outputs": [
    {
     "ename": "FileExistsError",
     "evalue": "[WinError 183] Cannot create a file when that file already exists: 'data'",
     "output_type": "error",
     "traceback": [
      "\u001b[1;31m---------------------------------------------------------------------------\u001b[0m",
      "\u001b[1;31mFileExistsError\u001b[0m                           Traceback (most recent call last)",
      "Cell \u001b[1;32mIn[3], line 1\u001b[0m\n\u001b[1;32m----> 1\u001b[0m os\u001b[39m.\u001b[39;49mmkdir(\u001b[39m\"\u001b[39;49m\u001b[39mdata\u001b[39;49m\u001b[39m\"\u001b[39;49m)\n",
      "\u001b[1;31mFileExistsError\u001b[0m: [WinError 183] Cannot create a file when that file already exists: 'data'"
     ]
    }
   ],
   "source": [
    "os.mkdir(\"data\")"
   ]
  },
  {
   "cell_type": "code",
   "execution_count": null,
   "metadata": {},
   "outputs": [],
   "source": []
  }
 ],
 "metadata": {
  "kernelspec": {
   "display_name": "symbac3",
   "language": "python",
   "name": "python3"
  },
  "language_info": {
   "codemirror_mode": {
    "name": "ipython",
    "version": 3
   },
   "file_extension": ".py",
   "mimetype": "text/x-python",
   "name": "python",
   "nbconvert_exporter": "python",
   "pygments_lexer": "ipython3",
   "version": "3.9.0"
  },
  "orig_nbformat": 4,
  "vscode": {
   "interpreter": {
    "hash": "781342879bdff3530b3d1a12048032f25ad7eca4cd3551e53ddd8c7c8243adcf"
   }
  }
 },
 "nbformat": 4,
 "nbformat_minor": 2
}
