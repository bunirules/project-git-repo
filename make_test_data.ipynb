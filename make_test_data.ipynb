{
    "cells": [
        {
            "cell_type": "code",
            "execution_count": 1,
            "metadata": {},
            "outputs": [],
            "source": [
                "from glob import glob\n",
                "import os\n",
                "import random\n",
                "from PIL import Image\n",
                "from skimage.morphology import label\n",
                "import numpy as np\n",
                "import matplotlib.pyplot as plt\n",
                "import tifffile\n",
                "from skimage.util import img_as_ubyte\n",
                "np.random.seed(4)"
            ]
        },
        {
            "cell_type": "code",
            "execution_count": 2,
            "metadata": {},
            "outputs": [],
            "source": [
                "SyMBac_training_data_dir = \"C:/Users/robho/OneDrive/Desktop/Uni_Work/Year_4/project2/superres/third_trial/omnipose_training/train/pmc_0.3276_linear_RCAN/\"\n",
                "savedir = \"C:/Users/robho/OneDrive/Desktop/Uni_Work/Year_4/project2/superres/third_trial/omnipose_training/train/pmc_0.3276_linear_RCAN_tiled/\"\n",
                "mask_dir = \"C:/Users/robho/OneDrive/Desktop/Uni_Work/Year_4/project2/superres/third_trial/omnipose_training/train/pmc_0.0728/masks/\""
            ]
        },
        {
            "cell_type": "code",
            "execution_count": 3,
            "metadata": {},
            "outputs": [],
            "source": [
                "# masks_dir = SyMBac_training_data_dir + \"/masks/\"\n",
                "masks_dir = mask_dir\n",
                "# convs_dir = SyMBac_training_data_dir + \"/convolutions/\"\n",
                "convs_dir = SyMBac_training_data_dir\n",
                "masks = sorted(glob(masks_dir+\"/*\"))\n",
                "convs = sorted(glob(convs_dir+\"/*\"))"
            ]
        },
        {
            "cell_type": "code",
            "execution_count": 4,
            "metadata": {},
            "outputs": [],
            "source": [
                "tile_length = 40\n",
                "if \"/test/\" in savedir:\n",
                "    test_samples = 5\n",
                "    indices = np.linspace(0,tile_length*(test_samples-1),test_samples).astype(int)\n",
                "elif \"/train/\" in savedir:\n",
                "    training_samples = 200\n",
                "    indices = random.sample(range(len(masks)-tile_length), training_samples)\n",
                "label_required = False # If you did not use label=True in SyMBac, then you should set this to true."
            ]
        },
        {
            "cell_type": "code",
            "execution_count": 5,
            "metadata": {},
            "outputs": [
                {
                    "data": {
                        "text/plain": [
                            "1000"
                        ]
                    },
                    "execution_count": 5,
                    "metadata": {},
                    "output_type": "execute_result"
                }
            ],
            "source": [
                "len(convs)"
            ]
        },
        {
            "cell_type": "code",
            "execution_count": 17,
            "metadata": {},
            "outputs": [],
            "source": [
                "try:\n",
                "    os.mkdir(savedir)\n",
                "    # os.mkdir(savedir + \"/masks\")\n",
                "    # os.mkdir(savedir + \"/convolutions\")\n",
                "except:\n",
                "    pass\n",
                "for i, x in enumerate(indices):\n",
                "    x = indices[i]\n",
                "    mask_tile = np.concatenate([tifffile.imread(mask) for mask in masks[x:x+tile_length]], axis=1)\n",
                "    if label_required:\n",
                "        mask_tile = label(mask_tile)\n",
                "    # conv_tile = np.concatenate([tifffile.imread(conv) for conv in convs[x:x+tile_length]], axis=1)\n",
                "    conv_tile = np.concatenate([np.array(Image.open(conv)) for conv in convs[x:x+tile_length]], axis=1)\n",
                "    conv_tile = conv_tile/conv_tile.max()\n",
                "    conv_tile = img_as_ubyte(conv_tile)\n",
                "    Image.fromarray(mask_tile.astype(np.ubyte)).save(f\"{savedir}/test_{str(i).zfill(5)}_masks.png\") # masks/\n",
                "    Image.fromarray(conv_tile).save(f\"{savedir}/test_{str(i).zfill(5)}.png\") # convolutions/"
            ]
        },
        {
            "cell_type": "code",
            "execution_count": null,
            "metadata": {},
            "outputs": [],
            "source": []
        }
    ],
    "metadata": {
        "kernelspec": {
            "display_name": "symbac3",
            "language": "python",
            "name": "python3"
        },
        "language_info": {
            "codemirror_mode": {
                "name": "ipython",
                "version": 3
            },
            "file_extension": ".py",
            "mimetype": "text/x-python",
            "name": "python",
            "nbconvert_exporter": "python",
            "pygments_lexer": "ipython3",
            "version": "3.9.0"
        },
        "orig_nbformat": 4,
        "vscode": {
            "interpreter": {
                "hash": "781342879bdff3530b3d1a12048032f25ad7eca4cd3551e53ddd8c7c8243adcf"
            }
        }
    },
    "nbformat": 4,
    "nbformat_minor": 2
}
