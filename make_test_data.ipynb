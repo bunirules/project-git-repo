{
 "cells": [
  {
   "cell_type": "code",
   "execution_count": 1,
   "metadata": {},
   "outputs": [],
   "source": [
    "from glob import glob\n",
    "import os\n",
    "import random\n",
    "from PIL import Image\n",
    "from skimage.morphology import label\n",
    "import numpy as np\n",
    "import matplotlib.pyplot as plt\n",
    "import tifffile\n",
    "from skimage.util import img_as_ubyte\n",
    "np.random.seed(4)"
   ]
  },
  {
   "cell_type": "code",
   "execution_count": 18,
   "metadata": {},
   "outputs": [],
   "source": [
    "SyMBac_training_data_dir = \"fluo/40x blur\"\n",
    "savedir = \"omnipose_SyMBac_TD_fl/40x blur\""
   ]
  },
  {
   "cell_type": "code",
   "execution_count": 19,
   "metadata": {},
   "outputs": [],
   "source": [
    "masks_dir = SyMBac_training_data_dir + \"/masks/\"\n",
    "convs_dir = SyMBac_training_data_dir + \"/convolutions/\"\n",
    "masks = sorted(glob(masks_dir+\"/*\"))\n",
    "convs = sorted(glob(convs_dir+\"/*\"))"
   ]
  },
  {
   "cell_type": "code",
   "execution_count": 20,
   "metadata": {},
   "outputs": [],
   "source": [
    "tile_length = 40\n",
    "test_samples = 10\n",
    "indices = np.linspace(0,tile_length*(test_samples-1),test_samples).astype(int)\n",
    "label_required = False # If you did not use label=True in SyMBac, then you should set this to true."
   ]
  },
  {
   "cell_type": "code",
   "execution_count": 21,
   "metadata": {},
   "outputs": [
    {
     "name": "stdout",
     "output_type": "stream",
     "text": [
      "0 0\n",
      "1 40\n",
      "2 80\n",
      "3 120\n",
      "4 160\n",
      "5 200\n",
      "6 240\n",
      "7 280\n",
      "8 320\n",
      "9 360\n"
     ]
    }
   ],
   "source": [
    "# os.mkdir(savedir)\n",
    "os.mkdir(savedir + \"/masks\")\n",
    "os.mkdir(savedir + \"/convolutions\")\n",
    "for i, x in enumerate(indices):\n",
    "    print(i,x)\n",
    "    x = indices[i]\n",
    "    mask_tile = np.concatenate([tifffile.imread(mask) for mask in masks[x:x+tile_length]], axis=1)\n",
    "    if label_required:\n",
    "        mask_tile = label(mask_tile)\n",
    "    conv_tile = np.concatenate([tifffile.imread(conv) for conv in convs[x:x+tile_length]], axis=1)\n",
    "    conv_tile = conv_tile/conv_tile.max()\n",
    "    conv_tile = img_as_ubyte(conv_tile)\n",
    "    Image.fromarray(mask_tile.astype(np.ubyte)).save(f\"{savedir}/masks/test_{str(i).zfill(5)}_masks.png\")\n",
    "    Image.fromarray(conv_tile).save(f\"{savedir}/convolutions/test_{str(i).zfill(5)}.png\")"
   ]
  },
  {
   "cell_type": "code",
   "execution_count": 13,
   "metadata": {},
   "outputs": [
    {
     "data": {
      "text/plain": [
       "(172, 1520)"
      ]
     },
     "execution_count": 13,
     "metadata": {},
     "output_type": "execute_result"
    }
   ],
   "source": [
    "conv_tile.shape"
   ]
  },
  {
   "cell_type": "code",
   "execution_count": null,
   "metadata": {},
   "outputs": [],
   "source": []
  }
 ],
 "metadata": {
  "kernelspec": {
   "display_name": "symbac3",
   "language": "python",
   "name": "python3"
  },
  "language_info": {
   "codemirror_mode": {
    "name": "ipython",
    "version": 3
   },
   "file_extension": ".py",
   "mimetype": "text/x-python",
   "name": "python",
   "nbconvert_exporter": "python",
   "pygments_lexer": "ipython3",
   "version": "3.9.0"
  },
  "orig_nbformat": 4,
  "vscode": {
   "interpreter": {
    "hash": "781342879bdff3530b3d1a12048032f25ad7eca4cd3551e53ddd8c7c8243adcf"
   }
  }
 },
 "nbformat": 4,
 "nbformat_minor": 2
}
