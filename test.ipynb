{
 "cells": [
  {
   "cell_type": "code",
   "execution_count": 1,
   "metadata": {},
   "outputs": [],
   "source": [
    "%load_ext autoreload\n",
    "%autoreload 2"
   ]
  },
  {
   "cell_type": "code",
   "execution_count": 4,
   "metadata": {},
   "outputs": [],
   "source": [
    "import os\n",
    "import sys"
   ]
  },
  {
   "cell_type": "code",
   "execution_count": 13,
   "metadata": {},
   "outputs": [],
   "source": [
    "path = 'C:/Users/robho/OneDrive/Desktop/Uni Work/Year 4/project2/data/100x'"
   ]
  },
  {
   "cell_type": "code",
   "execution_count": 16,
   "metadata": {},
   "outputs": [],
   "source": [
    "os.mkdir('data')"
   ]
  },
  {
   "cell_type": "code",
   "execution_count": null,
   "metadata": {},
   "outputs": [
    {
     "data": {
      "text/plain": [
       "[]"
      ]
     },
     "execution_count": 5,
     "metadata": {},
     "output_type": "execute_result"
    }
   ],
   "source": [
    "os.listdir(path)"
   ]
  },
  {
   "cell_type": "code",
   "execution_count": 15,
   "metadata": {},
   "outputs": [],
   "source": [
    "os.rmdir('data')"
   ]
  },
  {
   "cell_type": "code",
   "execution_count": 1,
   "metadata": {},
   "outputs": [],
   "source": [
    "import numpy as np"
   ]
  },
  {
   "cell_type": "code",
   "execution_count": 5,
   "metadata": {},
   "outputs": [],
   "source": [
    "from error_algorithms import IoU"
   ]
  },
  {
   "cell_type": "code",
   "execution_count": 6,
   "metadata": {},
   "outputs": [],
   "source": [
    "groundarray = np.array([[0,3,3,3,0],\n",
    "                        [2,0,1,0,0],\n",
    "                        [2,0,1,0,0],\n",
    "                        [2,0,1,0,0],\n",
    "                        [0,0,0,0,0]])\n",
    "\n",
    "imagearray = np.array([[0,0,3,3,0],\n",
    "                       [2,0,0,1,0],\n",
    "                       [2,0,1,0,0],\n",
    "                       [2,0,1,0,0],\n",
    "                       [2,0,0,0,0]])"
   ]
  },
  {
   "cell_type": "code",
   "execution_count": 7,
   "metadata": {},
   "outputs": [
    {
     "ename": "ValueError",
     "evalue": "The truth value of an array with more than one element is ambiguous. Use a.any() or a.all()",
     "output_type": "error",
     "traceback": [
      "\u001b[1;31m---------------------------------------------------------------------------\u001b[0m",
      "\u001b[1;31mValueError\u001b[0m                                Traceback (most recent call last)",
      "\u001b[1;32m<ipython-input-7-b3836b9f9787>\u001b[0m in \u001b[0;36m<module>\u001b[1;34m\u001b[0m\n\u001b[1;32m----> 1\u001b[1;33m \u001b[0mprint\u001b[0m\u001b[1;33m(\u001b[0m\u001b[0mnp\u001b[0m\u001b[1;33m.\u001b[0m\u001b[0mwhere\u001b[0m\u001b[1;33m(\u001b[0m\u001b[0mgroundarray\u001b[0m \u001b[1;33m==\u001b[0m \u001b[1;36m1\u001b[0m \u001b[1;32mor\u001b[0m \u001b[0mimagearray\u001b[0m \u001b[1;33m==\u001b[0m \u001b[1;36m1\u001b[0m\u001b[1;33m)\u001b[0m\u001b[1;33m)\u001b[0m\u001b[1;33m\u001b[0m\u001b[1;33m\u001b[0m\u001b[0m\n\u001b[0m\u001b[0;32m      2\u001b[0m \u001b[0mprint\u001b[0m\u001b[1;33m(\u001b[0m\u001b[0mnp\u001b[0m\u001b[1;33m.\u001b[0m\u001b[0mwhere\u001b[0m\u001b[1;33m(\u001b[0m\u001b[0mgroundarray\u001b[0m \u001b[1;33m==\u001b[0m \u001b[1;36m1\u001b[0m \u001b[1;32mand\u001b[0m \u001b[0mimagearray\u001b[0m \u001b[1;33m==\u001b[0m \u001b[1;36m1\u001b[0m\u001b[1;33m)\u001b[0m\u001b[1;33m)\u001b[0m\u001b[1;33m\u001b[0m\u001b[1;33m\u001b[0m\u001b[0m\n",
      "\u001b[1;31mValueError\u001b[0m: The truth value of an array with more than one element is ambiguous. Use a.any() or a.all()"
     ]
    }
   ],
   "source": [
    "print(np.where(groundarray == 1 or imagearray == 1))\n",
    "print(np.where(groundarray == 1 and imagearray == 1))"
   ]
  },
  {
   "cell_type": "code",
   "execution_count": 16,
   "metadata": {},
   "outputs": [
    {
     "name": "stdout",
     "output_type": "stream",
     "text": [
      "[0 1 1]\n",
      "[1 1 1]\n",
      "[1 1 1]\n",
      "[0 1 1]\n"
     ]
    }
   ],
   "source": [
    "print(groundarray[np.where(groundarray == 1) and np.where(imagearray == 1)])\n",
    "print(groundarray[np.where(groundarray == 1) or np.where(imagearray == 1)])\n",
    "print(imagearray[np.where(groundarray == 1) and np.where(imagearray == 1)])\n",
    "print(imagearray[np.where(groundarray == 1) or np.where(imagearray == 1)])"
   ]
  },
  {
   "cell_type": "code",
   "execution_count": 18,
   "metadata": {},
   "outputs": [
    {
     "ename": "ValueError",
     "evalue": "The truth value of an array with more than one element is ambiguous. Use a.any() or a.all()",
     "output_type": "error",
     "traceback": [
      "\u001b[1;31m---------------------------------------------------------------------------\u001b[0m",
      "\u001b[1;31mValueError\u001b[0m                                Traceback (most recent call last)",
      "\u001b[1;32m<ipython-input-18-1fb1bffff213>\u001b[0m in \u001b[0;36m<module>\u001b[1;34m\u001b[0m\n\u001b[1;32m----> 1\u001b[1;33m \u001b[0mprint\u001b[0m\u001b[1;33m(\u001b[0m\u001b[0mgroundarray\u001b[0m\u001b[1;33m[\u001b[0m\u001b[0mnp\u001b[0m\u001b[1;33m.\u001b[0m\u001b[0mwhere\u001b[0m\u001b[1;33m(\u001b[0m\u001b[0mnp\u001b[0m\u001b[1;33m.\u001b[0m\u001b[0many\u001b[0m\u001b[1;33m(\u001b[0m\u001b[0mgroundarray\u001b[0m \u001b[1;33m==\u001b[0m \u001b[1;36m1\u001b[0m \u001b[1;32mand\u001b[0m \u001b[0mimagearray\u001b[0m \u001b[1;33m==\u001b[0m \u001b[1;36m1\u001b[0m\u001b[1;33m)\u001b[0m\u001b[1;33m)\u001b[0m\u001b[1;33m]\u001b[0m\u001b[1;33m)\u001b[0m\u001b[1;33m\u001b[0m\u001b[1;33m\u001b[0m\u001b[0m\n\u001b[0m\u001b[0;32m      2\u001b[0m \u001b[0mprint\u001b[0m\u001b[1;33m(\u001b[0m\u001b[0mgroundarray\u001b[0m\u001b[1;33m[\u001b[0m\u001b[0mnp\u001b[0m\u001b[1;33m.\u001b[0m\u001b[0mwhere\u001b[0m\u001b[1;33m(\u001b[0m\u001b[0mgroundarray\u001b[0m \u001b[1;33m==\u001b[0m \u001b[1;36m1\u001b[0m\u001b[1;33m)\u001b[0m \u001b[1;32mor\u001b[0m \u001b[0mnp\u001b[0m\u001b[1;33m.\u001b[0m\u001b[0mwhere\u001b[0m\u001b[1;33m(\u001b[0m\u001b[0mimagearray\u001b[0m \u001b[1;33m==\u001b[0m \u001b[1;36m1\u001b[0m\u001b[1;33m)\u001b[0m\u001b[1;33m]\u001b[0m\u001b[1;33m)\u001b[0m\u001b[1;33m\u001b[0m\u001b[1;33m\u001b[0m\u001b[0m\n\u001b[0;32m      3\u001b[0m \u001b[0mprint\u001b[0m\u001b[1;33m(\u001b[0m\u001b[0mimagearray\u001b[0m\u001b[1;33m[\u001b[0m\u001b[0mnp\u001b[0m\u001b[1;33m.\u001b[0m\u001b[0mwhere\u001b[0m\u001b[1;33m(\u001b[0m\u001b[0mgroundarray\u001b[0m \u001b[1;33m==\u001b[0m \u001b[1;36m1\u001b[0m\u001b[1;33m)\u001b[0m \u001b[1;32mand\u001b[0m \u001b[0mnp\u001b[0m\u001b[1;33m.\u001b[0m\u001b[0mwhere\u001b[0m\u001b[1;33m(\u001b[0m\u001b[0mimagearray\u001b[0m \u001b[1;33m==\u001b[0m \u001b[1;36m1\u001b[0m\u001b[1;33m)\u001b[0m\u001b[1;33m]\u001b[0m\u001b[1;33m)\u001b[0m\u001b[1;33m\u001b[0m\u001b[1;33m\u001b[0m\u001b[0m\n\u001b[0;32m      4\u001b[0m \u001b[0mprint\u001b[0m\u001b[1;33m(\u001b[0m\u001b[0mimagearray\u001b[0m\u001b[1;33m[\u001b[0m\u001b[0mnp\u001b[0m\u001b[1;33m.\u001b[0m\u001b[0mwhere\u001b[0m\u001b[1;33m(\u001b[0m\u001b[0mgroundarray\u001b[0m \u001b[1;33m==\u001b[0m \u001b[1;36m1\u001b[0m\u001b[1;33m)\u001b[0m \u001b[1;32mor\u001b[0m \u001b[0mnp\u001b[0m\u001b[1;33m.\u001b[0m\u001b[0mwhere\u001b[0m\u001b[1;33m(\u001b[0m\u001b[0mimagearray\u001b[0m \u001b[1;33m==\u001b[0m \u001b[1;36m1\u001b[0m\u001b[1;33m)\u001b[0m\u001b[1;33m]\u001b[0m\u001b[1;33m)\u001b[0m\u001b[1;33m\u001b[0m\u001b[1;33m\u001b[0m\u001b[0m\n",
      "\u001b[1;31mValueError\u001b[0m: The truth value of an array with more than one element is ambiguous. Use a.any() or a.all()"
     ]
    }
   ],
   "source": [
    "print(groundarray[np.where(np.any(groundarray == 1 and imagearray == 1))])\n",
    "print(groundarray[np.where(groundarray == 1) or np.where(imagearray == 1)])\n",
    "print(imagearray[np.where(groundarray == 1) and np.where(imagearray == 1)])\n",
    "print(imagearray[np.where(groundarray == 1) or np.where(imagearray == 1)])"
   ]
  },
  {
   "cell_type": "code",
   "execution_count": 19,
   "metadata": {},
   "outputs": [
    {
     "name": "stdout",
     "output_type": "stream",
     "text": [
      "[[[0 3 3 3 0]\n",
      "  [2 0 1 0 0]\n",
      "  [2 0 1 0 0]\n",
      "  [2 0 1 0 0]\n",
      "  [0 0 0 0 0]]]\n",
      "[1 1 1]\n",
      "[1 1 1]\n",
      "[0 1 1]\n"
     ]
    }
   ],
   "source": [
    "print(groundarray[np.any(np.where(groundarray == 1) and np.where(imagearray == 1))])\n",
    "print(groundarray[np.where(groundarray == 1) or np.where(imagearray == 1)])\n",
    "print(imagearray[np.where(groundarray == 1) and np.where(imagearray == 1)])\n",
    "print(imagearray[np.where(groundarray == 1) or np.where(imagearray == 1)])"
   ]
  },
  {
   "cell_type": "code",
   "execution_count": 91,
   "metadata": {},
   "outputs": [],
   "source": [
    "a = np.where(groundarray == 1)\n",
    "b = np.where(imagearray == 1)"
   ]
  },
  {
   "cell_type": "code",
   "execution_count": 81,
   "metadata": {},
   "outputs": [],
   "source": [
    "acs = np.array([a[0],a[1]]).T\n",
    "bcs = np.array([b[0],b[1]]).T"
   ]
  },
  {
   "cell_type": "code",
   "execution_count": 90,
   "metadata": {},
   "outputs": [
    {
     "name": "stdout",
     "output_type": "stream",
     "text": [
      "4\n",
      "2\n"
     ]
    }
   ],
   "source": [
    "tupa = [tuple(item) for item in acs]\n",
    "tupb = [tuple(item) for item in bcs]\n",
    "print(len(set(tupa).union(tupb)))\n",
    "print(len(set(tupa).intersection(tupb)))"
   ]
  },
  {
   "cell_type": "code",
   "execution_count": 93,
   "metadata": {},
   "outputs": [],
   "source": [
    "def andoveror(a,b):\n",
    "    acs = np.array([a[0],a[1]]).T\n",
    "    bcs = np.array([b[0],b[1]]).T\n",
    "    tupa = [tuple(item) for item in acs]\n",
    "    tupb = [tuple(item) for item in bcs]\n",
    "    return len(set(tupa).intersection(tupb))/len(set(tupa).union(tupb))"
   ]
  },
  {
   "cell_type": "code",
   "execution_count": 94,
   "metadata": {},
   "outputs": [
    {
     "data": {
      "text/plain": [
       "0.5"
      ]
     },
     "execution_count": 94,
     "metadata": {},
     "output_type": "execute_result"
    }
   ],
   "source": [
    "andoveror(a,b)"
   ]
  },
  {
   "cell_type": "code",
   "execution_count": 25,
   "metadata": {},
   "outputs": [
    {
     "name": "stdout",
     "output_type": "stream",
     "text": [
      "(array([1, 2, 3], dtype=int64), array([3, 2, 2], dtype=int64))\n",
      "(array([1, 2, 3], dtype=int64), array([2, 2, 2], dtype=int64))\n",
      "(array([1, 2, 3], dtype=int64), array([3, 2, 2], dtype=int64))\n"
     ]
    }
   ],
   "source": [
    "print(b or a)\n",
    "print(a)\n",
    "print(b)"
   ]
  },
  {
   "cell_type": "code",
   "execution_count": 63,
   "metadata": {},
   "outputs": [],
   "source": [
    "ax = list(a[0])\n",
    "ay = list(a[1])\n",
    "bx = list(b[0])\n",
    "by = list(b[1])"
   ]
  },
  {
   "cell_type": "code",
   "execution_count": 67,
   "metadata": {},
   "outputs": [
    {
     "name": "stdout",
     "output_type": "stream",
     "text": [
      "[[1, 2, 3], [2, 2, 2], [1, 2, 3]]\n"
     ]
    }
   ],
   "source": [
    "print([ax,ay,ax])"
   ]
  },
  {
   "cell_type": "code",
   "execution_count": 69,
   "metadata": {},
   "outputs": [
    {
     "name": "stdout",
     "output_type": "stream",
     "text": [
      "[([1, 2, 3],), ([2, 2, 2],), ([1, 2, 3],)]\n"
     ]
    }
   ],
   "source": [
    "print(list(zip([ax,ay,ax])))"
   ]
  },
  {
   "cell_type": "code",
   "execution_count": 74,
   "metadata": {},
   "outputs": [],
   "source": [
    "acs = np.array([ax,ay]).T\n",
    "bcs = np.array([bx,by]).T"
   ]
  },
  {
   "cell_type": "code",
   "execution_count": 75,
   "metadata": {},
   "outputs": [
    {
     "name": "stdout",
     "output_type": "stream",
     "text": [
      "<class 'list'>\n",
      "[1, 2]\n",
      "<class 'list'>\n",
      "[2, 2]\n",
      "<class 'list'>\n",
      "[3, 2]\n"
     ]
    }
   ],
   "source": [
    "for a in acs:\n",
    "    print(type(a))\n",
    "    print(a)"
   ]
  },
  {
   "cell_type": "code",
   "execution_count": 76,
   "metadata": {},
   "outputs": [
    {
     "ename": "TypeError",
     "evalue": "unhashable type: 'list'",
     "output_type": "error",
     "traceback": [
      "\u001b[1;31m---------------------------------------------------------------------------\u001b[0m",
      "\u001b[1;31mTypeError\u001b[0m                                 Traceback (most recent call last)",
      "\u001b[1;32m<ipython-input-76-ae1a368ed0a7>\u001b[0m in \u001b[0;36m<module>\u001b[1;34m\u001b[0m\n\u001b[1;32m----> 1\u001b[1;33m \u001b[0mnew\u001b[0m \u001b[1;33m=\u001b[0m \u001b[0mset\u001b[0m\u001b[1;33m(\u001b[0m\u001b[0macs\u001b[0m\u001b[1;33m)\u001b[0m\u001b[1;33m.\u001b[0m\u001b[0mintersection\u001b[0m\u001b[1;33m(\u001b[0m\u001b[0mbcs\u001b[0m\u001b[1;33m)\u001b[0m\u001b[1;33m\u001b[0m\u001b[1;33m\u001b[0m\u001b[0m\n\u001b[0m\u001b[0;32m      2\u001b[0m \u001b[0mprint\u001b[0m\u001b[1;33m(\u001b[0m\u001b[0mnew\u001b[0m\u001b[1;33m)\u001b[0m\u001b[1;33m\u001b[0m\u001b[1;33m\u001b[0m\u001b[0m\n",
      "\u001b[1;31mTypeError\u001b[0m: unhashable type: 'list'"
     ]
    }
   ],
   "source": [
    "new = set(acs).intersection(bcs)\n",
    "print(new)"
   ]
  },
  {
   "cell_type": "code",
   "execution_count": 53,
   "metadata": {},
   "outputs": [],
   "source": [
    "thing = {(1,2),(1,3),(1,4)}"
   ]
  },
  {
   "cell_type": "code",
   "execution_count": 55,
   "metadata": {},
   "outputs": [
    {
     "name": "stdout",
     "output_type": "stream",
     "text": [
      "3\n",
      "<class 'set'>\n"
     ]
    }
   ],
   "source": [
    "print(len(thing))\n",
    "print(type(thing))"
   ]
  },
  {
   "cell_type": "code",
   "execution_count": 95,
   "metadata": {},
   "outputs": [
    {
     "ename": "TypeError",
     "evalue": "unsupported operand type(s) for %: 'NoneType' and 'int'",
     "output_type": "error",
     "traceback": [
      "\u001b[1;31m---------------------------------------------------------------------------\u001b[0m",
      "\u001b[1;31mTypeError\u001b[0m                                 Traceback (most recent call last)",
      "\u001b[1;32m<ipython-input-95-3596d653e403>\u001b[0m in \u001b[0;36m<module>\u001b[1;34m\u001b[0m\n\u001b[0;32m      1\u001b[0m \u001b[0ma\u001b[0m \u001b[1;33m=\u001b[0m \u001b[1;32mNone\u001b[0m\u001b[1;33m\u001b[0m\u001b[1;33m\u001b[0m\u001b[0m\n\u001b[0;32m      2\u001b[0m \u001b[0mb\u001b[0m \u001b[1;33m=\u001b[0m \u001b[1;36m3\u001b[0m\u001b[1;33m\u001b[0m\u001b[1;33m\u001b[0m\u001b[0m\n\u001b[1;32m----> 3\u001b[1;33m \u001b[0ma\u001b[0m \u001b[1;33m%\u001b[0m \u001b[0mb\u001b[0m\u001b[1;33m\u001b[0m\u001b[1;33m\u001b[0m\u001b[0m\n\u001b[0m",
      "\u001b[1;31mTypeError\u001b[0m: unsupported operand type(s) for %: 'NoneType' and 'int'"
     ]
    }
   ],
   "source": [
    "a = None\n",
    "b = 3\n",
    "a % b"
   ]
  },
  {
   "cell_type": "code",
   "execution_count": null,
   "metadata": {},
   "outputs": [],
   "source": []
  },
  {
   "cell_type": "code",
   "execution_count": 96,
   "metadata": {},
   "outputs": [
    {
     "ename": "TypeError",
     "evalue": "unsupported operand type(s) for %: 'int' and 'NoneType'",
     "output_type": "error",
     "traceback": [
      "\u001b[1;31m---------------------------------------------------------------------------\u001b[0m",
      "\u001b[1;31mTypeError\u001b[0m                                 Traceback (most recent call last)",
      "\u001b[1;32m<ipython-input-96-6399ae7aac1e>\u001b[0m in \u001b[0;36m<module>\u001b[1;34m\u001b[0m\n\u001b[1;32m----> 1\u001b[1;33m \u001b[0mb\u001b[0m\u001b[1;33m%\u001b[0m\u001b[0ma\u001b[0m\u001b[1;33m\u001b[0m\u001b[1;33m\u001b[0m\u001b[0m\n\u001b[0m",
      "\u001b[1;31mTypeError\u001b[0m: unsupported operand type(s) for %: 'int' and 'NoneType'"
     ]
    }
   ],
   "source": [
    "b%a"
   ]
  },
  {
   "cell_type": "code",
   "execution_count": 1,
   "metadata": {},
   "outputs": [],
   "source": [
    "import random"
   ]
  },
  {
   "cell_type": "code",
   "execution_count": 2,
   "metadata": {},
   "outputs": [
    {
     "name": "stdout",
     "output_type": "stream",
     "text": [
      "True\n",
      "True\n",
      "True\n",
      "True\n",
      "True\n",
      "True\n",
      "True\n",
      "True\n",
      "True\n",
      "True\n",
      "True\n",
      "True\n",
      "True\n",
      "True\n",
      "True\n",
      "True\n",
      "True\n",
      "True\n",
      "True\n",
      "True\n"
     ]
    }
   ],
   "source": [
    "indices = random.sample(range(500),20)\n",
    "for i,x in enumerate(indices):\n",
    "    print(x == indices[i])"
   ]
  },
  {
   "cell_type": "code",
   "execution_count": 2,
   "metadata": {},
   "outputs": [],
   "source": [
    "import numpy as np\n",
    "import tifffile\n",
    "import matplotlib.pyplot as plt\n",
    "from scipy import ndimage\n",
    "from error_algorithms import IoU\n",
    "from scipy import stats\n",
    "from scipy.ndimage import gaussian_filter\n",
    "from interpolate import linear_interpolate"
   ]
  },
  {
   "cell_type": "code",
   "execution_count": 108,
   "metadata": {},
   "outputs": [
    {
     "name": "stderr",
     "output_type": "stream",
     "text": [
      "TiffPage 0: TypeError: read_bytes() missing 3 required positional arguments: 'dtype', 'count', and 'offsetsize'\n"
     ]
    }
   ],
   "source": [
    "img = tifffile.imread(\"fluo/30x test/bernsen/synth_00001bernsen.tif\")/255\n",
    "img, num_features = ndimage.label(img, np.ones((3,3)))\n",
    "mask = tifffile.imread(\"fluo/30x test/masks/synth_00001.tif\")\n",
    "real = gaussian_filter(tifffile.imread(\"fluo/30x test/convolutions/synth_00001.tif\"),1)\n",
    "real2 = tifffile.imread(\"fluo/30x test/convolutions/synth_00001.tif\")\n",
    "#check whether IoU actually penalises for missing a whole cell"
   ]
  },
  {
   "cell_type": "code",
   "execution_count": 109,
   "metadata": {},
   "outputs": [
    {
     "data": {
      "image/png": "[encoded data removed]",
      "text/plain": [
       "<Figure size 1440x720 with 8 Axes>"
      ]
     },
     "metadata": {
      "needs_background": "light"
     },
     "output_type": "display_data"
    }
   ],
   "source": [
    "plt.rcParams[\"figure.figsize\"] = [20,10]\n",
    "fig, axs = plt.subplots(1,4)\n",
    "thing1 = axs[0].pcolor(img[::-1],cmap=\"Greys_r\")\n",
    "axs[0].set_title(\"bernsen\")\n",
    "plt.colorbar(thing1, ax=axs[0])\n",
    "thing2 = axs[1].pcolor(mask[::-1],cmap=\"Greys_r\")\n",
    "axs[1].set_title(\"mask\")\n",
    "plt.colorbar(thing2,ax=axs[1])\n",
    "thing3 = axs[2].pcolor(real[::-1],cmap=\"Greys_r\")\n",
    "axs[2].set_title(\"real\")\n",
    "plt.colorbar(thing3,ax=axs[2])\n",
    "thing4 = axs[3].pcolor(real2[::-1],cmap=\"Greys_r\")\n",
    "axs[3].set_title(\"real\")\n",
    "plt.colorbar(thing4,ax=axs[3])\n",
    "plt.show()"
   ]
  },
  {
   "cell_type": "code",
   "execution_count": 101,
   "metadata": {},
   "outputs": [
    {
     "data": {
      "text/plain": [
       "(array([[ 93, 109],\n",
       "        [ 72,  89],\n",
       "        [ 92, 118]]),\n",
       " 0.8139535967228028)"
      ]
     },
     "execution_count": 101,
     "metadata": {},
     "output_type": "execute_result"
    }
   ],
   "source": [
    "arr = IoU(mask,img)\n",
    "arr, np.mean(arr[:,0]/arr[:,1])"
   ]
  },
  {
   "cell_type": "code",
   "execution_count": 3,
   "metadata": {},
   "outputs": [],
   "source": [
    "import os\n",
    "import shutil"
   ]
  },
  {
   "cell_type": "code",
   "execution_count": 111,
   "metadata": {},
   "outputs": [
    {
     "name": "stdout",
     "output_type": "stream",
     "text": [
      "100x test\n",
      "20x test\n",
      "25x test\n",
      "30x test\n",
      "35x test\n",
      "40x test\n",
      "60x test\n"
     ]
    }
   ],
   "source": [
    "for dir in os.listdir(\"omnipose_SyMBac_TD_fl\"):\n",
    "    if \"x test\" in dir:\n",
    "        print(dir)\n",
    "        os.mkdir(\"omnipose_SyMBac_TD_fl/\"+dir+\"/otsu\")\n",
    "        os.mkdir(\"omnipose_SyMBac_TD_fl/\"+dir+\"/bernsen\")\n",
    "        os.mkdir(\"omnipose_SyMBac_TD_fl/\"+dir+\"/watershed\")"
   ]
  },
  {
   "cell_type": "code",
   "execution_count": 114,
   "metadata": {},
   "outputs": [
    {
     "data": {
      "text/plain": [
       "['bernsen',\n",
       " 'convolutions',\n",
       " 'masks',\n",
       " 'omnipose segmentations',\n",
       " 'otsu',\n",
       " 'stardist',\n",
       " 'watershed']"
      ]
     },
     "execution_count": 114,
     "metadata": {},
     "output_type": "execute_result"
    }
   ],
   "source": [
    "os.listdir(\"omnipose_SyMBac_TD_fl/100x test/\")"
   ]
  },
  {
   "cell_type": "code",
   "execution_count": 123,
   "metadata": {},
   "outputs": [
    {
     "name": "stdout",
     "output_type": "stream",
     "text": [
      "100x test\n",
      "20x test\n",
      "25x test\n",
      "30x test\n",
      "35x test\n",
      "40x test\n",
      "60x test\n"
     ]
    }
   ],
   "source": [
    "name = \"fluo\"\n",
    "for dir in os.listdir(name):\n",
    "    if \"x test\" in dir:\n",
    "        print(dir)\n",
    "        for file in os.listdir(name+\"/\"+dir+\"/bernsen\"):\n",
    "            if \"watershed\" in file:\n",
    "                shutil.move(name+\"/\"+dir+\"/bernsen/\"+file,name+\"/\"+dir+\"/watershed/\"+file)"
   ]
  },
  {
   "cell_type": "code",
   "execution_count": 6,
   "metadata": {},
   "outputs": [
    {
     "name": "stdout",
     "output_type": "stream",
     "text": [
      "100x test\n"
     ]
    },
    {
     "ename": "AttributeError",
     "evalue": "module 'os' has no attribute 'mv'",
     "output_type": "error",
     "traceback": [
      "\u001b[1;31m---------------------------------------------------------------------------\u001b[0m",
      "\u001b[1;31mAttributeError\u001b[0m                            Traceback (most recent call last)",
      "\u001b[1;32m<ipython-input-6-7e9090869c96>\u001b[0m in \u001b[0;36m<module>\u001b[1;34m\u001b[0m\n\u001b[0;32m      3\u001b[0m     \u001b[1;32mif\u001b[0m \u001b[1;34m\"x test\"\u001b[0m \u001b[1;32min\u001b[0m \u001b[0mdir\u001b[0m\u001b[1;33m:\u001b[0m\u001b[1;33m\u001b[0m\u001b[1;33m\u001b[0m\u001b[0m\n\u001b[0;32m      4\u001b[0m         \u001b[0mprint\u001b[0m\u001b[1;33m(\u001b[0m\u001b[0mdir\u001b[0m\u001b[1;33m)\u001b[0m\u001b[1;33m\u001b[0m\u001b[1;33m\u001b[0m\u001b[0m\n\u001b[1;32m----> 5\u001b[1;33m         \u001b[0mos\u001b[0m\u001b[1;33m.\u001b[0m\u001b[0mmv\u001b[0m\u001b[1;33m(\u001b[0m\u001b[0mname\u001b[0m\u001b[1;33m+\u001b[0m\u001b[0mdir\u001b[0m\u001b[1;33m+\u001b[0m\u001b[1;34m\"/\"\u001b[0m\u001b[1;33m+\u001b[0m\u001b[0mdir\u001b[0m\u001b[1;33m[\u001b[0m\u001b[1;33m:\u001b[0m\u001b[1;36m4\u001b[0m\u001b[1;33m]\u001b[0m\u001b[1;33m+\u001b[0m\u001b[1;34m\"blur\"\u001b[0m\u001b[1;33m,\u001b[0m\u001b[0mname\u001b[0m\u001b[1;33m+\u001b[0m\u001b[1;34m\"/\"\u001b[0m\u001b[1;33m+\u001b[0m\u001b[0mdir\u001b[0m\u001b[1;33m[\u001b[0m\u001b[1;33m:\u001b[0m\u001b[1;36m4\u001b[0m\u001b[1;33m]\u001b[0m\u001b[1;33m+\u001b[0m\u001b[1;34m\"blur\"\u001b[0m\u001b[1;33m)\u001b[0m\u001b[1;33m\u001b[0m\u001b[1;33m\u001b[0m\u001b[0m\n\u001b[0m",
      "\u001b[1;31mAttributeError\u001b[0m: module 'os' has no attribute 'mv'"
     ]
    }
   ],
   "source": [
    "name = \"fluo/\"\n",
    "for dir in os.listdir(name):\n",
    "    if \"x test\" in dir:\n",
    "        print(dir)\n",
    "        os.mv(name+dir+\"/\"+dir[:4]+\"blur\",name+\"/\"+dir[:4]+\"blur\")"
   ]
  },
  {
   "cell_type": "code",
   "execution_count": 16,
   "metadata": {},
   "outputs": [],
   "source": [
    "from PIL import Image"
   ]
  },
  {
   "cell_type": "code",
   "execution_count": 18,
   "metadata": {},
   "outputs": [],
   "source": [
    "name = \"fluo/\"\n",
    "for dir in os.listdir(name):\n",
    "    if \"x test\" in dir:\n",
    "        newdir = name+dir[:4]+\"blur/\"\n",
    "        try:\n",
    "            os.mkdir(newdir)\n",
    "            os.mkdir(newdir+\"convolutions\")\n",
    "            os.mkdir(newdir+\"masks\")\n",
    "            os.mkdir(newdir+\"watershed\")\n",
    "            os.mkdir(newdir+\"bernsen\")\n",
    "            os.mkdir(newdir+\"otsu\")\n",
    "        except:\n",
    "            pass\n",
    "        for file in os.listdir(name+dir+\"/convolutions\"):\n",
    "            img = tifffile.imread(name+dir+\"/convolutions/\"+file)\n",
    "            mask = tifffile.imread(name+dir+\"/masks/\"+file)\n",
    "            if \"20\" in dir:\n",
    "                img = linear_interpolate(gaussian_filter(img,2.2),(256//(100/20),46//(100/20)))\n",
    "                mask = linear_interpolate(mask,(mask.shape[0]//(100/20),mask.shape[1]//(100/20)))\n",
    "            elif \"25\" in dir:\n",
    "                img = linear_interpolate(gaussian_filter(img,2),(256//(100/25),46//(100/25)))\n",
    "                mask = linear_interpolate(mask,(mask.shape[0]//(100/25),mask.shape[1]//(100/25)))\n",
    "            elif \"30\" in dir:\n",
    "                img = linear_interpolate(gaussian_filter(img,1.8),(256//(100/30),46//(100/30)))\n",
    "                mask = linear_interpolate(mask,(mask.shape[0]//(100/30),mask.shape[1]//(100/30)))\n",
    "            elif \"35\" in dir:\n",
    "                img = linear_interpolate(gaussian_filter(img,1.6),(256//(100/35),46//(100/35)))\n",
    "                mask = linear_interpolate(mask,(mask.shape[0]//(100/35),mask.shape[1]//(100/35)))\n",
    "            elif \"40\" in dir:\n",
    "                img = linear_interpolate(gaussian_filter(img,1.4),(256//(100/40),46//(100/40)))\n",
    "                mask = linear_interpolate(mask,(mask.shape[0]//(100/40),mask.shape[1]//(100/40)))\n",
    "            elif \"60\" in dir:\n",
    "                img = linear_interpolate(gaussian_filter(img,1.2),(256//(100/60),46//(100/60)))\n",
    "                mask = linear_interpolate(mask,(mask.shape[0]//(100/60),mask.shape[1]//(100/60)))\n",
    "            elif \"100\" in dir:\n",
    "                img = linear_interpolate(gaussian_filter(img,1),(256//(100/100),46//(100/100)))\n",
    "                mask = linear_interpolate(mask,(mask.shape[0]//(100/100),mask.shape[1]//(100/100)))\n",
    "            img = Image.fromarray(img)\n",
    "            img.save(newdir+\"convolutions/\"+file)\n",
    "            mask = Image.fromarray(mask)\n",
    "            mask.save(newdir+\"masks/\"+file)"
   ]
  },
  {
   "cell_type": "code",
   "execution_count": 117,
   "metadata": {},
   "outputs": [
    {
     "ename": "TypeError",
     "evalue": "'str' object does not support item assignment",
     "output_type": "error",
     "traceback": [
      "\u001b[1;31m---------------------------------------------------------------------------\u001b[0m",
      "\u001b[1;31mTypeError\u001b[0m                                 Traceback (most recent call last)",
      "\u001b[1;32m<ipython-input-117-4deafc72fa6e>\u001b[0m in \u001b[0;36m<module>\u001b[1;34m\u001b[0m\n\u001b[0;32m      1\u001b[0m \u001b[0ms\u001b[0m \u001b[1;33m=\u001b[0m \u001b[1;34m\"abcde\"\u001b[0m\u001b[1;33m\u001b[0m\u001b[1;33m\u001b[0m\u001b[0m\n\u001b[1;32m----> 2\u001b[1;33m \u001b[0ms\u001b[0m\u001b[1;33m[\u001b[0m\u001b[1;36m3\u001b[0m\u001b[1;33m]\u001b[0m \u001b[1;33m=\u001b[0m \u001b[1;34m\"f\"\u001b[0m\u001b[1;33m\u001b[0m\u001b[1;33m\u001b[0m\u001b[0m\n\u001b[0m",
      "\u001b[1;31mTypeError\u001b[0m: 'str' object does not support item assignment"
     ]
    }
   ],
   "source": [
    "s = \"abcde\"\n",
    "s[3] = \"f\""
   ]
  },
  {
   "cell_type": "code",
   "execution_count": 14,
   "metadata": {},
   "outputs": [
    {
     "data": {
      "text/plain": [
       "True"
      ]
     },
     "execution_count": 14,
     "metadata": {},
     "output_type": "execute_result"
    }
   ],
   "source": [
    "None!=3"
   ]
  },
  {
   "cell_type": "code",
   "execution_count": null,
   "metadata": {},
   "outputs": [],
   "source": []
  }
 ],
 "metadata": {
  "kernelspec": {
   "display_name": "base",
   "language": "python",
   "name": "python3"
  },
  "language_info": {
   "codemirror_mode": {
    "name": "ipython",
    "version": 3
   },
   "file_extension": ".py",
   "mimetype": "text/x-python",
   "name": "python",
   "nbconvert_exporter": "python",
   "pygments_lexer": "ipython3",
   "version": "3.8.5"
  },
  "orig_nbformat": 4,
  "vscode": {
   "interpreter": {
    "hash": "dee8ab342ce38b164b27f9682aaabdbf982a316efec4f3d81f33bcb5965b210c"
   }
  }
 },
 "nbformat": 4,
 "nbformat_minor": 2
}
