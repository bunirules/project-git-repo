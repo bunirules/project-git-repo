{
 "cells": [
  {
   "cell_type": "code",
   "execution_count": 1,
   "metadata": {},
   "outputs": [],
   "source": [
    "%load_ext autoreload\n",
    "%autoreload 2"
   ]
  },
  {
   "cell_type": "code",
   "execution_count": 2,
   "metadata": {},
   "outputs": [],
   "source": [
    "import numpy as np\n",
    "from error_algorithms import IoU\n",
    "from error_algorithms import segmentation_accuracy\n",
    "from SyMBac.misc import misc_load_img\n",
    "import tifffile\n",
    "import matplotlib.pyplot as plt\n",
    "import os\n",
    "import sys\n",
    "from PIL import Image"
   ]
  },
  {
   "attachments": {},
   "cell_type": "markdown",
   "metadata": {},
   "source": [
    "# 100x"
   ]
  },
  {
   "cell_type": "code",
   "execution_count": 4,
   "metadata": {},
   "outputs": [
    {
     "name": "stderr",
     "output_type": "stream",
     "text": [
      "c:\\Users\\robho\\OneDrive\\Desktop\\Uni Work\\Year 4\\project2\\error_algorithms.py:143: FutureWarning: Unlike other reduction functions (e.g. `skew`, `kurtosis`), the default behavior of `mode` typically preserves the axis it acts along. In SciPy 1.11.0, this behavior will change: the default value of `keepdims` will become False, the `axis` over which the statistic is taken will be eliminated, and the value None will no longer be accepted. Set `keepdims` to True or False to avoid this warning.\n",
      "  equivalent_value = stats.mode(test_area)[0][0]\n",
      "c:\\Users\\robho\\anaconda3\\envs\\symbac5\\lib\\site-packages\\numpy\\core\\fromnumeric.py:3432: RuntimeWarning: Mean of empty slice.\n",
      "  return _methods._mean(a, axis=axis, dtype=dtype,\n",
      "c:\\Users\\robho\\anaconda3\\envs\\symbac5\\lib\\site-packages\\numpy\\core\\_methods.py:190: RuntimeWarning: invalid value encountered in double_scalars\n",
      "  ret = ret.dtype.type(ret / rcount)\n"
     ]
    }
   ],
   "source": [
    "directory = \"C:/Users/robho/OneDrive/Desktop/Uni Work/Year 4/project2/omnipose_SyMBac_TD_fl/100x test\"\n",
    "outlist = []\n",
    "idlist = []\n",
    "for i in range(len(os.listdir(directory+\"/masks\"))):\n",
    "    mask = np.array(Image.open(directory+\"/masks/test_\"+str(i).zfill(5)+\"_masks.png\"))\n",
    "    seg = np.array(Image.open(directory+\"/omnipose segmentations/mask_\"+str(i).zfill(5)+\".png\"))\n",
    "    width = mask.shape[1]//40\n",
    "    height = mask.shape[0]\n",
    "    for j in range(40):\n",
    "        maskj = mask[:,width*j:width*(j+1)]\n",
    "        segj = seg[:,width*j:width*(j+1)]\n",
    "        outlist.append(IoU(maskj,segj))\n",
    "        idlist.append(segmentation_accuracy(maskj,[segj],min_dist=int(np.round(np.sqrt(height*width/(100*np.pi)))),lb=0.1,ub=10))"
   ]
  },
  {
   "cell_type": "code",
   "execution_count": 5,
   "metadata": {},
   "outputs": [],
   "source": [
    "perclist100 = []\n",
    "for out in outlist:\n",
    "    for a,b in out:\n",
    "        perclist100.append(a/b)"
   ]
  },
  {
   "cell_type": "code",
   "execution_count": 6,
   "metadata": {},
   "outputs": [
    {
     "name": "stdout",
     "output_type": "stream",
     "text": [
      "0.9958041958041958\n"
     ]
    },
    {
     "data": {
      "text/plain": [
       "<function matplotlib.pyplot.show(close=None, block=None)>"
      ]
     },
     "execution_count": 6,
     "metadata": {},
     "output_type": "execute_result"
    },
    {
     "data": {
      "image/png": "[encoded data removed]",
      "text/plain": [
       "<Figure size 640x480 with 1 Axes>"
      ]
     },
     "metadata": {},
     "output_type": "display_data"
    }
   ],
   "source": [
    "idlist100 = np.array(idlist)\n",
    "percarr100 = np.array(perclist100)\n",
    "# print(np.argsort(percarr100))\n",
    "print(np.max(percarr100))\n",
    "plt.plot(np.sort(percarr100))\n",
    "plt.show"
   ]
  },
  {
   "cell_type": "code",
   "execution_count": 7,
   "metadata": {},
   "outputs": [
    {
     "name": "stdout",
     "output_type": "stream",
     "text": [
      "0.97625\n"
     ]
    },
    {
     "data": {
      "text/plain": [
       "0.9563233811865741"
      ]
     },
     "execution_count": 7,
     "metadata": {},
     "output_type": "execute_result"
    }
   ],
   "source": [
    "print(np.mean(idlist100))\n",
    "np.mean(percarr100)"
   ]
  },
  {
   "attachments": {},
   "cell_type": "markdown",
   "metadata": {},
   "source": [
    "# 60x"
   ]
  },
  {
   "cell_type": "code",
   "execution_count": 8,
   "metadata": {},
   "outputs": [
    {
     "name": "stderr",
     "output_type": "stream",
     "text": [
      "c:\\Users\\robho\\OneDrive\\Desktop\\Uni Work\\Year 4\\project2\\error_algorithms.py:143: FutureWarning: Unlike other reduction functions (e.g. `skew`, `kurtosis`), the default behavior of `mode` typically preserves the axis it acts along. In SciPy 1.11.0, this behavior will change: the default value of `keepdims` will become False, the `axis` over which the statistic is taken will be eliminated, and the value None will no longer be accepted. Set `keepdims` to True or False to avoid this warning.\n",
      "  equivalent_value = stats.mode(test_area)[0][0]\n",
      "c:\\Users\\robho\\anaconda3\\envs\\symbac5\\lib\\site-packages\\numpy\\core\\fromnumeric.py:3432: RuntimeWarning: Mean of empty slice.\n",
      "  return _methods._mean(a, axis=axis, dtype=dtype,\n",
      "c:\\Users\\robho\\anaconda3\\envs\\symbac5\\lib\\site-packages\\numpy\\core\\_methods.py:190: RuntimeWarning: invalid value encountered in double_scalars\n",
      "  ret = ret.dtype.type(ret / rcount)\n"
     ]
    }
   ],
   "source": [
    "directory = \"C:/Users/robho/OneDrive/Desktop/Uni Work/Year 4/project2/omnipose_SyMBac_TD_fl/60x test\"\n",
    "outlist = []\n",
    "idlist = []\n",
    "for i in range(len(os.listdir(directory+\"/masks\"))):\n",
    "    mask = np.array(Image.open(directory+\"/masks/test_\"+str(i).zfill(5)+\"_masks.png\"))\n",
    "    seg = np.array(Image.open(directory+\"/omnipose segmentations/mask_\"+str(i).zfill(5)+\".png\"))\n",
    "    width = mask.shape[1]//40\n",
    "    height = mask.shape[0]\n",
    "    for j in range(40):\n",
    "        maskj = mask[:,width*j:width*(j+1)]\n",
    "        segj = seg[:,width*j:width*(j+1)]\n",
    "        outlist.append(IoU(maskj,segj))\n",
    "        idlist.append(segmentation_accuracy(maskj,[segj],min_dist=int(np.round(np.sqrt(height*width/(100*np.pi)))),lb=0.1,ub=10))"
   ]
  },
  {
   "cell_type": "code",
   "execution_count": 9,
   "metadata": {},
   "outputs": [],
   "source": [
    "perclist60 = []\n",
    "for out in outlist:\n",
    "    for a,b in out:\n",
    "        perclist60.append(a/b)"
   ]
  },
  {
   "cell_type": "code",
   "execution_count": 10,
   "metadata": {},
   "outputs": [
    {
     "name": "stdout",
     "output_type": "stream",
     "text": [
      "0.99581589958159\n"
     ]
    },
    {
     "data": {
      "image/png": "[encoded data removed]",
      "text/plain": [
       "<Figure size 640x480 with 1 Axes>"
      ]
     },
     "metadata": {},
     "output_type": "display_data"
    }
   ],
   "source": [
    "idlist60 = np.array(idlist)\n",
    "percarr60 = np.array(perclist60)\n",
    "print(np.max(percarr60))\n",
    "plt.plot(np.sort(percarr60))\n",
    "plt.show()"
   ]
  },
  {
   "cell_type": "code",
   "execution_count": 11,
   "metadata": {},
   "outputs": [
    {
     "name": "stdout",
     "output_type": "stream",
     "text": [
      "0.9510625\n"
     ]
    },
    {
     "data": {
      "text/plain": [
       "0.9376935549320867"
      ]
     },
     "execution_count": 11,
     "metadata": {},
     "output_type": "execute_result"
    }
   ],
   "source": [
    "print(np.mean(idlist60))\n",
    "np.mean(percarr60)"
   ]
  },
  {
   "attachments": {},
   "cell_type": "markdown",
   "metadata": {},
   "source": [
    "# 40x"
   ]
  },
  {
   "cell_type": "code",
   "execution_count": 12,
   "metadata": {},
   "outputs": [
    {
     "name": "stderr",
     "output_type": "stream",
     "text": [
      "c:\\Users\\robho\\OneDrive\\Desktop\\Uni Work\\Year 4\\project2\\error_algorithms.py:143: FutureWarning: Unlike other reduction functions (e.g. `skew`, `kurtosis`), the default behavior of `mode` typically preserves the axis it acts along. In SciPy 1.11.0, this behavior will change: the default value of `keepdims` will become False, the `axis` over which the statistic is taken will be eliminated, and the value None will no longer be accepted. Set `keepdims` to True or False to avoid this warning.\n",
      "  equivalent_value = stats.mode(test_area)[0][0]\n",
      "c:\\Users\\robho\\anaconda3\\envs\\symbac5\\lib\\site-packages\\numpy\\core\\fromnumeric.py:3432: RuntimeWarning: Mean of empty slice.\n",
      "  return _methods._mean(a, axis=axis, dtype=dtype,\n",
      "c:\\Users\\robho\\anaconda3\\envs\\symbac5\\lib\\site-packages\\numpy\\core\\_methods.py:190: RuntimeWarning: invalid value encountered in double_scalars\n",
      "  ret = ret.dtype.type(ret / rcount)\n"
     ]
    }
   ],
   "source": [
    "directory = \"C:/Users/robho/OneDrive/Desktop/Uni Work/Year 4/project2/omnipose_SyMBac_TD_fl/40x test\"\n",
    "outlist = []\n",
    "idlist = []\n",
    "for i in range(len(os.listdir(directory+\"/masks\"))):\n",
    "    mask = np.array(Image.open(directory+\"/masks/test_\"+str(i).zfill(5)+\"_masks.png\"))\n",
    "    seg = np.array(Image.open(directory+\"/omnipose segmentations/mask_\"+str(i).zfill(5)+\".png\"))\n",
    "    width = mask.shape[1]//40\n",
    "    height = mask.shape[0]\n",
    "    for j in range(40):\n",
    "        maskj = mask[:,width*j:width*(j+1)]\n",
    "        segj = seg[:,width*j:width*(j+1)]\n",
    "        outlist.append(IoU(maskj,segj))\n",
    "        idlist.append(segmentation_accuracy(maskj,[segj],min_dist=int(np.round(np.sqrt(height*width/(100*np.pi)))),lb=0.1,ub=10))"
   ]
  },
  {
   "cell_type": "code",
   "execution_count": 13,
   "metadata": {},
   "outputs": [],
   "source": [
    "perclist40 = []\n",
    "for out in outlist:\n",
    "    for a,b in out:\n",
    "        perclist40.append(a/b)"
   ]
  },
  {
   "cell_type": "code",
   "execution_count": 14,
   "metadata": {},
   "outputs": [
    {
     "data": {
      "text/plain": [
       "(1380,)"
      ]
     },
     "execution_count": 14,
     "metadata": {},
     "output_type": "execute_result"
    }
   ],
   "source": [
    "idlist40 = np.array(idlist)\n",
    "percarr40 = np.array(perclist40)\n",
    "percarr40.shape"
   ]
  },
  {
   "cell_type": "code",
   "execution_count": 15,
   "metadata": {},
   "outputs": [
    {
     "name": "stdout",
     "output_type": "stream",
     "text": [
      "0.910625\n"
     ]
    },
    {
     "data": {
      "text/plain": [
       "0.9076305971849199"
      ]
     },
     "execution_count": 15,
     "metadata": {},
     "output_type": "execute_result"
    }
   ],
   "source": [
    "print(np.mean(idlist40))\n",
    "np.mean(percarr40)"
   ]
  },
  {
   "attachments": {},
   "cell_type": "markdown",
   "metadata": {},
   "source": [
    "# 35x"
   ]
  },
  {
   "cell_type": "code",
   "execution_count": 16,
   "metadata": {},
   "outputs": [],
   "source": [
    "directory = \"C:/Users/robho/OneDrive/Desktop/Uni Work/Year 4/project2/omnipose_SyMBac_TD_fl/35x test\"\n",
    "outlist = []\n",
    "idlist = []\n",
    "for i in range(len(os.listdir(directory+\"/masks\"))):\n",
    "    mask = np.array(Image.open(directory+\"/masks/test_\"+str(i).zfill(5)+\"_masks.png\"))\n",
    "    seg = np.array(Image.open(directory+\"/omnipose segmentations/mask_\"+str(i).zfill(5)+\".png\"))\n",
    "    width = mask.shape[1]//40\n",
    "    height = mask.shape[0]\n",
    "    for j in range(40):\n",
    "        maskj = mask[:,width*j:width*(j+1)]\n",
    "        segj = seg[:,width*j:width*(j+1)]\n",
    "        outlist.append(IoU(maskj,segj))\n",
    "        idlist.append(segmentation_accuracy(maskj,[segj],min_dist=int(np.round(np.sqrt(height*width/(100*np.pi)))),lb=0.1,ub=10))"
   ]
  },
  {
   "cell_type": "code",
   "execution_count": 17,
   "metadata": {},
   "outputs": [],
   "source": [
    "perclist35 = []\n",
    "for out in outlist:\n",
    "    for a,b in out:\n",
    "        perclist35.append(a/b)"
   ]
  },
  {
   "cell_type": "code",
   "execution_count": 18,
   "metadata": {},
   "outputs": [
    {
     "data": {
      "text/plain": [
       "(1320,)"
      ]
     },
     "execution_count": 18,
     "metadata": {},
     "output_type": "execute_result"
    }
   ],
   "source": [
    "idlist35 = np.array(idlist)\n",
    "percarr35 = np.array(perclist35)\n",
    "percarr35.shape"
   ]
  },
  {
   "cell_type": "code",
   "execution_count": 19,
   "metadata": {},
   "outputs": [
    {
     "name": "stdout",
     "output_type": "stream",
     "text": [
      "0.9316666666666665\n"
     ]
    },
    {
     "data": {
      "text/plain": [
       "0.881359675317439"
      ]
     },
     "execution_count": 19,
     "metadata": {},
     "output_type": "execute_result"
    }
   ],
   "source": [
    "print(np.mean(idlist35))\n",
    "np.mean(percarr35)"
   ]
  },
  {
   "attachments": {},
   "cell_type": "markdown",
   "metadata": {},
   "source": [
    "# 30x"
   ]
  },
  {
   "cell_type": "code",
   "execution_count": 20,
   "metadata": {},
   "outputs": [],
   "source": [
    "directory = \"C:/Users/robho/OneDrive/Desktop/Uni Work/Year 4/project2/omnipose_SyMBac_TD_fl/30x test\"\n",
    "outlist = []\n",
    "idlist = []\n",
    "for i in range(len(os.listdir(directory+\"/masks\"))):\n",
    "    mask = np.array(Image.open(directory+\"/masks/test_\"+str(i).zfill(5)+\"_masks.png\"))\n",
    "    seg = np.array(Image.open(directory+\"/omnipose segmentations/mask_\"+str(i).zfill(5)+\".png\"))\n",
    "    width = mask.shape[1]//40\n",
    "    height = mask.shape[0]\n",
    "    for j in range(40):\n",
    "        maskj = mask[:,width*j:width*(j+1)]\n",
    "        segj = seg[:,width*j:width*(j+1)]\n",
    "        outlist.append(IoU(maskj,segj))\n",
    "        idlist.append(segmentation_accuracy(maskj,[segj],min_dist=int(np.round(np.sqrt(height*width/(100*np.pi)))),lb=0.1,ub=10))"
   ]
  },
  {
   "cell_type": "code",
   "execution_count": 21,
   "metadata": {},
   "outputs": [],
   "source": [
    "perclist30 = []\n",
    "for out in outlist:\n",
    "    for a,b in out:\n",
    "        perclist30.append(a/b)"
   ]
  },
  {
   "cell_type": "code",
   "execution_count": 22,
   "metadata": {},
   "outputs": [
    {
     "data": {
      "text/plain": [
       "(1347,)"
      ]
     },
     "execution_count": 22,
     "metadata": {},
     "output_type": "execute_result"
    }
   ],
   "source": [
    "idlist30 = np.array(idlist)\n",
    "percarr30 = np.array(perclist30)\n",
    "percarr30.shape"
   ]
  },
  {
   "cell_type": "code",
   "execution_count": 23,
   "metadata": {},
   "outputs": [
    {
     "name": "stdout",
     "output_type": "stream",
     "text": [
      "0.9039583333333334\n"
     ]
    },
    {
     "data": {
      "text/plain": [
       "0.8747788945422776"
      ]
     },
     "execution_count": 23,
     "metadata": {},
     "output_type": "execute_result"
    }
   ],
   "source": [
    "print(np.mean(idlist30))\n",
    "np.mean(percarr30)"
   ]
  },
  {
   "attachments": {},
   "cell_type": "markdown",
   "metadata": {},
   "source": [
    "# 25x"
   ]
  },
  {
   "cell_type": "code",
   "execution_count": 24,
   "metadata": {},
   "outputs": [],
   "source": [
    "directory = \"C:/Users/robho/OneDrive/Desktop/Uni Work/Year 4/project2/omnipose_SyMBac_TD_fl/25x test\"\n",
    "outlist = []\n",
    "idlist = []\n",
    "for i in range(len(os.listdir(directory+\"/masks\"))):\n",
    "    mask = np.array(Image.open(directory+\"/masks/test_\"+str(i).zfill(5)+\"_masks.png\"))\n",
    "    seg = np.array(Image.open(directory+\"/omnipose segmentations/mask_\"+str(i).zfill(5)+\".png\"))\n",
    "    width = mask.shape[1]//40\n",
    "    height = mask.shape[0]\n",
    "    for j in range(40):\n",
    "        maskj = mask[:,width*j:width*(j+1)]\n",
    "        segj = seg[:,width*j:width*(j+1)]\n",
    "        outlist.append(IoU(maskj,segj))\n",
    "        idlist.append(segmentation_accuracy(maskj,[segj],min_dist=int(np.round(np.sqrt(height*width/(100*np.pi)))),lb=0.1,ub=10))"
   ]
  },
  {
   "cell_type": "code",
   "execution_count": 25,
   "metadata": {},
   "outputs": [],
   "source": [
    "perclist25 = []\n",
    "for out in outlist:\n",
    "    for a,b in out:\n",
    "        perclist25.append(a/b)"
   ]
  },
  {
   "cell_type": "code",
   "execution_count": 26,
   "metadata": {},
   "outputs": [
    {
     "data": {
      "text/plain": [
       "(1316,)"
      ]
     },
     "execution_count": 26,
     "metadata": {},
     "output_type": "execute_result"
    }
   ],
   "source": [
    "idlist25 = np.array(idlist)\n",
    "percarr25 = np.array(perclist25)\n",
    "percarr25.shape"
   ]
  },
  {
   "cell_type": "code",
   "execution_count": 27,
   "metadata": {},
   "outputs": [
    {
     "name": "stdout",
     "output_type": "stream",
     "text": [
      "0.8245833333333334\n"
     ]
    },
    {
     "data": {
      "text/plain": [
       "0.8098346080844339"
      ]
     },
     "execution_count": 27,
     "metadata": {},
     "output_type": "execute_result"
    }
   ],
   "source": [
    "print(np.mean(idlist25))\n",
    "np.mean(percarr25)"
   ]
  },
  {
   "attachments": {},
   "cell_type": "markdown",
   "metadata": {},
   "source": [
    "# 20x"
   ]
  },
  {
   "cell_type": "code",
   "execution_count": 4,
   "metadata": {},
   "outputs": [],
   "source": [
    "directory = \"C:/Users/robho/OneDrive/Desktop/Uni Work/Year 4/project2/omnipose_SyMBac_TD_fl/20x test\"\n",
    "outlist = []\n",
    "idlist = []\n",
    "for i in range(len(os.listdir(directory+\"/masks\"))):\n",
    "    mask = np.array(Image.open(directory+\"/masks/test_\"+str(i).zfill(5)+\"_masks.png\"))\n",
    "    seg = np.array(Image.open(directory+\"/omnipose segmentations/mask_\"+str(i).zfill(5)+\".png\"))\n",
    "    width = mask.shape[1]//40\n",
    "    height = mask.shape[0]\n",
    "    for j in range(40):\n",
    "        maskj = mask[:,width*j:width*(j+1)]\n",
    "        segj = seg[:,width*j:width*(j+1)]\n",
    "        outlist.append(IoU(maskj,segj))\n",
    "        idlist.append(segmentation_accuracy(maskj,[segj],min_dist=int(np.round(np.sqrt(height*width/(100*np.pi)))),lb=0.1,ub=10))"
   ]
  },
  {
   "cell_type": "code",
   "execution_count": 5,
   "metadata": {},
   "outputs": [],
   "source": [
    "perclist20 = []\n",
    "for out in outlist:\n",
    "    for a,b in out:\n",
    "        perclist20.append(a/b)"
   ]
  },
  {
   "cell_type": "code",
   "execution_count": 6,
   "metadata": {},
   "outputs": [
    {
     "data": {
      "text/plain": [
       "(1335,)"
      ]
     },
     "execution_count": 6,
     "metadata": {},
     "output_type": "execute_result"
    }
   ],
   "source": [
    "idlist20 = np.array(idlist)\n",
    "percarr20 = np.array(perclist20)\n",
    "percarr20.shape"
   ]
  },
  {
   "cell_type": "code",
   "execution_count": 7,
   "metadata": {},
   "outputs": [
    {
     "name": "stdout",
     "output_type": "stream",
     "text": [
      "0.7345833333333335\n"
     ]
    },
    {
     "data": {
      "text/plain": [
       "0.5492873852368559"
      ]
     },
     "execution_count": 7,
     "metadata": {},
     "output_type": "execute_result"
    }
   ],
   "source": [
    "print(np.mean(idlist20))\n",
    "np.mean(percarr20)"
   ]
  },
  {
   "cell_type": "code",
   "execution_count": 32,
   "metadata": {},
   "outputs": [],
   "source": [
    "xx = [20,25,30,35,40,60,100]\n",
    "yy1 = [np.mean(percarr20),np.mean(percarr25),np.mean(percarr30),\n",
    "      np.mean(percarr35), np.mean(percarr40),np.mean(percarr60),\n",
    "      np.mean(percarr100)]\n",
    "yerr1 = [np.std(percarr20),np.std(percarr25),np.std(percarr30),\n",
    "       np.std(percarr35),np.std(percarr40),np.std(percarr60),\n",
    "       np.std(percarr100)]\n",
    "yy2 = [np.mean(idlist20),np.mean(idlist25),np.mean(idlist30),\n",
    "       np.mean(idlist35),np.mean(idlist40),np.mean(idlist60),\n",
    "       np.mean(idlist100)]\n",
    "yerr2 = [np.std(idlist20),np.std(idlist25),np.std(idlist30),\n",
    "       np.std(idlist35),np.std(idlist40),np.std(idlist60),\n",
    "       np.std(idlist100)]"
   ]
  },
  {
   "cell_type": "code",
   "execution_count": 33,
   "metadata": {},
   "outputs": [
    {
     "name": "stdout",
     "output_type": "stream",
     "text": [
      "[0.5492873852368559, 0.8098346080844339, 0.8747788945422776, 0.881359675317439, 0.9076305971849199, 0.9376935549320867, 0.9563233811865741]\n",
      "[0.28625493952177417, 0.1514439261406357, 0.12479522586979702, 0.11420689269020612, 0.12381686118780141, 0.10647715688246623, 0.07271896570044278]\n"
     ]
    }
   ],
   "source": [
    "print(yy1)\n",
    "print(yerr1)"
   ]
  },
  {
   "cell_type": "code",
   "execution_count": 34,
   "metadata": {},
   "outputs": [
    {
     "data": {
      "image/png": "[encoded data removed]",
      "text/plain": [
       "<Figure size 1400x400 with 1 Axes>"
      ]
     },
     "metadata": {},
     "output_type": "display_data"
    }
   ],
   "source": [
    "plt.rcParams[\"figure.figsize\"] = [14,4]\n",
    "plt.plot([15,105],[1,1],color='black',linewidth=0.6)\n",
    "plt.plot([15,105],[0.8,0.8],color='black',linewidth=0.6)\n",
    "plt.plot([15,105],[0.6,0.6],color='black',linewidth=0.6)\n",
    "plt.plot([15,105],[0.4,0.4],color='black',linewidth=0.6)\n",
    "plt.plot([15,105],[0.2,0.2],color='black',linewidth=0.6)\n",
    "plt.plot([15,105],[0.9,0.9],color='black',linewidth=0.6)\n",
    "plt.plot([15,105],[0.7,0.7],color='black',linewidth=0.6)\n",
    "plt.plot([15,105],[0.5,0.5],color='black',linewidth=0.6)\n",
    "plt.errorbar(xx,yy2,yerr2,ecolor='darkgreen',elinewidth=0.6,capsize=3,marker='x',label='ID accuracy',color='C2')\n",
    "plt.errorbar(xx,yy1,yerr1,ecolor='darkblue',elinewidth=0.6,capsize=3,marker='x',label='IoU accuracy')\n",
    "plt.title(\"ID accuracy and IoU segmentation accuracy for SyMBac fluorescence images using Omnipose models trained on SyMBac\")\n",
    "plt.xlabel(\"objective magnification\")\n",
    "plt.ylabel(\"IoU accuracy\")\n",
    "plt.xlim(15,105)\n",
    "plt.ylim(0.4,1.1)\n",
    "plt.legend()\n",
    "plt.show()"
   ]
  },
  {
   "cell_type": "code",
   "execution_count": null,
   "metadata": {},
   "outputs": [],
   "source": []
  }
 ],
 "metadata": {
  "kernelspec": {
   "display_name": "symbac5",
   "language": "python",
   "name": "python3"
  },
  "language_info": {
   "codemirror_mode": {
    "name": "ipython",
    "version": 3
   },
   "file_extension": ".py",
   "mimetype": "text/x-python",
   "name": "python",
   "nbconvert_exporter": "python",
   "pygments_lexer": "ipython3",
   "version": "3.9.0"
  },
  "orig_nbformat": 4,
  "vscode": {
   "interpreter": {
    "hash": "28513bcd053304259afcc7cbfcce7837493f975346f4a3066a75687ebc7fad8b"
   }
  }
 },
 "nbformat": 4,
 "nbformat_minor": 2
}
