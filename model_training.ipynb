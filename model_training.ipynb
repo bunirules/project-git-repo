{
 "cells": [
  {
   "cell_type": "code",
   "execution_count": 1,
   "metadata": {},
   "outputs": [],
   "source": [
    "%load_ext autoreload\n",
    "%autoreload 2"
   ]
  },
  {
   "cell_type": "code",
   "execution_count": 19,
   "metadata": {},
   "outputs": [],
   "source": [
    "from everything import do_everything_before, do_everything_between, do_everything_after, get_train_command\n",
    "import numpy as np\n",
    "import os\n",
    "import torch\n",
    "from srcnn import SRCNN"
   ]
  },
  {
   "cell_type": "code",
   "execution_count": 14,
   "metadata": {},
   "outputs": [],
   "source": [
    "SR_TRAINING_IMAGES_DIR = \"C:/Users/robho/OneDrive/Desktop/Uni Work/Year 4/project2/superres/second_trial/SR_training\"\n",
    "HR_FOLDER_NAME = \"pmc_0.0655\"\n",
    "LR_FOLDER_NAME = \"pmc_0.0655\"\n",
    "METHOD = \"cubic\""
   ]
  },
  {
   "cell_type": "code",
   "execution_count": 15,
   "metadata": {},
   "outputs": [],
   "source": [
    "output = do_everything_before(SR_TRAINING_IMAGES_DIR, HR_FOLDER_NAME, LR_FOLDER_NAME, METHOD)\n",
    "HR_TRAIN_DIR, HR_TEST_DIR, UPSAMPLED_TRAIN_DIR3, UPSAMPLED_TEST_DIR3, SAVE_OUTPUT_DIR3 = output"
   ]
  },
  {
   "cell_type": "code",
   "execution_count": 3,
   "metadata": {},
   "outputs": [],
   "source": [
    "SR_TRAINING_IMAGES_DIR = \"C:/Users/robho/OneDrive/Desktop/Uni Work/Year 4/project2/superres/second_trial/SR_training\"\n",
    "HR_FOLDER_NAME = \"pmc_0.0655\"\n",
    "LR_FOLDER_NAME = \"pmc_0.1638\"\n",
    "METHOD = \"cubic\""
   ]
  },
  {
   "cell_type": "code",
   "execution_count": 11,
   "metadata": {},
   "outputs": [
    {
     "name": "stdout",
     "output_type": "stream",
     "text": [
      "folder already exists: C:/Users/robho/OneDrive/Desktop/Uni Work/Year 4/project2/superres/second_trial/SR_training/train/pmc_0.1638_cubic/\n",
      "folder already exists: C:/Users/robho/OneDrive/Desktop/Uni Work/Year 4/project2/superres/second_trial/SR_training/test/pmc_0.1638_cubic/\n"
     ]
    }
   ],
   "source": [
    "output = do_everything_before(SR_TRAINING_IMAGES_DIR, HR_FOLDER_NAME, LR_FOLDER_NAME, METHOD)\n",
    "HR_TRAIN_DIR, HR_TEST_DIR, UPSAMPLED_TRAIN_DIR, UPSAMPLED_TEST_DIR, SAVE_OUTPUT_DIR = output"
   ]
  },
  {
   "cell_type": "code",
   "execution_count": 12,
   "metadata": {},
   "outputs": [],
   "source": [
    "SR_TRAINING_IMAGES_DIR = \"C:/Users/robho/OneDrive/Desktop/Uni Work/Year 4/project2/superres/second_trial/SR_training\"\n",
    "HR_FOLDER_NAME = \"pmc_0.0655\"\n",
    "LR_FOLDER_NAME2 = \"pmc_0.1092\"\n",
    "METHOD = \"cubic\""
   ]
  },
  {
   "cell_type": "code",
   "execution_count": 13,
   "metadata": {},
   "outputs": [],
   "source": [
    "output2 = do_everything_before(SR_TRAINING_IMAGES_DIR, HR_FOLDER_NAME, LR_FOLDER_NAME2, METHOD)\n",
    "HR_TRAIN_DIR, HR_TEST_DIR, UPSAMPLED_TRAIN_DIR2, UPSAMPLED_TEST_DIR2, SAVE_OUTPUT_DIR2 = output2"
   ]
  },
  {
   "cell_type": "code",
   "execution_count": 17,
   "metadata": {},
   "outputs": [
    {
     "data": {
      "text/plain": [
       "'python train.py --epochs 300 --hr-path \"C:/Users/robho/OneDrive/Desktop/Uni Work/Year 4/project2/superres/second_trial/SR_training/train/pmc_0.0655_cubic/\" --lr-path \"C:/Users/robho/OneDrive/Desktop/Uni Work/Year 4/project2/superres/second_trial/SR_training/train/pmc_0.1638_cubic/\" --hr-validation-path \"C:/Users/robho/OneDrive/Desktop/Uni Work/Year 4/project2/superres/second_trial/SR_training/test/pmc_0.0655_cubic/\" --lr-validation-path \"C:/Users/robho/OneDrive/Desktop/Uni Work/Year 4/project2/superres/second_trial/SR_training/test/pmc_0.1638_cubic/\" --save-path \"C:/Users/robho/OneDrive/Desktop/Uni Work/Year 4/project2/superres/second_trial/SR_training/train/pmc_0.1638_cubic_output/\"'"
      ]
     },
     "execution_count": 17,
     "metadata": {},
     "output_type": "execute_result"
    }
   ],
   "source": [
    "command1 = get_train_command(300,HR_TRAIN_DIR=UPSAMPLED_TRAIN_DIR3,\n",
    "                            HR_TEST_DIR=UPSAMPLED_TEST_DIR3,\n",
    "                            UPSAMPLED_TRAIN_DIR=UPSAMPLED_TRAIN_DIR,\n",
    "                            UPSAMPLED_TEST_DIR=UPSAMPLED_TEST_DIR,\n",
    "                            SAVE_OUTPUT_DIR=SAVE_OUTPUT_DIR)\n",
    "command1"
   ]
  },
  {
   "cell_type": "code",
   "execution_count": 18,
   "metadata": {},
   "outputs": [
    {
     "data": {
      "text/plain": [
       "'python train.py --epochs 300 --hr-path \"C:/Users/robho/OneDrive/Desktop/Uni Work/Year 4/project2/superres/second_trial/SR_training/train/pmc_0.0655_cubic/\" --lr-path \"C:/Users/robho/OneDrive/Desktop/Uni Work/Year 4/project2/superres/second_trial/SR_training/train/pmc_0.1092_cubic/\" --hr-validation-path \"C:/Users/robho/OneDrive/Desktop/Uni Work/Year 4/project2/superres/second_trial/SR_training/test/pmc_0.0655_cubic/\" --lr-validation-path \"C:/Users/robho/OneDrive/Desktop/Uni Work/Year 4/project2/superres/second_trial/SR_training/test/pmc_0.1092_cubic/\" --save-path \"C:/Users/robho/OneDrive/Desktop/Uni Work/Year 4/project2/superres/second_trial/SR_training/train/pmc_0.1092_cubic_output/\"'"
      ]
     },
     "execution_count": 18,
     "metadata": {},
     "output_type": "execute_result"
    }
   ],
   "source": [
    "command2 = get_train_command(300,HR_TRAIN_DIR=UPSAMPLED_TRAIN_DIR3,\n",
    "                            HR_TEST_DIR=UPSAMPLED_TEST_DIR3,\n",
    "                            UPSAMPLED_TRAIN_DIR=UPSAMPLED_TRAIN_DIR2,\n",
    "                            UPSAMPLED_TEST_DIR=UPSAMPLED_TEST_DIR2,\n",
    "                            SAVE_OUTPUT_DIR=SAVE_OUTPUT_DIR2)\n",
    "command2"
   ]
  },
  {
   "cell_type": "code",
   "execution_count": 24,
   "metadata": {},
   "outputs": [],
   "source": [
    "SEGMENTATION_IMAGES_DIR =  \"C:/Users/robho/OneDrive/Desktop/Uni Work/Year 4/project2/superres/second_trial/omnipose_training\"\n",
    "HR_FOLDER_NAME = \"pmc_0.0655\"\n",
    "LR_FOLDER_NAME_60 = \"pmc_0.1092\"\n",
    "LR_FOLDER_NAME_40 = \"pmc_0.1638\"\n",
    "SR_MODEL_60_PATH = SAVE_OUTPUT_DIR2 + \"model_ckpt.pth\"\n",
    "SR_MODEL_40_PATH = SAVE_OUTPUT_DIR + \"model_ckpt.pth\""
   ]
  },
  {
   "cell_type": "code",
   "execution_count": 25,
   "metadata": {},
   "outputs": [
    {
     "data": {
      "text/plain": [
       "SRCNN(\n",
       "  (conv1): Conv2d(1, 64, kernel_size=(9, 9), stride=(1, 1), padding=(2, 2))\n",
       "  (conv2): Conv2d(64, 32, kernel_size=(1, 1), stride=(1, 1), padding=(2, 2))\n",
       "  (conv3): Conv2d(32, 1, kernel_size=(5, 5), stride=(1, 1), padding=(2, 2))\n",
       ")"
      ]
     },
     "execution_count": 25,
     "metadata": {},
     "output_type": "execute_result"
    }
   ],
   "source": [
    "SR_MODEL_60 = SRCNN()\n",
    "SR_MODEL_60.load_state_dict(torch.load(SR_MODEL_60_PATH)['model_state_dict'])\n",
    "SR_MODEL_60.eval()"
   ]
  },
  {
   "cell_type": "code",
   "execution_count": 26,
   "metadata": {},
   "outputs": [
    {
     "data": {
      "text/plain": [
       "SRCNN(\n",
       "  (conv1): Conv2d(1, 64, kernel_size=(9, 9), stride=(1, 1), padding=(2, 2))\n",
       "  (conv2): Conv2d(64, 32, kernel_size=(1, 1), stride=(1, 1), padding=(2, 2))\n",
       "  (conv3): Conv2d(32, 1, kernel_size=(5, 5), stride=(1, 1), padding=(2, 2))\n",
       ")"
      ]
     },
     "execution_count": 26,
     "metadata": {},
     "output_type": "execute_result"
    }
   ],
   "source": [
    "SR_MODEL_40 = SRCNN()\n",
    "SR_MODEL_40.load_state_dict(torch.load(SR_MODEL_40_PATH)['model_state_dict'])\n",
    "SR_MODEL_40.eval()"
   ]
  },
  {
   "cell_type": "code",
   "execution_count": 29,
   "metadata": {},
   "outputs": [
    {
     "name": "stdout",
     "output_type": "stream",
     "text": [
      "folder already exists: C:/Users/robho/OneDrive/Desktop/Uni Work/Year 4/project2/superres/second_trial/omnipose_training/test/pmc_0.1638_cubic_SR/\n",
      "folder already exists: C:/Users/robho/OneDrive/Desktop/Uni Work/Year 4/project2/superres/second_trial/omnipose_training/test/pmc_0.1638_cubic_SR_tiled/\n"
     ]
    }
   ],
   "source": [
    "between_40 = do_everything_between(SEGMENTATION_IMAGES_DIR,HR_FOLDER_NAME,LR_FOLDER_NAME_40,SR_MODEL_40,METHOD='cubic')\n",
    "SR_TILED_TRAIN_DIR_40, SR_TILED_TEST_DIR_40, SR_TILED_TEST_SEG_DIR_40 = between_40"
   ]
  },
  {
   "cell_type": "code",
   "execution_count": null,
   "metadata": {},
   "outputs": [],
   "source": [
    "between_60 = do_everything_between(SEGMENTATION_IMAGES_DIR,HR_FOLDER_NAME,LR_FOLDER_NAME_60,SR_MODEL_60,METHOD='cubic')\n",
    "SR_TILED_TRAIN_DIR_60, SR_TILED_TEST_DIR_60, SR_TILED_TEST_SEG_DIR_60 = between_60"
   ]
  },
  {
   "cell_type": "code",
   "execution_count": null,
   "metadata": {},
   "outputs": [],
   "source": []
  }
 ],
 "metadata": {
  "kernelspec": {
   "display_name": "pipeline",
   "language": "python",
   "name": "python3"
  },
  "language_info": {
   "codemirror_mode": {
    "name": "ipython",
    "version": 3
   },
   "file_extension": ".py",
   "mimetype": "text/x-python",
   "name": "python",
   "nbconvert_exporter": "python",
   "pygments_lexer": "ipython3",
   "version": "3.9.0"
  },
  "orig_nbformat": 4,
  "vscode": {
   "interpreter": {
    "hash": "955a9dbc2e36a9a999a9129e4fa72594d82c18f3d234da5c38425f0f6c8b16f3"
   }
  }
 },
 "nbformat": 4,
 "nbformat_minor": 2
}
