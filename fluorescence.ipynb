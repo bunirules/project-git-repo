{
    "cells": [
        {
            "cell_type": "code",
            "execution_count": 2,
            "metadata": {},
            "outputs": [],
            "source": [
                "%load_ext autoreload\n",
                "%autoreload 2"
            ]
        },
        {
            "attachments": {},
            "cell_type": "markdown",
            "metadata": {},
            "source": [
                "from https://www.microscopyu.com/microscopy-basics/properties-of-microscope-objectives \n",
                "\n",
                "100x oil: NA = 1.4 \n",
                "\n",
                "60x air: NA = 0.95 \n",
                "\n",
                "40x air: NA = 0.95 \n",
                "\n",
                "20x air: NA = 0.75 \n",
                "\n",
                "10x air: NA = 0.45 \n",
                "\n",
                "4x air: NA = 0.2 \n",
                "\n",
                "2x air: NA = 0.1 "
            ]
        },
        {
            "cell_type": "code",
            "execution_count": 3,
            "metadata": {},
            "outputs": [
                {
                    "name": "stderr",
                    "output_type": "stream",
                    "text": [
                        "c:\\Users\\robho\\OneDrive\\Desktop\\Uni_Work\\Year_4\\project2\\SyMBac\\cell_simulation.py:10: TqdmExperimentalWarning: Using `tqdm.autonotebook.tqdm` in notebook mode. Use `tqdm.tqdm` instead to force console mode (e.g. in jupyter console)\n",
                        "  from tqdm.autonotebook import tqdm\n"
                    ]
                }
            ],
            "source": [
                "# import sys\n",
                "# sys.path.insert(1, '/home/georgeos/Documents/GitHub/SyMBac/') # Not needed if you installed SyMBac using pip\n",
                "\n",
                "from SyMBac.simulation import Simulation\n",
                "from SyMBac.PSF import PSF_generator\n",
                "from SyMBac.renderer import Renderer\n",
                "from SyMBac.PSF import Camera\n",
                "from SyMBac.misc import get_sample_images\n",
                "real_image = get_sample_images()[\"E. coli 100x fluorescence\"]\n",
                "\n",
                "import numpy as np\n",
                "import pandas as pd\n",
                "import matplotlib.pyplot as plt"
            ]
        },
        {
            "cell_type": "code",
            "execution_count": 3,
            "metadata": {},
            "outputs": [
                {
                    "name": "stdout",
                    "output_type": "stream",
                    "text": [
                        "(256, 46)\n",
                        "E. coli 100x\n",
                        "(256, 46)\n",
                        "E. coli 100x stationary\n",
                        "(256, 32)\n",
                        "E. coli DeLTA\n",
                        "(256, 46)\n",
                        "E. coli 100x fluorescence\n"
                    ]
                }
            ],
            "source": [
                "for image in get_sample_images():\n",
                "    print(get_sample_images()[image].shape)\n",
                "    print(image)"
            ]
        },
        {
            "attachments": {},
            "cell_type": "markdown",
            "metadata": {},
            "source": [
                "# 100x"
            ]
        },
        {
            "cell_type": "code",
            "execution_count": 5,
            "metadata": {},
            "outputs": [],
            "source": [
                "my_simulation = Simulation(\n",
                "    trench_length=15,\n",
                "    trench_width=1.3,\n",
                "    cell_max_length=6, #6, long cells # 1.65 short cells\n",
                "    cell_width= 1, #1 long cells # 0.95 short cells\n",
                "    sim_length = 100,\n",
                "    pix_mic_conv = 0.065,\n",
                "    gravity=0,\n",
                "    phys_iters=15,\n",
                "    max_length_var = 0.01,\n",
                "    width_var = 0.01,\n",
                "    lysis_p = 0.,\n",
                "    save_dir=\"C:\\\\Users\\\\robho\\\\OneDrive\\\\Desktop\\\\Uni_Work\\\\Year_4\\\\project2\",\n",
                "    resize_amount = 3\n",
                ")"
            ]
        },
        {
            "cell_type": "code",
            "execution_count": 6,
            "metadata": {},
            "outputs": [
                {
                    "data": {
                        "application/vnd.jupyter.widget-view+json": {
                            "model_id": "0c5d91bbf23d4f4c9f46ed3e65ca52fc",
                            "version_major": 2,
                            "version_minor": 0
                        },
                        "text/plain": [
                            "  0%|          | 0/100 [00:00<?, ?it/s]"
                        ]
                    },
                    "metadata": {},
                    "output_type": "display_data"
                }
            ],
            "source": [
                "my_simulation.run_simulation(show_window=False)"
            ]
        },
        {
            "cell_type": "code",
            "execution_count": 7,
            "metadata": {},
            "outputs": [
                {
                    "data": {
                        "application/vnd.jupyter.widget-view+json": {
                            "model_id": "5fc85195ee1d43399a4c5381b4d68b22",
                            "version_major": 2,
                            "version_minor": 0
                        },
                        "text/plain": [
                            "Timeseries Properties:   0%|          | 0/98 [00:00<?, ?it/s]"
                        ]
                    },
                    "metadata": {},
                    "output_type": "display_data"
                },
                {
                    "data": {
                        "application/vnd.jupyter.widget-view+json": {
                            "model_id": "78da09f7867144798f14409bacb0cb5f",
                            "version_major": 2,
                            "version_minor": 0
                        },
                        "text/plain": [
                            "Scene Draw::   0%|          | 0/98 [00:00<?, ?it/s]"
                        ]
                    },
                    "metadata": {},
                    "output_type": "display_data"
                }
            ],
            "source": [
                "my_simulation.draw_simulation_OPL(do_transformation=True, label_masks=True)"
            ]
        },
        {
            "cell_type": "code",
            "execution_count": 8,
            "metadata": {},
            "outputs": [
                {
                    "data": {
                        "image/png": "[encoded data removed]",
                        "text/plain": [
                            "<Figure size 200x500 with 2 Axes>"
                        ]
                    },
                    "metadata": {},
                    "output_type": "display_data"
                }
            ],
            "source": [
                "import matplotlib.pyplot as plt\n",
                "fig, (ax1, ax2) = plt.subplots(1, 2, figsize=(2,5))\n",
                "ax1.imshow(my_simulation.OPL_scenes[-1], cmap=\"Greys_r\")\n",
                "ax1.axis(\"off\")\n",
                "ax2.imshow(my_simulation.masks[-1])\n",
                "ax2.axis(\"off\")\n",
                "plt.tight_layout()"
            ]
        },
        {
            "cell_type": "code",
            "execution_count": 9,
            "metadata": {},
            "outputs": [
                {
                    "name": "stdout",
                    "output_type": "stream",
                    "text": [
                        "HhahahahahhahahahAAAHAHAHAHH\n"
                    ]
                },
                {
                    "data": {
                        "image/png": "[encoded data removed]",
                        "text/plain": [
                            "<Figure size 640x480 with 1 Axes>"
                        ]
                    },
                    "metadata": {},
                    "output_type": "display_data"
                }
            ],
            "source": [
                "# A 2D simple fluorescence kernel based on Airy\n",
                "my_kernel = PSF_generator(\n",
                "    radius = 50,\n",
                "    wavelength = 0.6,\n",
                "    NA = 1.45,\n",
                "    n = 1.5,\n",
                "    resize_amount = 3,\n",
                "    pix_mic_conv = 0.0655,\n",
                "    apo_sigma = None,\n",
                "    mode=\"simple fluo\",\n",
                "    condenser = \"PhF\")\n",
                "my_kernel.calculate_PSF()\n",
                "my_kernel.plot_PSF()"
            ]
        },
        {
            "cell_type": "code",
            "execution_count": 10,
            "metadata": {},
            "outputs": [
                {
                    "name": "stdout",
                    "output_type": "stream",
                    "text": [
                        "AYOOOOOOOOOOOOO\n",
                        "(256, 46)\n",
                        "(468, 67)\n"
                    ]
                }
            ],
            "source": [
                "my_renderer = Renderer(simulation = my_simulation, PSF = my_kernel, real_image = real_image)"
            ]
        },
        {
            "cell_type": "code",
            "execution_count": 11,
            "metadata": {},
            "outputs": [],
            "source": [
                "ml = np.array(pd.read_csv(\"csv_files/media_fluo.csv\"))\n",
                "cl = np.array(pd.read_csv(\"csv_files/cell_fluo.csv\"))\n",
                "dl = np.array(pd.read_csv(\"csv_files/device_fluo.csv\"))"
            ]
        },
        {
            "cell_type": "code",
            "execution_count": 12,
            "metadata": {},
            "outputs": [
                {
                    "data": {
                        "text/plain": [
                            "65535"
                        ]
                    },
                    "execution_count": 12,
                    "metadata": {},
                    "output_type": "execute_result"
                }
            ],
            "source": [
                "np.max(real_image)"
            ]
        },
        {
            "cell_type": "code",
            "execution_count": 13,
            "metadata": {},
            "outputs": [],
            "source": [
                "my_renderer.select_intensity_napari(ml,cl,dl)"
            ]
        },
        {
            "cell_type": "code",
            "execution_count": 119,
            "metadata": {},
            "outputs": [],
            "source": [
                "# pd.DataFrame(my_renderer.media_label.data).to_csv(\"csv_files/media_fluo.csv\",header=None,index=False)\n",
                "# pd.DataFrame(my_renderer.cell_label.data).to_csv(\"csv_files/cell_fluo.csv\",header=None,index=False)\n",
                "# pd.DataFrame(my_renderer.device_label.data).to_csv(\"csv_files/device_fluo.csv\",header=None,index=False)"
            ]
        },
        {
            "cell_type": "code",
            "execution_count": 14,
            "metadata": {},
            "outputs": [
                {
                    "data": {
                        "application/vnd.jupyter.widget-view+json": {
                            "model_id": "7e4118077f2a49a786d459807454eaa1",
                            "version_major": 2,
                            "version_minor": 0
                        },
                        "text/plain": [
                            "interactive(children=(IntSlider(value=88, description='media_multiplier', max=300, min=-300), FloatSlider(valu…"
                        ]
                    },
                    "execution_count": 14,
                    "metadata": {},
                    "output_type": "execute_result"
                }
            ],
            "source": [
                "my_renderer.optimise_synth_image(manual_update=False)"
            ]
        },
        {
            "cell_type": "code",
            "execution_count": null,
            "metadata": {},
            "outputs": [],
            "source": [
                "my_renderer.generate_training_data(sample_amount=0.1, randomise_hist_match=False, randomise_noise_match=False, burn_in=40, n_samples = 800, save_dir=\"fluo/100x test\", in_series=False)"
            ]
        },
        {
            "attachments": {},
            "cell_type": "markdown",
            "metadata": {},
            "source": [
                "# 60x"
            ]
        },
        {
            "cell_type": "code",
            "execution_count": 17,
            "metadata": {},
            "outputs": [],
            "source": [
                "my_simulation = Simulation(\n",
                "    trench_length=15*1.67,\n",
                "    trench_width=1.3,\n",
                "    cell_max_length=6, #6, long cells # 1.65 short cells\n",
                "    cell_width= 1, #1 long cells # 0.95 short cells\n",
                "    sim_length = 100,\n",
                "    pix_mic_conv = 0.1,\n",
                "    gravity=0,\n",
                "    phys_iters=15,\n",
                "    max_length_var = 0.01,\n",
                "    width_var = 0.01,\n",
                "    lysis_p = 0.,\n",
                "    save_dir=\"C:\\\\Users\\\\robho\\\\OneDrive\\\\Desktop\\\\Uni_Work\\\\Year_4\\\\project2\",\n",
                "    resize_amount = 3\n",
                ")"
            ]
        },
        {
            "cell_type": "code",
            "execution_count": 18,
            "metadata": {},
            "outputs": [
                {
                    "data": {
                        "application/vnd.jupyter.widget-view+json": {
                            "model_id": "71cd6c9a95a34c7ab363e153462b10d1",
                            "version_major": 2,
                            "version_minor": 0
                        },
                        "text/plain": [
                            "  0%|          | 0/100 [00:00<?, ?it/s]"
                        ]
                    },
                    "metadata": {},
                    "output_type": "display_data"
                }
            ],
            "source": [
                "my_simulation.run_simulation(show_window=False)"
            ]
        },
        {
            "cell_type": "code",
            "execution_count": 19,
            "metadata": {},
            "outputs": [
                {
                    "data": {
                        "application/vnd.jupyter.widget-view+json": {
                            "model_id": "15b050d38779451b894e86d9d8ec47b6",
                            "version_major": 2,
                            "version_minor": 0
                        },
                        "text/plain": [
                            "Timeseries Properties:   0%|          | 0/98 [00:00<?, ?it/s]"
                        ]
                    },
                    "metadata": {},
                    "output_type": "display_data"
                },
                {
                    "data": {
                        "application/vnd.jupyter.widget-view+json": {
                            "model_id": "b58f009028a24a00aa6d278f27cb0a38",
                            "version_major": 2,
                            "version_minor": 0
                        },
                        "text/plain": [
                            "Scene Draw::   0%|          | 0/98 [00:00<?, ?it/s]"
                        ]
                    },
                    "metadata": {},
                    "output_type": "display_data"
                }
            ],
            "source": [
                "my_simulation.draw_simulation_OPL(do_transformation=True, label_masks=True)"
            ]
        },
        {
            "cell_type": "code",
            "execution_count": 20,
            "metadata": {},
            "outputs": [
                {
                    "data": {
                        "image/png": "[encoded data removed]",
                        "text/plain": [
                            "<Figure size 200x500 with 2 Axes>"
                        ]
                    },
                    "metadata": {},
                    "output_type": "display_data"
                }
            ],
            "source": [
                "import matplotlib.pyplot as plt\n",
                "fig, (ax1, ax2) = plt.subplots(1, 2, figsize=(2,5))\n",
                "ax1.imshow(my_simulation.OPL_scenes[-1], cmap=\"Greys_r\")\n",
                "ax1.axis(\"off\")\n",
                "ax2.imshow(my_simulation.masks[-1])\n",
                "ax2.axis(\"off\")\n",
                "plt.tight_layout()"
            ]
        },
        {
            "cell_type": "code",
            "execution_count": 21,
            "metadata": {},
            "outputs": [
                {
                    "name": "stdout",
                    "output_type": "stream",
                    "text": [
                        "HhahahahahhahahahAAAHAHAHAHH\n"
                    ]
                },
                {
                    "data": {
                        "image/png": "[encoded data removed]",
                        "text/plain": [
                            "<Figure size 640x480 with 1 Axes>"
                        ]
                    },
                    "metadata": {},
                    "output_type": "display_data"
                }
            ],
            "source": [
                "# A 2D simple fluorescence kernel based on Airy\n",
                "my_kernel = PSF_generator(\n",
                "    radius = 50,\n",
                "    wavelength = 0.6,\n",
                "    NA = 0.95,\n",
                "    n = 1,\n",
                "    resize_amount = 3,\n",
                "    pix_mic_conv = 0.1,\n",
                "    apo_sigma = None,\n",
                "    mode=\"simple fluo\",\n",
                "    condenser = \"PhF\")\n",
                "my_kernel.calculate_PSF()\n",
                "my_kernel.plot_PSF()"
            ]
        },
        {
            "cell_type": "code",
            "execution_count": 22,
            "metadata": {},
            "outputs": [
                {
                    "name": "stdout",
                    "output_type": "stream",
                    "text": [
                        "AYOOOOOOOOOOOOO\n",
                        "(256, 46)\n",
                        "(507, 53)\n"
                    ]
                }
            ],
            "source": [
                "my_renderer = Renderer(simulation = my_simulation, PSF = my_kernel, real_image = real_image)"
            ]
        },
        {
            "cell_type": "code",
            "execution_count": 23,
            "metadata": {},
            "outputs": [],
            "source": [
                "my_renderer.select_intensity_napari(ml,cl,dl)"
            ]
        },
        {
            "cell_type": "code",
            "execution_count": 24,
            "metadata": {},
            "outputs": [
                {
                    "data": {
                        "application/vnd.jupyter.widget-view+json": {
                            "model_id": "8524845e2aad451ab517c31cffeb9e47",
                            "version_major": 2,
                            "version_minor": 0
                        },
                        "text/plain": [
                            "interactive(children=(IntSlider(value=88, description='media_multiplier', max=300, min=-300), FloatSlider(valu…"
                        ]
                    },
                    "execution_count": 24,
                    "metadata": {},
                    "output_type": "execute_result"
                }
            ],
            "source": [
                "my_renderer.optimise_synth_image(manual_update=False)"
            ]
        },
        {
            "cell_type": "code",
            "execution_count": null,
            "metadata": {},
            "outputs": [],
            "source": [
                "my_renderer.generate_training_data(sample_amount=0.1, randomise_hist_match=False, randomise_noise_match=False, burn_in=40, n_samples = 500, save_dir=\"fluo/60x test\", in_series=False)"
            ]
        },
        {
            "attachments": {},
            "cell_type": "markdown",
            "metadata": {},
            "source": [
                "# 40x"
            ]
        },
        {
            "cell_type": "code",
            "execution_count": 26,
            "metadata": {},
            "outputs": [],
            "source": [
                "real_image40 = np.zeros(np.array(real_image.shape)//2)\n",
                "a,b = real_image40.shape\n",
                "for i in range(a):\n",
                "    for j in range(b):\n",
                "        real_image40[i,j] = real_image[2*i,2*j]"
            ]
        },
        {
            "cell_type": "code",
            "execution_count": 27,
            "metadata": {},
            "outputs": [
                {
                    "data": {
                        "image/png": "[encoded data removed]",
                        "text/plain": [
                            "<Figure size 640x480 with 2 Axes>"
                        ]
                    },
                    "metadata": {},
                    "output_type": "display_data"
                }
            ],
            "source": [
                "plt.pcolor(real_image40, cmap='RdBu')\n",
                "plt.title(r\"heatmap showing the mean optimised values for varying values of intensify and diversify\")\n",
                "plt.xlabel(r'diversify')\n",
                "plt.ylabel(r'intensify')\n",
                "plt.colorbar()\n",
                "plt.show()"
            ]
        },
        {
            "cell_type": "code",
            "execution_count": 29,
            "metadata": {},
            "outputs": [],
            "source": [
                "my_simulation = Simulation(\n",
                "    trench_length=15,\n",
                "    trench_width=1.3,\n",
                "    cell_max_length=6, #6, long cells # 1.65 short cells\n",
                "    cell_width= 1, #1 long cells # 0.95 short cells\n",
                "    sim_length = 100,\n",
                "    pix_mic_conv = 0.16,\n",
                "    gravity=0,\n",
                "    phys_iters=15,\n",
                "    max_length_var = 0.01,\n",
                "    width_var = 0.01,\n",
                "    lysis_p = 0.,\n",
                "    save_dir=\"C:\\\\Users\\\\robho\\\\OneDrive\\\\Desktop\\\\Uni_Work\\\\Year_4\\\\project2\",\n",
                "    resize_amount = 3\n",
                ")"
            ]
        },
        {
            "cell_type": "code",
            "execution_count": 30,
            "metadata": {},
            "outputs": [
                {
                    "data": {
                        "application/vnd.jupyter.widget-view+json": {
                            "model_id": "1254b7db05a2498c809eabc559c9f89d",
                            "version_major": 2,
                            "version_minor": 0
                        },
                        "text/plain": [
                            "  0%|          | 0/100 [00:00<?, ?it/s]"
                        ]
                    },
                    "metadata": {},
                    "output_type": "display_data"
                }
            ],
            "source": [
                "my_simulation.run_simulation(show_window=False)"
            ]
        },
        {
            "cell_type": "code",
            "execution_count": 31,
            "metadata": {},
            "outputs": [
                {
                    "data": {
                        "application/vnd.jupyter.widget-view+json": {
                            "model_id": "22c18d73435d41938579aa5e96ff755c",
                            "version_major": 2,
                            "version_minor": 0
                        },
                        "text/plain": [
                            "Timeseries Properties:   0%|          | 0/98 [00:00<?, ?it/s]"
                        ]
                    },
                    "metadata": {},
                    "output_type": "display_data"
                },
                {
                    "data": {
                        "application/vnd.jupyter.widget-view+json": {
                            "model_id": "70729fd1f1364d7581d07abb9ee300c8",
                            "version_major": 2,
                            "version_minor": 0
                        },
                        "text/plain": [
                            "Scene Draw::   0%|          | 0/98 [00:00<?, ?it/s]"
                        ]
                    },
                    "metadata": {},
                    "output_type": "display_data"
                }
            ],
            "source": [
                "my_simulation.draw_simulation_OPL(do_transformation=True, label_masks=True)"
            ]
        },
        {
            "cell_type": "code",
            "execution_count": 32,
            "metadata": {},
            "outputs": [
                {
                    "data": {
                        "image/png": "[encoded data removed]",
                        "text/plain": [
                            "<Figure size 200x500 with 2 Axes>"
                        ]
                    },
                    "metadata": {},
                    "output_type": "display_data"
                }
            ],
            "source": [
                "import matplotlib.pyplot as plt\n",
                "fig, (ax1, ax2) = plt.subplots(1, 2, figsize=(2,5))\n",
                "ax1.imshow(my_simulation.OPL_scenes[-1], cmap=\"Greys_r\")\n",
                "ax1.axis(\"off\")\n",
                "ax2.imshow(my_simulation.masks[-1])\n",
                "ax2.axis(\"off\")\n",
                "plt.tight_layout()"
            ]
        },
        {
            "cell_type": "code",
            "execution_count": 33,
            "metadata": {},
            "outputs": [
                {
                    "name": "stdout",
                    "output_type": "stream",
                    "text": [
                        "HhahahahahhahahahAAAHAHAHAHH\n"
                    ]
                },
                {
                    "data": {
                        "image/png": "[encoded data removed]",
                        "text/plain": [
                            "<Figure size 640x480 with 1 Axes>"
                        ]
                    },
                    "metadata": {},
                    "output_type": "display_data"
                }
            ],
            "source": [
                "# A 2D simple fluorescence kernel based on Airy\n",
                "my_kernel = PSF_generator(\n",
                "    radius = 50,\n",
                "    wavelength = 0.6,\n",
                "    NA = 0.95,\n",
                "    n = 1,\n",
                "    resize_amount = 3,\n",
                "    pix_mic_conv = 0.16,\n",
                "    apo_sigma = None,\n",
                "    mode=\"simple fluo\",\n",
                "    condenser = \"PhF\")\n",
                "my_kernel.calculate_PSF()\n",
                "my_kernel.plot_PSF()"
            ]
        },
        {
            "cell_type": "code",
            "execution_count": 34,
            "metadata": {},
            "outputs": [
                {
                    "name": "stdout",
                    "output_type": "stream",
                    "text": [
                        "AYOOOOOOOOOOOOO\n",
                        "(128, 23)\n",
                        "(194, 43)\n"
                    ]
                }
            ],
            "source": [
                "my_renderer = Renderer(simulation = my_simulation, PSF = my_kernel, real_image = real_image40)"
            ]
        },
        {
            "cell_type": "code",
            "execution_count": 35,
            "metadata": {},
            "outputs": [],
            "source": [
                "my_renderer.select_intensity_napari()"
            ]
        },
        {
            "cell_type": "code",
            "execution_count": 37,
            "metadata": {},
            "outputs": [
                {
                    "data": {
                        "application/vnd.jupyter.widget-view+json": {
                            "model_id": "e164347fcb0c421186b00bfef78065b1",
                            "version_major": 2,
                            "version_minor": 0
                        },
                        "text/plain": [
                            "interactive(children=(IntSlider(value=88, description='media_multiplier', max=300, min=-300), FloatSlider(valu…"
                        ]
                    },
                    "execution_count": 37,
                    "metadata": {},
                    "output_type": "execute_result"
                }
            ],
            "source": [
                "my_renderer.optimise_synth_image(manual_update=False)"
            ]
        },
        {
            "cell_type": "code",
            "execution_count": null,
            "metadata": {},
            "outputs": [],
            "source": [
                "my_renderer.generate_training_data(sample_amount=0.1, randomise_hist_match=False, randomise_noise_match=False, burn_in=40, n_samples = 400, save_dir=\"fluo/40x test\", in_series=False)"
            ]
        },
        {
            "attachments": {},
            "cell_type": "markdown",
            "metadata": {},
            "source": [
                "# 35x"
            ]
        },
        {
            "cell_type": "code",
            "execution_count": 22,
            "metadata": {},
            "outputs": [],
            "source": [
                "real_image35 = np.zeros((np.array(real_image.shape)//[256/172,46/39]).astype(int))\n",
                "a,b = real_image35.shape\n",
                "for i in range(a):\n",
                "    for j in range(b):\n",
                "        real_image35[i,j] = real_image[int(256/172*i),int(46/39*j)]"
            ]
        },
        {
            "cell_type": "code",
            "execution_count": 6,
            "metadata": {},
            "outputs": [
                {
                    "ename": "NameError",
                    "evalue": "name 'plt' is not defined",
                    "output_type": "error",
                    "traceback": [
                        "\u001b[1;31m---------------------------------------------------------------------------\u001b[0m",
                        "\u001b[1;31mNameError\u001b[0m                                 Traceback (most recent call last)",
                        "Cell \u001b[1;32mIn[6], line 1\u001b[0m\n\u001b[1;32m----> 1\u001b[0m plt\u001b[39m.\u001b[39mpcolor(real_image35, cmap\u001b[39m=\u001b[39m\u001b[39m'\u001b[39m\u001b[39mRdBu\u001b[39m\u001b[39m'\u001b[39m)\n\u001b[0;32m      2\u001b[0m plt\u001b[39m.\u001b[39mtitle(\u001b[39mr\u001b[39m\u001b[39m\"\u001b[39m\u001b[39mheatmap showing the mean optimised values for varying values of intensify and diversify\u001b[39m\u001b[39m\"\u001b[39m)\n\u001b[0;32m      3\u001b[0m plt\u001b[39m.\u001b[39mxlabel(\u001b[39mr\u001b[39m\u001b[39m'\u001b[39m\u001b[39mdiversify\u001b[39m\u001b[39m'\u001b[39m)\n",
                        "\u001b[1;31mNameError\u001b[0m: name 'plt' is not defined"
                    ]
                }
            ],
            "source": [
                "plt.pcolor(real_image35, cmap='RdBu')\n",
                "plt.title(r\"heatmap showing the mean optimised values for varying values of intensify and diversify\")\n",
                "plt.xlabel(r'diversify')\n",
                "plt.ylabel(r'intensify')\n",
                "plt.colorbar()\n",
                "plt.show()"
            ]
        },
        {
            "cell_type": "code",
            "execution_count": 7,
            "metadata": {},
            "outputs": [],
            "source": [
                "my_simulation = Simulation(\n",
                "    trench_length=15,\n",
                "    trench_width=1.3,\n",
                "    cell_max_length=6, #6, long cells # 1.65 short cells\n",
                "    cell_width= 1, #1 long cells # 0.95 short cells\n",
                "    sim_length = 100,\n",
                "    pix_mic_conv = 0.18,\n",
                "    gravity=0,\n",
                "    phys_iters=15,\n",
                "    max_length_var = 0.01,\n",
                "    width_var = 0.01,\n",
                "    lysis_p = 0.,\n",
                "    save_dir=\"C:\\\\Users\\\\robho\\\\OneDrive\\\\Desktop\\\\Uni_Work\\\\Year_4\\\\project2\",\n",
                "    resize_amount = 3\n",
                ")"
            ]
        },
        {
            "cell_type": "code",
            "execution_count": 8,
            "metadata": {},
            "outputs": [
                {
                    "data": {
                        "application/vnd.jupyter.widget-view+json": {
                            "model_id": "204d2cbdffd24311aa67947519e6c11d",
                            "version_major": 2,
                            "version_minor": 0
                        },
                        "text/plain": [
                            "  0%|          | 0/100 [00:00<?, ?it/s]"
                        ]
                    },
                    "metadata": {},
                    "output_type": "display_data"
                }
            ],
            "source": [
                "my_simulation.run_simulation(show_window=False)"
            ]
        },
        {
            "cell_type": "code",
            "execution_count": 9,
            "metadata": {},
            "outputs": [
                {
                    "data": {
                        "application/vnd.jupyter.widget-view+json": {
                            "model_id": "b76a4395e56e4a00a185d20e81d1ac32",
                            "version_major": 2,
                            "version_minor": 0
                        },
                        "text/plain": [
                            "Timeseries Properties:   0%|          | 0/98 [00:00<?, ?it/s]"
                        ]
                    },
                    "metadata": {},
                    "output_type": "display_data"
                },
                {
                    "data": {
                        "application/vnd.jupyter.widget-view+json": {
                            "model_id": "e41bf2de40e648078c1d9b4186b210fc",
                            "version_major": 2,
                            "version_minor": 0
                        },
                        "text/plain": [
                            "Scene Draw::   0%|          | 0/98 [00:00<?, ?it/s]"
                        ]
                    },
                    "metadata": {},
                    "output_type": "display_data"
                }
            ],
            "source": [
                "my_simulation.draw_simulation_OPL(do_transformation=True, label_masks=True)"
            ]
        },
        {
            "cell_type": "code",
            "execution_count": 10,
            "metadata": {},
            "outputs": [
                {
                    "data": {
                        "image/png": "[encoded data removed]",
                        "text/plain": [
                            "<Figure size 200x500 with 2 Axes>"
                        ]
                    },
                    "metadata": {},
                    "output_type": "display_data"
                }
            ],
            "source": [
                "import matplotlib.pyplot as plt\n",
                "fig, (ax1, ax2) = plt.subplots(1, 2, figsize=(2,5))\n",
                "ax1.imshow(my_simulation.OPL_scenes[-1], cmap=\"Greys_r\")\n",
                "ax1.axis(\"off\")\n",
                "ax2.imshow(my_simulation.masks[-1])\n",
                "ax2.axis(\"off\")\n",
                "plt.tight_layout()"
            ]
        },
        {
            "cell_type": "code",
            "execution_count": 11,
            "metadata": {},
            "outputs": [
                {
                    "name": "stdout",
                    "output_type": "stream",
                    "text": [
                        "HhahahahahhahahahAAAHAHAHAHH\n"
                    ]
                },
                {
                    "data": {
                        "image/png": "[encoded data removed]",
                        "text/plain": [
                            "<Figure size 640x480 with 1 Axes>"
                        ]
                    },
                    "metadata": {},
                    "output_type": "display_data"
                }
            ],
            "source": [
                "# A 2D simple fluorescence kernel based on Airy\n",
                "my_kernel = PSF_generator(\n",
                "    radius = 50,\n",
                "    wavelength = 0.6,\n",
                "    NA = 0.9,\n",
                "    n = 1,\n",
                "    resize_amount = 3,\n",
                "    pix_mic_conv = 0.18,\n",
                "    apo_sigma = None,\n",
                "    mode=\"simple fluo\",\n",
                "    condenser = \"PhF\")\n",
                "my_kernel.calculate_PSF()\n",
                "my_kernel.plot_PSF()"
            ]
        },
        {
            "cell_type": "code",
            "execution_count": 23,
            "metadata": {},
            "outputs": [
                {
                    "name": "stdout",
                    "output_type": "stream",
                    "text": [
                        "AYOOOOOOOOOOOOO\n",
                        "(172, 38)\n",
                        "(173, 40)\n"
                    ]
                }
            ],
            "source": [
                "my_renderer = Renderer(simulation = my_simulation, PSF = my_kernel, real_image = real_image35)"
            ]
        },
        {
            "cell_type": "code",
            "execution_count": 24,
            "metadata": {},
            "outputs": [],
            "source": [
                "my_renderer.select_intensity_napari()"
            ]
        },
        {
            "cell_type": "code",
            "execution_count": 25,
            "metadata": {},
            "outputs": [
                {
                    "data": {
                        "application/vnd.jupyter.widget-view+json": {
                            "model_id": "80f0b49a92e24c329e76bd517c60e32b",
                            "version_major": 2,
                            "version_minor": 0
                        },
                        "text/plain": [
                            "interactive(children=(IntSlider(value=88, description='media_multiplier', max=300, min=-300), FloatSlider(valu…"
                        ]
                    },
                    "execution_count": 25,
                    "metadata": {},
                    "output_type": "execute_result"
                }
            ],
            "source": [
                "my_renderer.optimise_synth_image(manual_update=False)"
            ]
        },
        {
            "cell_type": "code",
            "execution_count": null,
            "metadata": {},
            "outputs": [],
            "source": [
                "my_renderer.generate_training_data(sample_amount=0.1, randomise_hist_match=False, randomise_noise_match=False, burn_in=40, n_samples = 500, save_dir=\"fluo/35x test\", in_series=False)"
            ]
        },
        {
            "attachments": {},
            "cell_type": "markdown",
            "metadata": {},
            "source": [
                "# 30x"
            ]
        },
        {
            "cell_type": "code",
            "execution_count": 5,
            "metadata": {},
            "outputs": [],
            "source": [
                "real_image30 = np.zeros((np.array(real_image.shape)//[256/147,46/36]).astype(int))\n",
                "a,b = real_image30.shape\n",
                "for i in range(a):\n",
                "    for j in range(b):\n",
                "        real_image30[i,j] = real_image[int(256/147*i),int(46/36*j)]"
            ]
        },
        {
            "cell_type": "code",
            "execution_count": 6,
            "metadata": {},
            "outputs": [
                {
                    "data": {
                        "image/png": "[encoded data removed]",
                        "text/plain": [
                            "<Figure size 640x480 with 2 Axes>"
                        ]
                    },
                    "metadata": {},
                    "output_type": "display_data"
                }
            ],
            "source": [
                "plt.pcolor(real_image30, cmap='RdBu')\n",
                "plt.title(r\"heatmap showing the mean optimised values for varying values of intensify and diversify\")\n",
                "plt.xlabel(r'diversify')\n",
                "plt.ylabel(r'intensify')\n",
                "plt.colorbar()\n",
                "plt.show()"
            ]
        },
        {
            "cell_type": "code",
            "execution_count": 7,
            "metadata": {},
            "outputs": [],
            "source": [
                "my_simulation = Simulation(\n",
                "    trench_length=15,\n",
                "    trench_width=1.3,\n",
                "    cell_max_length=6, #6, long cells # 1.65 short cells\n",
                "    cell_width= 1, #1 long cells # 0.95 short cells\n",
                "    sim_length = 100,\n",
                "    pix_mic_conv = 0.21,\n",
                "    gravity=0,\n",
                "    phys_iters=15,\n",
                "    max_length_var = 0.01,\n",
                "    width_var = 0.01,\n",
                "    lysis_p = 0.,\n",
                "    save_dir=\"C:\\\\Users\\\\robho\\\\OneDrive\\\\Desktop\\\\Uni_Work\\\\Year_4\\\\project2\",\n",
                "    resize_amount = 3\n",
                ")"
            ]
        },
        {
            "cell_type": "code",
            "execution_count": 8,
            "metadata": {},
            "outputs": [
                {
                    "data": {
                        "application/vnd.jupyter.widget-view+json": {
                            "model_id": "0473e19ffdb34a26873a58061dd35dd9",
                            "version_major": 2,
                            "version_minor": 0
                        },
                        "text/plain": [
                            "  0%|          | 0/100 [00:00<?, ?it/s]"
                        ]
                    },
                    "metadata": {},
                    "output_type": "display_data"
                }
            ],
            "source": [
                "my_simulation.run_simulation(show_window=False)"
            ]
        },
        {
            "cell_type": "code",
            "execution_count": 9,
            "metadata": {},
            "outputs": [
                {
                    "data": {
                        "application/vnd.jupyter.widget-view+json": {
                            "model_id": "33c0f5d220d64d489b1d006026abd1c6",
                            "version_major": 2,
                            "version_minor": 0
                        },
                        "text/plain": [
                            "Timeseries Properties:   0%|          | 0/98 [00:00<?, ?it/s]"
                        ]
                    },
                    "metadata": {},
                    "output_type": "display_data"
                },
                {
                    "data": {
                        "application/vnd.jupyter.widget-view+json": {
                            "model_id": "4aa6fad4ae0045afb6f414d30db40f7f",
                            "version_major": 2,
                            "version_minor": 0
                        },
                        "text/plain": [
                            "Scene Draw::   0%|          | 0/98 [00:00<?, ?it/s]"
                        ]
                    },
                    "metadata": {},
                    "output_type": "display_data"
                }
            ],
            "source": [
                "my_simulation.draw_simulation_OPL(do_transformation=True, label_masks=True)"
            ]
        },
        {
            "cell_type": "code",
            "execution_count": 10,
            "metadata": {},
            "outputs": [
                {
                    "data": {
                        "image/png": "[encoded data removed]",
                        "text/plain": [
                            "<Figure size 200x500 with 2 Axes>"
                        ]
                    },
                    "metadata": {},
                    "output_type": "display_data"
                }
            ],
            "source": [
                "import matplotlib.pyplot as plt\n",
                "fig, (ax1, ax2) = plt.subplots(1, 2, figsize=(2,5))\n",
                "ax1.imshow(my_simulation.OPL_scenes[-1], cmap=\"Greys_r\")\n",
                "ax1.axis(\"off\")\n",
                "ax2.imshow(my_simulation.masks[-1])\n",
                "ax2.axis(\"off\")\n",
                "plt.tight_layout()"
            ]
        },
        {
            "cell_type": "code",
            "execution_count": 11,
            "metadata": {},
            "outputs": [
                {
                    "name": "stdout",
                    "output_type": "stream",
                    "text": [
                        "HhahahahahhahahahAAAHAHAHAHH\n"
                    ]
                },
                {
                    "data": {
                        "image/png": "[encoded data removed]",
                        "text/plain": [
                            "<Figure size 640x480 with 1 Axes>"
                        ]
                    },
                    "metadata": {},
                    "output_type": "display_data"
                }
            ],
            "source": [
                "# A 2D simple fluorescence kernel based on Airy\n",
                "my_kernel = PSF_generator(\n",
                "    radius = 50,\n",
                "    wavelength = 0.6,\n",
                "    NA = 0.85,\n",
                "    n = 1,\n",
                "    resize_amount = 3,\n",
                "    pix_mic_conv = 0.21,\n",
                "    apo_sigma = None,\n",
                "    mode=\"simple fluo\",\n",
                "    condenser = \"PhF\")\n",
                "my_kernel.calculate_PSF()\n",
                "my_kernel.plot_PSF()"
            ]
        },
        {
            "cell_type": "code",
            "execution_count": 12,
            "metadata": {},
            "outputs": [
                {
                    "name": "stdout",
                    "output_type": "stream",
                    "text": [
                        "AYOOOOOOOOOOOOO\n",
                        "(147, 36)\n",
                        "(149, 37)\n"
                    ]
                }
            ],
            "source": [
                "my_renderer = Renderer(simulation = my_simulation, PSF = my_kernel, real_image = real_image30)"
            ]
        },
        {
            "cell_type": "code",
            "execution_count": 13,
            "metadata": {},
            "outputs": [],
            "source": [
                "my_renderer.select_intensity_napari()"
            ]
        },
        {
            "cell_type": "code",
            "execution_count": 14,
            "metadata": {},
            "outputs": [
                {
                    "data": {
                        "application/vnd.jupyter.widget-view+json": {
                            "model_id": "ffd238c5856047609cd3a147e84afff0",
                            "version_major": 2,
                            "version_minor": 0
                        },
                        "text/plain": [
                            "interactive(children=(IntSlider(value=88, description='media_multiplier', max=300, min=-300), FloatSlider(valu…"
                        ]
                    },
                    "execution_count": 14,
                    "metadata": {},
                    "output_type": "execute_result"
                }
            ],
            "source": [
                "my_renderer.optimise_synth_image(manual_update=False)"
            ]
        },
        {
            "cell_type": "code",
            "execution_count": null,
            "metadata": {},
            "outputs": [],
            "source": [
                "my_renderer.generate_training_data(sample_amount=0.1, randomise_hist_match=False, randomise_noise_match=False, burn_in=40, n_samples = 400, save_dir=\"fluo/30x test\", in_series=False)"
            ]
        },
        {
            "attachments": {},
            "cell_type": "markdown",
            "metadata": {},
            "source": [
                "# 25x"
            ]
        },
        {
            "cell_type": "code",
            "execution_count": 33,
            "metadata": {},
            "outputs": [],
            "source": [
                "real_image25 = np.zeros((np.array(real_image.shape)//[256/122,46/27]).astype(int))\n",
                "a,b = real_image25.shape\n",
                "for i in range(a):\n",
                "    for j in range(b):\n",
                "        real_image25[i,j] = real_image[int(256/122*i),int(46/27*j)]"
            ]
        },
        {
            "cell_type": "code",
            "execution_count": 17,
            "metadata": {},
            "outputs": [
                {
                    "data": {
                        "image/png": "[encoded data removed]",
                        "text/plain": [
                            "<Figure size 640x480 with 2 Axes>"
                        ]
                    },
                    "metadata": {},
                    "output_type": "display_data"
                }
            ],
            "source": [
                "plt.pcolor(real_image25, cmap='RdBu')\n",
                "plt.title(r\"heatmap showing the mean optimised values for varying values of intensify and diversify\")\n",
                "plt.xlabel(r'diversify')\n",
                "plt.ylabel(r'intensify')\n",
                "plt.colorbar()\n",
                "plt.show()"
            ]
        },
        {
            "cell_type": "code",
            "execution_count": 19,
            "metadata": {},
            "outputs": [],
            "source": [
                "my_simulation = Simulation(\n",
                "    trench_length=15,\n",
                "    trench_width=1.3,\n",
                "    cell_max_length=6, #6, long cells # 1.65 short cells\n",
                "    cell_width= 1, #1 long cells # 0.95 short cells\n",
                "    sim_length = 100,\n",
                "    pix_mic_conv = 0.26,\n",
                "    gravity=0,\n",
                "    phys_iters=15,\n",
                "    max_length_var = 0.01,\n",
                "    width_var = 0.01,\n",
                "    lysis_p = 0.,\n",
                "    save_dir=\"C:\\\\Users\\\\robho\\\\OneDrive\\\\Desktop\\\\Uni_Work\\\\Year_4\\\\project2\",\n",
                "    resize_amount = 3\n",
                ")"
            ]
        },
        {
            "cell_type": "code",
            "execution_count": 20,
            "metadata": {},
            "outputs": [
                {
                    "data": {
                        "application/vnd.jupyter.widget-view+json": {
                            "model_id": "dbba6c80ca0b42b0a4db0eef60c246e4",
                            "version_major": 2,
                            "version_minor": 0
                        },
                        "text/plain": [
                            "  0%|          | 0/100 [00:00<?, ?it/s]"
                        ]
                    },
                    "metadata": {},
                    "output_type": "display_data"
                }
            ],
            "source": [
                "my_simulation.run_simulation(show_window=False)"
            ]
        },
        {
            "cell_type": "code",
            "execution_count": 21,
            "metadata": {},
            "outputs": [
                {
                    "data": {
                        "application/vnd.jupyter.widget-view+json": {
                            "model_id": "81cb9abedcbd414093d4be8637900dfe",
                            "version_major": 2,
                            "version_minor": 0
                        },
                        "text/plain": [
                            "Timeseries Properties:   0%|          | 0/98 [00:00<?, ?it/s]"
                        ]
                    },
                    "metadata": {},
                    "output_type": "display_data"
                },
                {
                    "data": {
                        "application/vnd.jupyter.widget-view+json": {
                            "model_id": "bd50c379eeca419fa20f25ab83445243",
                            "version_major": 2,
                            "version_minor": 0
                        },
                        "text/plain": [
                            "Scene Draw::   0%|          | 0/98 [00:00<?, ?it/s]"
                        ]
                    },
                    "metadata": {},
                    "output_type": "display_data"
                }
            ],
            "source": [
                "my_simulation.draw_simulation_OPL(do_transformation=True, label_masks=True)"
            ]
        },
        {
            "cell_type": "code",
            "execution_count": 22,
            "metadata": {},
            "outputs": [
                {
                    "data": {
                        "image/png": "[encoded data removed]",
                        "text/plain": [
                            "<Figure size 200x500 with 2 Axes>"
                        ]
                    },
                    "metadata": {},
                    "output_type": "display_data"
                }
            ],
            "source": [
                "import matplotlib.pyplot as plt\n",
                "fig, (ax1, ax2) = plt.subplots(1, 2, figsize=(2,5))\n",
                "ax1.imshow(my_simulation.OPL_scenes[-1], cmap=\"Greys_r\")\n",
                "ax1.axis(\"off\")\n",
                "ax2.imshow(my_simulation.masks[-1])\n",
                "ax2.axis(\"off\")\n",
                "plt.tight_layout()"
            ]
        },
        {
            "cell_type": "code",
            "execution_count": 23,
            "metadata": {},
            "outputs": [
                {
                    "name": "stdout",
                    "output_type": "stream",
                    "text": [
                        "HhahahahahhahahahAAAHAHAHAHH\n"
                    ]
                },
                {
                    "data": {
                        "image/png": "[encoded data removed]",
                        "text/plain": [
                            "<Figure size 640x480 with 1 Axes>"
                        ]
                    },
                    "metadata": {},
                    "output_type": "display_data"
                }
            ],
            "source": [
                "# A 2D simple fluorescence kernel based on Airy\n",
                "my_kernel = PSF_generator(\n",
                "    radius = 50,\n",
                "    wavelength = 0.6,\n",
                "    NA = 0.8,\n",
                "    n = 1,\n",
                "    resize_amount = 3,\n",
                "    pix_mic_conv = 0.26,\n",
                "    apo_sigma = None,\n",
                "    mode=\"simple fluo\",\n",
                "    condenser = \"PhF\")\n",
                "my_kernel.calculate_PSF()\n",
                "my_kernel.plot_PSF()"
            ]
        },
        {
            "cell_type": "code",
            "execution_count": 34,
            "metadata": {},
            "outputs": [
                {
                    "name": "stdout",
                    "output_type": "stream",
                    "text": [
                        "AYOOOOOOOOOOOOO\n",
                        "(121, 26)\n",
                        "(122, 28)\n"
                    ]
                }
            ],
            "source": [
                "my_renderer = Renderer(simulation = my_simulation, PSF = my_kernel, real_image = real_image25)"
            ]
        },
        {
            "cell_type": "code",
            "execution_count": 35,
            "metadata": {},
            "outputs": [],
            "source": [
                "my_renderer.select_intensity_napari()"
            ]
        },
        {
            "cell_type": "code",
            "execution_count": 36,
            "metadata": {},
            "outputs": [
                {
                    "data": {
                        "application/vnd.jupyter.widget-view+json": {
                            "model_id": "89cedfa023d34643b6b853e583f381dc",
                            "version_major": 2,
                            "version_minor": 0
                        },
                        "text/plain": [
                            "interactive(children=(IntSlider(value=88, description='media_multiplier', max=300, min=-300), FloatSlider(valu…"
                        ]
                    },
                    "execution_count": 36,
                    "metadata": {},
                    "output_type": "execute_result"
                }
            ],
            "source": [
                "my_renderer.optimise_synth_image(manual_update=False)"
            ]
        },
        {
            "cell_type": "code",
            "execution_count": null,
            "metadata": {},
            "outputs": [],
            "source": [
                "my_renderer.generate_training_data(sample_amount=0.1, randomise_hist_match=False, randomise_noise_match=False, burn_in=40, n_samples = 400, save_dir=\"fluo/25x test\", in_series=False)"
            ]
        },
        {
            "attachments": {},
            "cell_type": "markdown",
            "metadata": {},
            "source": [
                "# 20x"
            ]
        },
        {
            "cell_type": "code",
            "execution_count": 4,
            "metadata": {},
            "outputs": [],
            "source": [
                "real_image20 = np.zeros((np.array(real_image.shape)//[256/100,46/30]).astype(int))\n",
                "a,b = real_image20.shape\n",
                "for i in range(a):\n",
                "    for j in range(b):\n",
                "        real_image20[i,j] = real_image[int(2.56*i),int(46/30*j)]"
            ]
        },
        {
            "cell_type": "code",
            "execution_count": 5,
            "metadata": {},
            "outputs": [
                {
                    "data": {
                        "image/png": "[encoded data removed]",
                        "text/plain": [
                            "<Figure size 640x480 with 2 Axes>"
                        ]
                    },
                    "metadata": {},
                    "output_type": "display_data"
                }
            ],
            "source": [
                "plt.pcolor(real_image20, cmap='RdBu')\n",
                "plt.title(r\"heatmap showing the mean optimised values for varying values of intensify and diversify\")\n",
                "plt.xlabel(r'diversify')\n",
                "plt.ylabel(r'intensify')\n",
                "plt.colorbar()\n",
                "plt.show()"
            ]
        },
        {
            "cell_type": "code",
            "execution_count": 6,
            "metadata": {},
            "outputs": [],
            "source": [
                "my_simulation = Simulation(\n",
                "    trench_length=15,\n",
                "    trench_width=1.3,\n",
                "    cell_max_length=6, #6, long cells # 1.65 short cells\n",
                "    cell_width= 1, #1 long cells # 0.95 short cells\n",
                "    sim_length = 100,\n",
                "    pix_mic_conv = 0.32,\n",
                "    gravity=0,\n",
                "    phys_iters=15,\n",
                "    max_length_var = 0.01,\n",
                "    width_var = 0.01,\n",
                "    lysis_p = 0.,\n",
                "    save_dir=\"C:\\\\Users\\\\robho\\\\OneDrive\\\\Desktop\\\\Uni_Work\\\\Year_4\\\\project2\",\n",
                "    resize_amount = 3\n",
                ")"
            ]
        },
        {
            "cell_type": "code",
            "execution_count": 7,
            "metadata": {},
            "outputs": [
                {
                    "data": {
                        "application/vnd.jupyter.widget-view+json": {
                            "model_id": "0a0af31d8dbf447bb4e3ea6a94348572",
                            "version_major": 2,
                            "version_minor": 0
                        },
                        "text/plain": [
                            "  0%|          | 0/100 [00:00<?, ?it/s]"
                        ]
                    },
                    "metadata": {},
                    "output_type": "display_data"
                }
            ],
            "source": [
                "my_simulation.run_simulation(show_window=False)"
            ]
        },
        {
            "cell_type": "code",
            "execution_count": 8,
            "metadata": {},
            "outputs": [
                {
                    "data": {
                        "application/vnd.jupyter.widget-view+json": {
                            "model_id": "92923ae8310248c0ab239d0f2494966b",
                            "version_major": 2,
                            "version_minor": 0
                        },
                        "text/plain": [
                            "Timeseries Properties:   0%|          | 0/98 [00:00<?, ?it/s]"
                        ]
                    },
                    "metadata": {},
                    "output_type": "display_data"
                },
                {
                    "data": {
                        "application/vnd.jupyter.widget-view+json": {
                            "model_id": "120ec04ed8974ba0b7a979bf9480a50b",
                            "version_major": 2,
                            "version_minor": 0
                        },
                        "text/plain": [
                            "Scene Draw::   0%|          | 0/98 [00:00<?, ?it/s]"
                        ]
                    },
                    "metadata": {},
                    "output_type": "display_data"
                }
            ],
            "source": [
                "my_simulation.draw_simulation_OPL(do_transformation=True, label_masks=True)"
            ]
        },
        {
            "cell_type": "code",
            "execution_count": 9,
            "metadata": {},
            "outputs": [
                {
                    "data": {
                        "image/png": "[encoded data removed]",
                        "text/plain": [
                            "<Figure size 200x500 with 2 Axes>"
                        ]
                    },
                    "metadata": {},
                    "output_type": "display_data"
                }
            ],
            "source": [
                "import matplotlib.pyplot as plt\n",
                "fig, (ax1, ax2) = plt.subplots(1, 2, figsize=(2,5))\n",
                "ax1.imshow(my_simulation.OPL_scenes[-1], cmap=\"Greys_r\")\n",
                "ax1.axis(\"off\")\n",
                "ax2.imshow(my_simulation.masks[-1])\n",
                "ax2.axis(\"off\")\n",
                "plt.tight_layout()"
            ]
        },
        {
            "cell_type": "code",
            "execution_count": 10,
            "metadata": {},
            "outputs": [
                {
                    "name": "stdout",
                    "output_type": "stream",
                    "text": [
                        "HhahahahahhahahahAAAHAHAHAHH\n"
                    ]
                },
                {
                    "data": {
                        "image/png": "[encoded data removed]",
                        "text/plain": [
                            "<Figure size 640x480 with 1 Axes>"
                        ]
                    },
                    "metadata": {},
                    "output_type": "display_data"
                }
            ],
            "source": [
                "# A 2D simple fluorescence kernel based on Airy\n",
                "my_kernel = PSF_generator(\n",
                "    radius = 50,\n",
                "    wavelength = 0.6,\n",
                "    NA = 0.75,\n",
                "    n = 1,\n",
                "    resize_amount = 3,\n",
                "    pix_mic_conv = 0.32,\n",
                "    apo_sigma = None,\n",
                "    mode=\"simple fluo\",\n",
                "    condenser = \"PhF\")\n",
                "my_kernel.calculate_PSF()\n",
                "my_kernel.plot_PSF()"
            ]
        },
        {
            "cell_type": "code",
            "execution_count": 11,
            "metadata": {},
            "outputs": [
                {
                    "name": "stdout",
                    "output_type": "stream",
                    "text": [
                        "AYOOOOOOOOOOOOO\n",
                        "(99, 29)\n",
                        "(100, 33)\n"
                    ]
                }
            ],
            "source": [
                "my_renderer = Renderer(simulation = my_simulation, PSF = my_kernel, real_image = real_image20)"
            ]
        },
        {
            "cell_type": "code",
            "execution_count": 12,
            "metadata": {},
            "outputs": [],
            "source": [
                "my_renderer.select_intensity_napari()"
            ]
        },
        {
            "cell_type": "code",
            "execution_count": 13,
            "metadata": {},
            "outputs": [
                {
                    "data": {
                        "application/vnd.jupyter.widget-view+json": {
                            "model_id": "d516b78971c440e9a372ce691bf467d6",
                            "version_major": 2,
                            "version_minor": 0
                        },
                        "text/plain": [
                            "interactive(children=(IntSlider(value=88, description='media_multiplier', max=300, min=-300), FloatSlider(valu…"
                        ]
                    },
                    "execution_count": 13,
                    "metadata": {},
                    "output_type": "execute_result"
                }
            ],
            "source": [
                "my_renderer.optimise_synth_image(manual_update=False)"
            ]
        },
        {
            "cell_type": "code",
            "execution_count": null,
            "metadata": {},
            "outputs": [],
            "source": [
                "my_renderer.generate_training_data(sample_amount=0.1, randomise_hist_match=False, randomise_noise_match=False, burn_in=40, n_samples = 400, save_dir=\"fluo/20x test\", in_series=False)"
            ]
        },
        {
            "attachments": {},
            "cell_type": "markdown",
            "metadata": {},
            "source": [
                "# 10x"
            ]
        },
        {
            "cell_type": "code",
            "execution_count": null,
            "metadata": {},
            "outputs": [],
            "source": [
                "real_image20 = np.zeros((np.array(real_image.shape)//[256/100,46/30]).astype(int))\n",
                "a,b = real_image20.shape\n",
                "for i in range(a):\n",
                "    for j in range(b):\n",
                "        real_image20[i,j] = real_image[int(2.56*i),int(46/30*j)]"
            ]
        },
        {
            "cell_type": "code",
            "execution_count": null,
            "metadata": {},
            "outputs": [],
            "source": [
                "plt.pcolor(real_image20, cmap='RdBu')\n",
                "plt.title(r\"heatmap showing the mean optimised values for varying values of intensify and diversify\")\n",
                "plt.xlabel(r'diversify')\n",
                "plt.ylabel(r'intensify')\n",
                "plt.colorbar()\n",
                "plt.show()"
            ]
        },
        {
            "cell_type": "code",
            "execution_count": 63,
            "metadata": {},
            "outputs": [],
            "source": [
                "my_simulation = Simulation(\n",
                "    trench_length=15,\n",
                "    trench_width=1.3,\n",
                "    cell_max_length=6, #6, long cells # 1.65 short cells\n",
                "    cell_width= 1, #1 long cells # 0.95 short cells\n",
                "    sim_length = 100,\n",
                "    pix_mic_conv = 0.65,\n",
                "    gravity=0,\n",
                "    phys_iters=15,\n",
                "    max_length_var = 0.01,\n",
                "    width_var = 0.01,\n",
                "    lysis_p = 0.,\n",
                "    save_dir=\"C:\\\\Users\\\\robho\\\\OneDrive\\\\Desktop\\\\Uni_Work\\\\Year_4\\\\Project\",\n",
                "    resize_amount = 3\n",
                ")"
            ]
        },
        {
            "cell_type": "code",
            "execution_count": 64,
            "metadata": {},
            "outputs": [
                {
                    "data": {
                        "application/vnd.jupyter.widget-view+json": {
                            "model_id": "fe732200c43e4cadb91ddd25b81eef46",
                            "version_major": 2,
                            "version_minor": 0
                        },
                        "text/plain": [
                            "  0%|          | 0/100 [00:00<?, ?it/s]"
                        ]
                    },
                    "metadata": {},
                    "output_type": "display_data"
                }
            ],
            "source": [
                "my_simulation.run_simulation(show_window=False)"
            ]
        },
        {
            "cell_type": "code",
            "execution_count": 65,
            "metadata": {},
            "outputs": [
                {
                    "data": {
                        "application/vnd.jupyter.widget-view+json": {
                            "model_id": "096f4880f4c14aa79fe48fd7876916ab",
                            "version_major": 2,
                            "version_minor": 0
                        },
                        "text/plain": [
                            "Timeseries Properties:   0%|          | 0/98 [00:00<?, ?it/s]"
                        ]
                    },
                    "metadata": {},
                    "output_type": "display_data"
                },
                {
                    "data": {
                        "application/vnd.jupyter.widget-view+json": {
                            "model_id": "734f896e55cb4ccf810cccb44691acaf",
                            "version_major": 2,
                            "version_minor": 0
                        },
                        "text/plain": [
                            "Scene Draw::   0%|          | 0/98 [00:00<?, ?it/s]"
                        ]
                    },
                    "metadata": {},
                    "output_type": "display_data"
                }
            ],
            "source": [
                "my_simulation.draw_simulation_OPL(do_transformation=True, label_masks=True)"
            ]
        },
        {
            "cell_type": "code",
            "execution_count": 66,
            "metadata": {},
            "outputs": [
                {
                    "data": {
                        "image/png": "[encoded data removed]",
                        "text/plain": [
                            "<Figure size 200x500 with 2 Axes>"
                        ]
                    },
                    "metadata": {},
                    "output_type": "display_data"
                }
            ],
            "source": [
                "import matplotlib.pyplot as plt\n",
                "fig, (ax1, ax2) = plt.subplots(1, 2, figsize=(2,5))\n",
                "ax1.imshow(my_simulation.OPL_scenes[-1], cmap=\"Greys_r\")\n",
                "ax1.axis(\"off\")\n",
                "ax2.imshow(my_simulation.masks[-1])\n",
                "ax2.axis(\"off\")\n",
                "plt.tight_layout()"
            ]
        },
        {
            "cell_type": "code",
            "execution_count": null,
            "metadata": {},
            "outputs": [],
            "source": []
        }
    ],
    "metadata": {
        "kernelspec": {
            "display_name": "symbac5",
            "language": "python",
            "name": "python3"
        },
        "language_info": {
            "codemirror_mode": {
                "name": "ipython",
                "version": 3
            },
            "file_extension": ".py",
            "mimetype": "text/x-python",
            "name": "python",
            "nbconvert_exporter": "python",
            "pygments_lexer": "ipython3",
            "version": "3.9.0"
        },
        "orig_nbformat": 4,
        "vscode": {
            "interpreter": {
                "hash": "28513bcd053304259afcc7cbfcce7837493f975346f4a3066a75687ebc7fad8b"
            }
        }
    },
    "nbformat": 4,
    "nbformat_minor": 2
}
