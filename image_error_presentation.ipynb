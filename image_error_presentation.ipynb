{
 "cells": [
  {
   "cell_type": "code",
   "execution_count": 34,
   "metadata": {},
   "outputs": [
    {
     "name": "stdout",
     "output_type": "stream",
     "text": [
      "The autoreload extension is already loaded. To reload it, use:\n",
      "  %reload_ext autoreload\n"
     ]
    }
   ],
   "source": [
    "%load_ext autoreload\n",
    "%autoreload 2"
   ]
  },
  {
   "cell_type": "code",
   "execution_count": 35,
   "metadata": {},
   "outputs": [],
   "source": [
    "import numpy as np\n",
    "from error_algorithms import IoU\n",
    "from error_algorithms import segmentation_accuracy\n",
    "from SyMBac.misc import misc_load_img\n",
    "import tifffile\n",
    "import matplotlib.pyplot as plt\n",
    "import os\n",
    "from scipy import ndimage"
   ]
  },
  {
   "attachments": {},
   "cell_type": "markdown",
   "metadata": {},
   "source": [
    "# 100x"
   ]
  },
  {
   "attachments": {},
   "cell_type": "markdown",
   "metadata": {},
   "source": [
    "int(np.round(np.sqrt(seg.size/(101*np.pi))))"
   ]
  },
  {
   "cell_type": "code",
   "execution_count": 36,
   "metadata": {},
   "outputs": [],
   "source": [
    "directory = \"C:/Users/robho/OneDrive/Desktop/Uni Work/Year 4/project2/fluo/100xblur\"\n",
    "# starlist100 = []\n",
    "waterlist100 = []\n",
    "locallist100 = []\n",
    "otsulist100 = []\n",
    "for i in range(len(os.listdir(directory+\"/masks\"))):\n",
    "    mask = tifffile.imread(directory+\"/masks/synth_\"+str(i).zfill(5)+\".tif\")\n",
    "    # star = tifffile.imread(directory+\"/stardist/synth_\"+str(i).zfill(5)+\"StarDist.tif\")\n",
    "    water,_ = ndimage.label(tifffile.imread(directory+\"/watershed/synth_\"+str(i).zfill(5)+\"watershed.tif\"),np.ones([3,3]))\n",
    "    local,_ = ndimage.label(tifffile.imread(directory+\"/bernsen/synth_\"+str(i).zfill(5)+\"bernsen.tif\"),np.ones([3,3]))\n",
    "    otsu,_ = ndimage.label(tifffile.imread(directory+\"/otsu/synth_\"+str(i).zfill(5)+\"otsu.tif\"),np.ones([3,3]))\n",
    "    # starlist100.append(IoU(mask,star))\n",
    "    waterlist100.append(IoU(mask,water))\n",
    "    locallist100.append(IoU(mask,local))\n",
    "    otsulist100.append(IoU(mask,otsu))\n",
    "    # idlist.append(segmentation_accuracy(mask,[star,water,local,otsu],min_dist=mask.shape[1]//5,lb=0.5,ub=1/0.5))"
   ]
  },
  {
   "cell_type": "code",
   "execution_count": 37,
   "metadata": {},
   "outputs": [],
   "source": [
    "# star100 = []\n",
    "water100 = []\n",
    "local100 = []\n",
    "otsu100 = []\n",
    "# for out in starlist100:\n",
    "#     for a,b in out:\n",
    "#         star100.append(a/b)\n",
    "for out in waterlist100:\n",
    "    for a,b in out:\n",
    "        water100.append(a/b)\n",
    "for out in locallist100:\n",
    "    for a,b in out:\n",
    "        local100.append(a/b)\n",
    "for out in otsulist100:\n",
    "    for a,b in out:\n",
    "        otsu100.append(a/b)"
   ]
  },
  {
   "cell_type": "code",
   "execution_count": 38,
   "metadata": {},
   "outputs": [],
   "source": [
    "# star100 = np.array(star100)\n",
    "water100 = np.array(water100)\n",
    "local100 = np.array(local100)\n",
    "otsu100 = np.array(otsu100)"
   ]
  },
  {
   "cell_type": "code",
   "execution_count": 39,
   "metadata": {},
   "outputs": [
    {
     "name": "stdout",
     "output_type": "stream",
     "text": [
      "0.7425795462091598\n",
      "0.4592813444041339\n",
      "0.23300224727250135\n"
     ]
    }
   ],
   "source": [
    "# print(np.mean(star100))\n",
    "print(np.mean(water100))\n",
    "print(np.mean(local100))\n",
    "print(np.mean(otsu100))"
   ]
  },
  {
   "attachments": {},
   "cell_type": "markdown",
   "metadata": {},
   "source": [
    "# 60x"
   ]
  },
  {
   "cell_type": "code",
   "execution_count": 40,
   "metadata": {},
   "outputs": [],
   "source": [
    "directory = \"C:/Users/robho/OneDrive/Desktop/Uni Work/Year 4/project2/fluo/60x blur\"\n",
    "# starlist60 = []\n",
    "waterlist60 = []\n",
    "locallist60 = []\n",
    "otsulist60 = []\n",
    "for i in range(len(os.listdir(directory+\"/masks\"))):\n",
    "    mask = tifffile.imread(directory+\"/masks/synth_\"+str(i).zfill(5)+\".tif\")\n",
    "    # star = tifffile.imread(directory+\"/stardist/synth_\"+str(i).zfill(5)+\"StarDist.tif\")\n",
    "    water,_ = ndimage.label(tifffile.imread(directory+\"/watershed/synth_\"+str(i).zfill(5)+\"watershed.tif\"),np.ones([3,3]))\n",
    "    local,_ = ndimage.label(tifffile.imread(directory+\"/bernsen/synth_\"+str(i).zfill(5)+\"bernsen.tif\"),np.ones([3,3]))\n",
    "    otsu,_ = ndimage.label(tifffile.imread(directory+\"/otsu/synth_\"+str(i).zfill(5)+\"otsu.tif\"),np.ones([3,3]))\n",
    "    # starlist60.append(IoU(mask,star))\n",
    "    waterlist60.append(IoU(mask,water))\n",
    "    locallist60.append(IoU(mask,local))\n",
    "    otsulist60.append(IoU(mask,otsu))\n",
    "    # idlist.append(segmentation_accuracy(mask,[star,water,local,otsu],min_dist=mask.shape[1]//5,lb=0.5,ub=1/0.5))"
   ]
  },
  {
   "cell_type": "code",
   "execution_count": 41,
   "metadata": {},
   "outputs": [],
   "source": [
    "# star60 = []\n",
    "water60 = []\n",
    "local60 = []\n",
    "otsu60 = []\n",
    "# for out in starlist60:\n",
    "    # for a,b in out:\n",
    "        # star60.append(a/b)\n",
    "for out in waterlist60:\n",
    "    for a,b in out:\n",
    "        water60.append(a/b)\n",
    "for out in locallist60:\n",
    "    for a,b in out:\n",
    "        local60.append(a/b)\n",
    "for out in otsulist60:\n",
    "    for a,b in out:\n",
    "        otsu60.append(a/b)"
   ]
  },
  {
   "cell_type": "code",
   "execution_count": 42,
   "metadata": {},
   "outputs": [],
   "source": [
    "# star60 = np.array(star60)\n",
    "water60 = np.array(water60)\n",
    "local60 = np.array(local60)\n",
    "otsu60 = np.array(otsu60)"
   ]
  },
  {
   "cell_type": "code",
   "execution_count": 43,
   "metadata": {},
   "outputs": [
    {
     "name": "stdout",
     "output_type": "stream",
     "text": [
      "0.8614841899340561\n",
      "0.2853021789277115\n",
      "0.06645838331278726\n"
     ]
    }
   ],
   "source": [
    "# print(np.mean(star60))\n",
    "print(np.mean(water60))\n",
    "print(np.mean(local60))\n",
    "print(np.mean(otsu60))"
   ]
  },
  {
   "attachments": {},
   "cell_type": "markdown",
   "metadata": {},
   "source": [
    "# 40x"
   ]
  },
  {
   "cell_type": "code",
   "execution_count": 44,
   "metadata": {},
   "outputs": [],
   "source": [
    "directory = \"C:/Users/robho/OneDrive/Desktop/Uni Work/Year 4/project2/fluo/40x blur\"\n",
    "# starlist40 = []\n",
    "waterlist40 = []\n",
    "locallist40 = []\n",
    "otsulist40 = []\n",
    "for i in range(len(os.listdir(directory+\"/masks\"))):\n",
    "    mask = tifffile.imread(directory+\"/masks/synth_\"+str(i).zfill(5)+\".tif\")\n",
    "    # star = tifffile.imread(directory+\"/stardist/synth_\"+str(i).zfill(5)+\"StarDist.tif\")\n",
    "    water,_ = ndimage.label(tifffile.imread(directory+\"/watershed/synth_\"+str(i).zfill(5)+\"watershed.tif\"),np.ones([3,3]))\n",
    "    local,_ = ndimage.label(tifffile.imread(directory+\"/bernsen/synth_\"+str(i).zfill(5)+\"bernsen.tif\"),np.ones([3,3]))\n",
    "    otsu,_ = ndimage.label(tifffile.imread(directory+\"/otsu/synth_\"+str(i).zfill(5)+\"otsu.tif\"),np.ones([3,3]))\n",
    "    # starlist40.append(IoU(mask,star))\n",
    "    waterlist40.append(IoU(mask,water))\n",
    "    locallist40.append(IoU(mask,local))\n",
    "    otsulist40.append(IoU(mask,otsu))\n",
    "    # idlist.append(segmentation_accuracy(mask,[star,water,local,otsu],min_dist=mask.shape[1]//5,lb=0.5,ub=1/0.5))"
   ]
  },
  {
   "cell_type": "code",
   "execution_count": 45,
   "metadata": {},
   "outputs": [],
   "source": [
    "# star40 = []\n",
    "water40 = []\n",
    "local40 = []\n",
    "otsu40 = []\n",
    "# for out in starlist40:\n",
    "    # for a,b in out:\n",
    "        # star40.append(a/b)\n",
    "for out in waterlist40:\n",
    "    for a,b in out:\n",
    "        water40.append(a/b)\n",
    "for out in locallist40:\n",
    "    for a,b in out:\n",
    "        local40.append(a/b)\n",
    "for out in otsulist40:\n",
    "    for a,b in out:\n",
    "        otsu40.append(a/b)"
   ]
  },
  {
   "cell_type": "code",
   "execution_count": 46,
   "metadata": {},
   "outputs": [],
   "source": [
    "# star40 = np.array(star40)\n",
    "water40 = np.array(water40)\n",
    "local40 = np.array(local40)\n",
    "otsu40 = np.array(otsu40)"
   ]
  },
  {
   "cell_type": "code",
   "execution_count": 47,
   "metadata": {},
   "outputs": [
    {
     "name": "stdout",
     "output_type": "stream",
     "text": [
      "0.3755039974800334\n",
      "0.241050421067687\n",
      "0.06888045626215483\n"
     ]
    }
   ],
   "source": [
    "# print(np.mean(star40))\n",
    "print(np.mean(water40))\n",
    "print(np.mean(local40))\n",
    "print(np.mean(otsu40))"
   ]
  },
  {
   "attachments": {},
   "cell_type": "markdown",
   "metadata": {},
   "source": [
    "# 35x"
   ]
  },
  {
   "cell_type": "code",
   "execution_count": 48,
   "metadata": {},
   "outputs": [],
   "source": [
    "directory = \"C:/Users/robho/OneDrive/Desktop/Uni Work/Year 4/project2/fluo/35x blur\"\n",
    "# starlist35 = []\n",
    "waterlist35 = []\n",
    "locallist35 = []\n",
    "otsulist35 = []\n",
    "for i in range(len(os.listdir(directory+\"/masks\"))):\n",
    "    mask = tifffile.imread(directory+\"/masks/synth_\"+str(i).zfill(5)+\".tif\")\n",
    "    # star = tifffile.imread(directory+\"/stardist/synth_\"+str(i).zfill(5)+\"StarDist.tif\")\n",
    "    water,_ = ndimage.label(tifffile.imread(directory+\"/watershed/synth_\"+str(i).zfill(5)+\"watershed.tif\"),np.ones([3,3]))\n",
    "    local,_ = ndimage.label(tifffile.imread(directory+\"/bernsen/synth_\"+str(i).zfill(5)+\"bernsen.tif\"),np.ones([3,3]))\n",
    "    otsu,_ = ndimage.label(tifffile.imread(directory+\"/otsu/synth_\"+str(i).zfill(5)+\"otsu.tif\"),np.ones([3,3]))\n",
    "    # starlist35.append(IoU(mask,star))\n",
    "    waterlist35.append(IoU(mask,water))\n",
    "    locallist35.append(IoU(mask,local))\n",
    "    otsulist35.append(IoU(mask,otsu))\n",
    "    # idlist.append(segmentation_accuracy(mask,[star,water,local,otsu],min_dist=mask.shape[1]//5,lb=0.5,ub=1/0.5))"
   ]
  },
  {
   "cell_type": "code",
   "execution_count": 49,
   "metadata": {},
   "outputs": [],
   "source": [
    "# star35 = []\n",
    "water35 = []\n",
    "local35 = []\n",
    "otsu35 = []\n",
    "# for out in starlist35:\n",
    "    # for a,b in out:\n",
    "        # star35.append(a/b)\n",
    "for out in waterlist35:\n",
    "    for a,b in out:\n",
    "        water35.append(a/b)\n",
    "for out in locallist35:\n",
    "    for a,b in out:\n",
    "        local35.append(a/b)\n",
    "for out in otsulist35:\n",
    "    for a,b in out:\n",
    "        otsu35.append(a/b)"
   ]
  },
  {
   "cell_type": "code",
   "execution_count": 50,
   "metadata": {},
   "outputs": [],
   "source": [
    "# star35 = np.array(star35)\n",
    "water35 = np.array(water35)\n",
    "local35 = np.array(local35)\n",
    "otsu35 = np.array(otsu35)"
   ]
  },
  {
   "cell_type": "code",
   "execution_count": 51,
   "metadata": {},
   "outputs": [
    {
     "name": "stdout",
     "output_type": "stream",
     "text": [
      "0.09703539106404906\n",
      "0.09703539106404906\n",
      "0.06107145535895959\n"
     ]
    }
   ],
   "source": [
    "# print(np.mean(star35))\n",
    "print(np.mean(water35))\n",
    "print(np.mean(local35))\n",
    "print(np.mean(otsu35))"
   ]
  },
  {
   "attachments": {},
   "cell_type": "markdown",
   "metadata": {},
   "source": [
    "# 30x"
   ]
  },
  {
   "cell_type": "code",
   "execution_count": 52,
   "metadata": {},
   "outputs": [],
   "source": [
    "directory = \"C:/Users/robho/OneDrive/Desktop/Uni Work/Year 4/project2/fluo/30x blur\"\n",
    "# starlist30 = []\n",
    "waterlist30 = []\n",
    "locallist30 = []\n",
    "otsulist30 = []\n",
    "for i in range(len(os.listdir(directory+\"/masks\"))):\n",
    "    mask = tifffile.imread(directory+\"/masks/synth_\"+str(i).zfill(5)+\".tif\")\n",
    "    # star = tifffile.imread(directory+\"/stardist/synth_\"+str(i).zfill(5)+\"StarDist.tif\")\n",
    "    water,_ = ndimage.label(tifffile.imread(directory+\"/watershed/synth_\"+str(i).zfill(5)+\"watershed.tif\"),np.ones([3,3]))\n",
    "    local,_ = ndimage.label(tifffile.imread(directory+\"/bernsen/synth_\"+str(i).zfill(5)+\"bernsen.tif\"),np.ones([3,3]))\n",
    "    otsu,_ = ndimage.label(tifffile.imread(directory+\"/otsu/synth_\"+str(i).zfill(5)+\"otsu.tif\"),np.ones([3,3]))\n",
    "    # starlist30.append(IoU(mask,star))\n",
    "    waterlist30.append(IoU(mask,water))\n",
    "    locallist30.append(IoU(mask,local))\n",
    "    otsulist30.append(IoU(mask,otsu))\n",
    "    # idlist.append(segmentation_accuracy(mask,[star,water,local,otsu],min_dist=mask.shape[1]//5,lb=0.5,ub=1/0.5))"
   ]
  },
  {
   "cell_type": "code",
   "execution_count": 53,
   "metadata": {},
   "outputs": [],
   "source": [
    "# star30 = []\n",
    "water30 = []\n",
    "local30 = []\n",
    "otsu30 = []\n",
    "# for out in starlist30:\n",
    "    # for a,b in out:\n",
    "        # star30.append(a/b)\n",
    "for out in waterlist30:\n",
    "    for a,b in out:\n",
    "        water30.append(a/b)\n",
    "for out in locallist30:\n",
    "    for a,b in out:\n",
    "        local30.append(a/b)\n",
    "for out in otsulist30:\n",
    "    for a,b in out:\n",
    "        otsu30.append(a/b)"
   ]
  },
  {
   "cell_type": "code",
   "execution_count": 54,
   "metadata": {},
   "outputs": [],
   "source": [
    "# star30 = np.array(star30)\n",
    "water30 = np.array(water30)\n",
    "local30 = np.array(local30)\n",
    "otsu30 = np.array(otsu30)"
   ]
  },
  {
   "cell_type": "code",
   "execution_count": 55,
   "metadata": {},
   "outputs": [
    {
     "name": "stdout",
     "output_type": "stream",
     "text": [
      "0.060020909838248385\n",
      "0.060020909838248385\n",
      "0.03345992825813033\n"
     ]
    }
   ],
   "source": [
    "# print(np.mean(star30))\n",
    "print(np.mean(water30))\n",
    "print(np.mean(local30))\n",
    "print(np.mean(otsu30))"
   ]
  },
  {
   "attachments": {},
   "cell_type": "markdown",
   "metadata": {},
   "source": [
    "# 25x"
   ]
  },
  {
   "cell_type": "code",
   "execution_count": 56,
   "metadata": {},
   "outputs": [],
   "source": [
    "directory = \"C:/Users/robho/OneDrive/Desktop/Uni Work/Year 4/project2/fluo/25x blur\"\n",
    "# starlist25 = []\n",
    "waterlist25 = []\n",
    "locallist25 = []\n",
    "otsulist25 = []\n",
    "for i in range(len(os.listdir(directory+\"/masks\"))):\n",
    "    mask = tifffile.imread(directory+\"/masks/synth_\"+str(i).zfill(5)+\".tif\")\n",
    "    # star = tifffile.imread(directory+\"/stardist/synth_\"+str(i).zfill(5)+\"StarDist.tif\")\n",
    "    water,_ = ndimage.label(tifffile.imread(directory+\"/watershed/synth_\"+str(i).zfill(5)+\"watershed.tif\"),np.ones([3,3]))\n",
    "    local,_ = ndimage.label(tifffile.imread(directory+\"/bernsen/synth_\"+str(i).zfill(5)+\"bernsen.tif\"),np.ones([3,3]))\n",
    "    otsu,_ = ndimage.label(tifffile.imread(directory+\"/otsu/synth_\"+str(i).zfill(5)+\"otsu.tif\"),np.ones([3,3]))\n",
    "    # starlist25.append(IoU(mask,star))\n",
    "    waterlist25.append(IoU(mask,water))\n",
    "    locallist25.append(IoU(mask,local))\n",
    "    otsulist25.append(IoU(mask,otsu))\n",
    "    # idlist.append(segmentation_accuracy(mask,[star,water,local,otsu],min_dist=mask.shape[1]//5,lb=0.5,ub=1/0.5))"
   ]
  },
  {
   "cell_type": "code",
   "execution_count": 57,
   "metadata": {},
   "outputs": [],
   "source": [
    "# star25 = []\n",
    "water25 = []\n",
    "local25 = []\n",
    "otsu25 = []\n",
    "# for out in starlist25:\n",
    "    # for a,b in out:\n",
    "        # star25.append(a/b)\n",
    "for out in waterlist25:\n",
    "    for a,b in out:\n",
    "        water25.append(a/b)\n",
    "for out in locallist25:\n",
    "    for a,b in out:\n",
    "        local25.append(a/b)\n",
    "for out in otsulist25:\n",
    "    for a,b in out:\n",
    "        otsu25.append(a/b)"
   ]
  },
  {
   "cell_type": "code",
   "execution_count": 58,
   "metadata": {},
   "outputs": [],
   "source": [
    "# star25 = np.array(star25)\n",
    "water25 = np.array(water25)\n",
    "local25 = np.array(local25)\n",
    "otsu25 = np.array(otsu25)"
   ]
  },
  {
   "cell_type": "code",
   "execution_count": 59,
   "metadata": {},
   "outputs": [
    {
     "name": "stdout",
     "output_type": "stream",
     "text": [
      "0.06080005354321464\n",
      "0.06080005354321464\n",
      "0.05918218053476413\n"
     ]
    }
   ],
   "source": [
    "# print(np.mean(star25))\n",
    "print(np.mean(water25))\n",
    "print(np.mean(local25))\n",
    "print(np.mean(otsu25))"
   ]
  },
  {
   "attachments": {},
   "cell_type": "markdown",
   "metadata": {},
   "source": [
    "# 20x"
   ]
  },
  {
   "cell_type": "code",
   "execution_count": 60,
   "metadata": {},
   "outputs": [],
   "source": [
    "directory = \"C:/Users/robho/OneDrive/Desktop/Uni Work/Year 4/project2/fluo/20x blur\"\n",
    "# starlist20 = []\n",
    "waterlist20 = []\n",
    "locallist20 = []\n",
    "otsulist20 = []\n",
    "for i in range(len(os.listdir(directory+\"/masks\"))):\n",
    "    mask = tifffile.imread(directory+\"/masks/synth_\"+str(i).zfill(5)+\".tif\")\n",
    "    # star = tifffile.imread(directory+\"/stardist/synth_\"+str(i).zfill(5)+\"StarDist.tif\")\n",
    "    water,_ = ndimage.label(tifffile.imread(directory+\"/watershed/synth_\"+str(i).zfill(5)+\"watershed.tif\"),np.ones([3,3]))\n",
    "    local,_ = ndimage.label(tifffile.imread(directory+\"/bernsen/synth_\"+str(i).zfill(5)+\"bernsen.tif\"),np.ones([3,3]))\n",
    "    otsu,_ = ndimage.label(tifffile.imread(directory+\"/otsu/synth_\"+str(i).zfill(5)+\"otsu.tif\"),np.ones([3,3]))\n",
    "    # starlist20.append(IoU(mask,star))\n",
    "    waterlist20.append(IoU(mask,water))\n",
    "    locallist20.append(IoU(mask,local))\n",
    "    otsulist20.append(IoU(mask,otsu))\n",
    "    # idlist.append(segmentation_accuracy(mask,[star,water,local,otsu],min_dist=mask.shape[1]//5,lb=0.5,ub=1/0.5))"
   ]
  },
  {
   "cell_type": "code",
   "execution_count": 61,
   "metadata": {},
   "outputs": [],
   "source": [
    "# star20 = []\n",
    "water20 = []\n",
    "local20 = []\n",
    "otsu20 = []\n",
    "# for out in starlist20:\n",
    "    # for a,b in out:\n",
    "        # star20.append(a/b)\n",
    "for out in waterlist20:\n",
    "    for a,b in out:\n",
    "        water20.append(a/b)\n",
    "for out in locallist20:\n",
    "    for a,b in out:\n",
    "        local20.append(a/b)\n",
    "for out in otsulist20:\n",
    "    for a,b in out:\n",
    "        otsu20.append(a/b)"
   ]
  },
  {
   "cell_type": "code",
   "execution_count": 62,
   "metadata": {},
   "outputs": [],
   "source": [
    "# star20 = np.array(star20)\n",
    "water20 = np.array(water20)\n",
    "local20 = np.array(local20)\n",
    "otsu20 = np.array(otsu20)"
   ]
  },
  {
   "cell_type": "code",
   "execution_count": 63,
   "metadata": {},
   "outputs": [
    {
     "name": "stdout",
     "output_type": "stream",
     "text": [
      "0.11446861589369732\n",
      "0.11446861589369732\n",
      "0.11358642262551058\n"
     ]
    }
   ],
   "source": [
    "# print(np.mean(star20))\n",
    "print(np.mean(water20))\n",
    "print(np.mean(local20))\n",
    "print(np.mean(otsu20))"
   ]
  },
  {
   "cell_type": "code",
   "execution_count": 73,
   "metadata": {},
   "outputs": [],
   "source": [
    "xx = [20,25,30,35,40,60,100]\n",
    "# yy1 = [np.mean(star20),np.mean(star25),np.mean(star30),\n",
    "#        np.mean(star35),np.mean(star40),np.mean(star60),\n",
    "#       np.mean(star100)]\n",
    "# yerr1 =[np.std(star20),np.std(star25),np.std(star30),\n",
    "#         np.std(star35),np.std(star40),np.std(star60),\n",
    "#        np.std(star100)]\n",
    "yy1 = [0.5492873852368559, 0.8098346080844339, 0.8747788945422776, 0.881359675317439, 0.9076305971849199, 0.9376935549320867, 0.9563233811865741]\n",
    "yerr1 = [0.28625493952177417, 0.1514439261406357, 0.12479522586979702, 0.11420689269020612, 0.12381686118780141, 0.10647715688246623, 0.07271896570044278]\n",
    "yy2 = [np.mean(water20),np.mean(water25),np.mean(water30),\n",
    "       np.mean(water35),np.mean(water40),np.mean(water60),\n",
    "      np.mean(water100)]\n",
    "yerr2 =[np.std(water20),np.std(water25),np.std(water30),\n",
    "        np.std(water35),np.std(water40),np.std(water60),\n",
    "       np.std(water100)]\n",
    "yy3 = [np.mean(local20),np.mean(local25),np.mean(local30),\n",
    "       np.mean(local35),np.mean(local40),np.mean(local60),\n",
    "      np.mean(local100)]\n",
    "yerr3 =[np.std(local20),np.std(local25),np.std(local30),\n",
    "        np.std(local35),np.std(local40),np.std(local60),\n",
    "       np.std(local100)]\n",
    "yy4 = [np.mean(otsu20),np.mean(otsu25),np.mean(otsu30),\n",
    "       np.mean(otsu35),np.mean(otsu40),np.mean(otsu60),\n",
    "      np.mean(otsu100)]\n",
    "yerr4 =[np.std(otsu20),np.std(otsu25),np.std(otsu30),\n",
    "        np.std(otsu35),np.std(otsu40),np.std(otsu60),\n",
    "       np.std(otsu100)]\n"
   ]
  },
  {
   "cell_type": "code",
   "execution_count": 75,
   "metadata": {},
   "outputs": [
    {
     "data": {
      "image/png": "[encoded data removed]",
      "text/plain": [
       "<Figure size 1400x400 with 1 Axes>"
      ]
     },
     "metadata": {},
     "output_type": "display_data"
    }
   ],
   "source": [
    "plt.rcParams[\"figure.figsize\"] = [14,4]\n",
    "plt.plot([15,105],[1,1],color='black',linewidth=0.6)\n",
    "plt.plot([15,105],[0.8,0.8],color='black',linewidth=0.6)\n",
    "plt.plot([15,105],[0.6,0.6],color='black',linewidth=0.6)\n",
    "plt.plot([15,105],[0.4,0.4],color='black',linewidth=0.6)\n",
    "plt.plot([15,105],[0.2,0.2],color='black',linewidth=0.6)\n",
    "plt.plot([15,105],[0.9,0.9],color='black',linewidth=0.6)\n",
    "plt.plot([15,105],[0.7,0.7],color='black',linewidth=0.6)\n",
    "plt.plot([15,105],[0.5,0.5],color='black',linewidth=0.6)\n",
    "plt.plot([15,105],[0.3,0.3],color='black',linewidth=0.6)\n",
    "plt.plot([15,105],[0.1,0.1],color='black',linewidth=0.6)\n",
    "plt.plot([15,105],[0,0],color='black',linewidth=0.6)\n",
    "# plt.errorbar(xx,yy1,yerr1,elinewidth=0.6,capsize=3,marker='x',label='Omnipose')\n",
    "plt.errorbar(xx,yy2,yerr2,elinewidth=0.6,capsize=3,marker='x',label='Watershed')\n",
    "plt.errorbar(xx,yy3,yerr3,elinewidth=0.6,capsize=3,marker='x',label='Bernsen')\n",
    "plt.errorbar(xx,yy4,yerr4,elinewidth=0.6,capsize=3,marker='x',label='Otsu')\n",
    "plt.title(\"ID accuracy and IoU segmentation accuracy for SyMBac fluorescence images using Stardist\")\n",
    "plt.xlabel(\"objective magnification\")\n",
    "plt.ylabel(\"IoU accuracy\")\n",
    "plt.xlim(15,105)\n",
    "plt.ylim(0,1)\n",
    "plt.legend()\n",
    "plt.show()"
   ]
  },
  {
   "cell_type": "code",
   "execution_count": null,
   "metadata": {},
   "outputs": [],
   "source": []
  }
 ],
 "metadata": {
  "kernelspec": {
   "display_name": "symbac5",
   "language": "python",
   "name": "python3"
  },
  "language_info": {
   "codemirror_mode": {
    "name": "ipython",
    "version": 3
   },
   "file_extension": ".py",
   "mimetype": "text/x-python",
   "name": "python",
   "nbconvert_exporter": "python",
   "pygments_lexer": "ipython3",
   "version": "3.9.0"
  },
  "orig_nbformat": 4,
  "vscode": {
   "interpreter": {
    "hash": "28513bcd053304259afcc7cbfcce7837493f975346f4a3066a75687ebc7fad8b"
   }
  }
 },
 "nbformat": 4,
 "nbformat_minor": 2
}
