{
    "cells": [
        {
            "cell_type": "code",
            "execution_count": 129,
            "metadata": {},
            "outputs": [
                {
                    "name": "stdout",
                    "output_type": "stream",
                    "text": [
                        "The autoreload extension is already loaded. To reload it, use:\n",
                        "  %reload_ext autoreload\n"
                    ]
                }
            ],
            "source": [
                "%load_ext autoreload\n",
                "%autoreload 2"
            ]
        },
        {
            "cell_type": "code",
            "execution_count": 130,
            "metadata": {},
            "outputs": [],
            "source": [
                "import numpy as np\n",
                "from error_algorithms import IoU\n",
                "from error_algorithms import segmentation_accuracy\n",
                "from SyMBac.misc import misc_load_img\n",
                "import tifffile\n",
                "import matplotlib.pyplot as plt\n",
                "import os"
            ]
        },
        {
            "attachments": {},
            "cell_type": "markdown",
            "metadata": {},
            "source": [
                "# 100x"
            ]
        },
        {
            "attachments": {},
            "cell_type": "markdown",
            "metadata": {},
            "source": [
                "int(np.round(np.sqrt(seg.shape[0]*seg.shape[1]/(100*np.pi))))"
            ]
        },
        {
            "cell_type": "code",
            "execution_count": 167,
            "metadata": {},
            "outputs": [
                {
                    "name": "stdout",
                    "output_type": "stream",
                    "text": [
                        "[[795, 1219], [1079, 1311], [766, 939]]\n",
                        "[0.6666666666666666]\n"
                    ]
                },
                {
                    "name": "stderr",
                    "output_type": "stream",
                    "text": [
                        "c:\\Users\\robho\\OneDrive\\Desktop\\Uni_Work\\Year_4\\project2\\error_algorithms.py:141: FutureWarning: Unlike other reduction functions (e.g. `skew`, `kurtosis`), the default behavior of `mode` typically preserves the axis it acts along. In SciPy 1.11.0, this behavior will change: the default value of `keepdims` will become False, the `axis` over which the statistic is taken will be eliminated, and the value None will no longer be accepted. Set `keepdims` to True or False to avoid this warning.\n",
                        "  equivalent_value = stats.mode(test_area)[0][0]\n"
                    ]
                }
            ],
            "source": [
                "directory = \"C:/Users/robho/OneDrive/Desktop/Uni_Work/Year_4/project2/fluo/100x\"\n",
                "i = 35\n",
                "mask = tifffile.imread(directory+\"/masks/synth_\"+str(i).zfill(5)+\".tif\")\n",
                "seg = tifffile.imread(directory+\"/segmentations/synth_\"+str(i).zfill(5)+\"StarDist.tif\")\n",
                "print(IoU(mask,seg))\n",
                "print(segmentation_accuracy(mask,[seg],min_dist=int(np.round(np.sqrt(seg.shape[0]*seg.shape[1]/(100*np.pi)))),lb=0.7,ub=1/0.7))"
            ]
        },
        {
            "cell_type": "code",
            "execution_count": 173,
            "metadata": {},
            "outputs": [
                {
                    "data": {
                        "image/png": "[encoded data removed]",
                        "text/plain": [
                            "<Figure size 1000x1000 with 2 Axes>"
                        ]
                    },
                    "metadata": {},
                    "output_type": "display_data"
                }
            ],
            "source": [
                "plt.rcParams[\"figure.figsize\"] = [10,10]\n",
                "fig, axs = plt.subplots(1,2)\n",
                "\n",
                "axs[0].pcolor(mask[::-1],cmap=\"Greys_r\")\n",
                "axs[1].pcolor(seg[::-1],cmap=\"Greys_r\")\n",
                "\n",
                "plt.show()"
            ]
        },
        {
            "cell_type": "code",
            "execution_count": 131,
            "metadata": {},
            "outputs": [],
            "source": [
                "directory = \"C:/Users/robho/OneDrive/Desktop/Uni_Work/Year_4/project2/fluo/100x\"\n",
                "outlist = []\n",
                "idlist = []\n",
                "for i in range(len(os.listdir(directory+\"/masks\"))):\n",
                "    mask = tifffile.imread(directory+\"/masks/synth_\"+str(i).zfill(5)+\".tif\")\n",
                "    seg = tifffile.imread(directory+\"/segmentations/synth_\"+str(i).zfill(5)+\"StarDist.tif\")\n",
                "    outlist.append(IoU(mask,seg))\n",
                "    idlist.append(segmentation_accuracy(mask,[seg],min_dist=int(np.round(np.sqrt(seg.shape[0]*seg.shape[1]/(100*np.pi)))),lb=0.7,ub=1/0.7))"
            ]
        },
        {
            "cell_type": "code",
            "execution_count": 132,
            "metadata": {},
            "outputs": [],
            "source": [
                "perclist100 = []\n",
                "for out in outlist:\n",
                "    aa, bb = 0,0\n",
                "    for a,b in out:\n",
                "        aa+=a\n",
                "        bb+=b\n",
                "    perclist100.append([aa,bb])"
            ]
        },
        {
            "cell_type": "code",
            "execution_count": 133,
            "metadata": {},
            "outputs": [
                {
                    "data": {
                        "text/plain": [
                            "(500, 2)"
                        ]
                    },
                    "execution_count": 133,
                    "metadata": {},
                    "output_type": "execute_result"
                }
            ],
            "source": [
                "idlist100 = np.array(idlist)\n",
                "percarr100 = np.array(perclist100)\n",
                "percarr100.shape"
            ]
        },
        {
            "cell_type": "code",
            "execution_count": 134,
            "metadata": {},
            "outputs": [
                {
                    "name": "stdout",
                    "output_type": "stream",
                    "text": [
                        "0.8136666666666666\n"
                    ]
                },
                {
                    "data": {
                        "text/plain": [
                            "0.7998726386042831"
                        ]
                    },
                    "execution_count": 134,
                    "metadata": {},
                    "output_type": "execute_result"
                }
            ],
            "source": [
                "print(np.mean(np.max(idlist100,axis=-1)))\n",
                "np.mean(percarr100[:,0]/percarr100[:,1])"
            ]
        },
        {
            "attachments": {},
            "cell_type": "markdown",
            "metadata": {},
            "source": [
                "# 60x"
            ]
        },
        {
            "cell_type": "code",
            "execution_count": 135,
            "metadata": {},
            "outputs": [],
            "source": [
                "directory = \"C:/Users/robho/OneDrive/Desktop/Uni_Work/Year_4/project2/fluo/60x\"\n",
                "outlist = []\n",
                "idlist = []\n",
                "for i in range(len(os.listdir(directory+\"/masks\"))):\n",
                "    mask = tifffile.imread(directory+\"/masks/synth_\"+str(i).zfill(5)+\".tif\")\n",
                "    seg = tifffile.imread(directory+\"/segmentations/synth_\"+str(i).zfill(5)+\"StarDist.tif\")\n",
                "    outlist.append(IoU(mask,seg))\n",
                "    idlist.append(segmentation_accuracy(mask,[seg],min_dist=int(np.round(np.sqrt(seg.shape[0]*seg.shape[1]/(100*np.pi)))),lb=0.7,ub=1/0.7))"
            ]
        },
        {
            "cell_type": "code",
            "execution_count": 136,
            "metadata": {},
            "outputs": [],
            "source": [
                "perclist60 = []\n",
                "for out in outlist:\n",
                "    aa, bb = 0,0\n",
                "    for a,b in out:\n",
                "        aa+=a\n",
                "        bb+=b\n",
                "    perclist60.append([aa,bb])"
            ]
        },
        {
            "cell_type": "code",
            "execution_count": 137,
            "metadata": {},
            "outputs": [
                {
                    "data": {
                        "text/plain": [
                            "(500, 2)"
                        ]
                    },
                    "execution_count": 137,
                    "metadata": {},
                    "output_type": "execute_result"
                }
            ],
            "source": [
                "idlist60 = np.array(idlist)\n",
                "percarr60 = np.array(perclist60)\n",
                "percarr60.shape"
            ]
        },
        {
            "cell_type": "code",
            "execution_count": 138,
            "metadata": {},
            "outputs": [
                {
                    "name": "stdout",
                    "output_type": "stream",
                    "text": [
                        "0.8907904761904762\n"
                    ]
                },
                {
                    "data": {
                        "text/plain": [
                            "0.7861380343270258"
                        ]
                    },
                    "execution_count": 138,
                    "metadata": {},
                    "output_type": "execute_result"
                }
            ],
            "source": [
                "print(np.mean(np.max(idlist60,axis=-1)))\n",
                "np.mean(percarr60[:,0]/percarr60[:,1])"
            ]
        },
        {
            "attachments": {},
            "cell_type": "markdown",
            "metadata": {},
            "source": [
                "# 40x"
            ]
        },
        {
            "cell_type": "code",
            "execution_count": 139,
            "metadata": {},
            "outputs": [],
            "source": [
                "directory = \"C:/Users/robho/OneDrive/Desktop/Uni_Work/Year_4/project2/fluo/40x\"\n",
                "outlist = []\n",
                "idlist = []\n",
                "for i in range(len(os.listdir(directory+\"/masks\"))):\n",
                "    mask = tifffile.imread(directory+\"/masks/synth_\"+str(i).zfill(5)+\".tif\")\n",
                "    seg = tifffile.imread(directory+\"/segmentations/synth_\"+str(i).zfill(5)+\"StarDist.tif\")\n",
                "    outlist.append(IoU(mask,seg))\n",
                "    idlist.append(segmentation_accuracy(mask,[seg],min_dist=int(np.round(np.sqrt(seg.shape[0]*seg.shape[1]/(100*np.pi)))),lb=0.7,ub=1/0.7))"
            ]
        },
        {
            "cell_type": "code",
            "execution_count": 140,
            "metadata": {},
            "outputs": [],
            "source": [
                "perclist40 = []\n",
                "for out in outlist:\n",
                "    aa, bb = 0,0\n",
                "    for a,b in out:\n",
                "        aa+=a\n",
                "        bb+=b\n",
                "    perclist40.append([aa,bb])"
            ]
        },
        {
            "cell_type": "code",
            "execution_count": 141,
            "metadata": {},
            "outputs": [
                {
                    "data": {
                        "text/plain": [
                            "(500, 2)"
                        ]
                    },
                    "execution_count": 141,
                    "metadata": {},
                    "output_type": "execute_result"
                }
            ],
            "source": [
                "idlist40 = np.array(idlist)\n",
                "percarr40 = np.array(perclist40)\n",
                "percarr40.shape"
            ]
        },
        {
            "cell_type": "code",
            "execution_count": 142,
            "metadata": {},
            "outputs": [
                {
                    "name": "stdout",
                    "output_type": "stream",
                    "text": [
                        "0.8365\n"
                    ]
                },
                {
                    "data": {
                        "text/plain": [
                            "0.7651531350502451"
                        ]
                    },
                    "execution_count": 142,
                    "metadata": {},
                    "output_type": "execute_result"
                }
            ],
            "source": [
                "print(np.mean(np.max(idlist40,axis=-1)))\n",
                "np.mean(percarr40[:,0]/percarr40[:,1])"
            ]
        },
        {
            "attachments": {},
            "cell_type": "markdown",
            "metadata": {},
            "source": [
                "# 35x"
            ]
        },
        {
            "cell_type": "code",
            "execution_count": 143,
            "metadata": {},
            "outputs": [],
            "source": [
                "directory = \"C:/Users/robho/OneDrive/Desktop/Uni_Work/Year_4/project2/fluo/35x\"\n",
                "outlist = []\n",
                "idlist = []\n",
                "for i in range(len(os.listdir(directory+\"/masks\"))):\n",
                "    mask = tifffile.imread(directory+\"/masks/synth_\"+str(i).zfill(5)+\".tif\")\n",
                "    seg = tifffile.imread(directory+\"/segmentations/synth_\"+str(i).zfill(5)+\"StarDist.tif\")\n",
                "    outlist.append(IoU(mask,seg))\n",
                "    idlist.append(segmentation_accuracy(mask,[seg],min_dist=int(np.round(np.sqrt(seg.shape[0]*seg.shape[1]/(100*np.pi)))),lb=0.7,ub=1/0.7))"
            ]
        },
        {
            "cell_type": "code",
            "execution_count": 144,
            "metadata": {},
            "outputs": [],
            "source": [
                "perclist35 = []\n",
                "for out in outlist:\n",
                "    aa, bb = 0,0\n",
                "    for a,b in out:\n",
                "        aa+=a\n",
                "        bb+=b\n",
                "    perclist35.append([aa,bb])"
            ]
        },
        {
            "cell_type": "code",
            "execution_count": 145,
            "metadata": {},
            "outputs": [
                {
                    "data": {
                        "text/plain": [
                            "(500, 2)"
                        ]
                    },
                    "execution_count": 145,
                    "metadata": {},
                    "output_type": "execute_result"
                }
            ],
            "source": [
                "idlist35 = np.array(idlist)\n",
                "percarr35 = np.array(perclist35)\n",
                "percarr35.shape"
            ]
        },
        {
            "cell_type": "code",
            "execution_count": 146,
            "metadata": {},
            "outputs": [
                {
                    "name": "stdout",
                    "output_type": "stream",
                    "text": [
                        "0.9113333333333333\n"
                    ]
                },
                {
                    "data": {
                        "text/plain": [
                            "0.7564456254867302"
                        ]
                    },
                    "execution_count": 146,
                    "metadata": {},
                    "output_type": "execute_result"
                }
            ],
            "source": [
                "print(np.mean(np.max(idlist35,axis=-1)))\n",
                "np.mean(percarr35[:,0]/percarr35[:,1])"
            ]
        },
        {
            "attachments": {},
            "cell_type": "markdown",
            "metadata": {},
            "source": [
                "# 30x"
            ]
        },
        {
            "cell_type": "code",
            "execution_count": 147,
            "metadata": {},
            "outputs": [],
            "source": [
                "directory = \"C:/Users/robho/OneDrive/Desktop/Uni_Work/Year_4/project2/fluo/30x\"\n",
                "outlist = []\n",
                "idlist = []\n",
                "for i in range(len(os.listdir(directory+\"/masks\"))):\n",
                "    mask = tifffile.imread(directory+\"/masks/synth_\"+str(i).zfill(5)+\".tif\")\n",
                "    seg = tifffile.imread(directory+\"/segmentations/synth_\"+str(i).zfill(5)+\"StarDist.tif\")\n",
                "    outlist.append(IoU(mask,seg))\n",
                "    idlist.append(segmentation_accuracy(mask,[seg],min_dist=int(np.round(np.sqrt(seg.shape[0]*seg.shape[1]/(100*np.pi)))),lb=0.7,ub=1/0.7))"
            ]
        },
        {
            "cell_type": "code",
            "execution_count": 148,
            "metadata": {},
            "outputs": [],
            "source": [
                "perclist30 = []\n",
                "for out in outlist:\n",
                "    aa, bb = 0,0\n",
                "    for a,b in out:\n",
                "        aa+=a\n",
                "        bb+=b\n",
                "    perclist30.append([aa,bb])"
            ]
        },
        {
            "cell_type": "code",
            "execution_count": 149,
            "metadata": {},
            "outputs": [
                {
                    "data": {
                        "text/plain": [
                            "(500, 2)"
                        ]
                    },
                    "execution_count": 149,
                    "metadata": {},
                    "output_type": "execute_result"
                }
            ],
            "source": [
                "idlist30 = np.array(idlist)\n",
                "percarr30 = np.array(perclist30)\n",
                "percarr30.shape"
            ]
        },
        {
            "cell_type": "code",
            "execution_count": 150,
            "metadata": {},
            "outputs": [
                {
                    "name": "stdout",
                    "output_type": "stream",
                    "text": [
                        "0.8263333333333333\n"
                    ]
                },
                {
                    "data": {
                        "text/plain": [
                            "0.7128568636371968"
                        ]
                    },
                    "execution_count": 150,
                    "metadata": {},
                    "output_type": "execute_result"
                }
            ],
            "source": [
                "print(np.mean(np.max(idlist30,axis=-1)))\n",
                "np.mean(percarr30[:,0]/percarr30[:,1])"
            ]
        },
        {
            "attachments": {},
            "cell_type": "markdown",
            "metadata": {},
            "source": [
                "# 25x"
            ]
        },
        {
            "cell_type": "code",
            "execution_count": 151,
            "metadata": {},
            "outputs": [],
            "source": [
                "directory = \"C:/Users/robho/OneDrive/Desktop/Uni_Work/Year_4/project2/fluo/25x\"\n",
                "outlist = []\n",
                "idlist = []\n",
                "for i in range(len(os.listdir(directory+\"/masks\"))):\n",
                "    mask = tifffile.imread(directory+\"/masks/synth_\"+str(i).zfill(5)+\".tif\")\n",
                "    seg = tifffile.imread(directory+\"/segmentations/synth_\"+str(i).zfill(5)+\"StarDist.tif\")\n",
                "    outlist.append(IoU(mask,seg))\n",
                "    idlist.append(segmentation_accuracy(mask,[seg],min_dist=int(np.round(np.sqrt(seg.shape[0]*seg.shape[1]/(100*np.pi)))),lb=0.7,ub=1/0.7))"
            ]
        },
        {
            "cell_type": "code",
            "execution_count": 152,
            "metadata": {},
            "outputs": [],
            "source": [
                "perclist25 = []\n",
                "for out in outlist:\n",
                "    aa, bb = 0,0\n",
                "    for a,b in out:\n",
                "        aa+=a\n",
                "        bb+=b\n",
                "    perclist25.append([aa,bb])"
            ]
        },
        {
            "cell_type": "code",
            "execution_count": 153,
            "metadata": {},
            "outputs": [
                {
                    "data": {
                        "text/plain": [
                            "(500, 2)"
                        ]
                    },
                    "execution_count": 153,
                    "metadata": {},
                    "output_type": "execute_result"
                }
            ],
            "source": [
                "idlist25 = np.array(idlist)\n",
                "percarr25 = np.array(perclist25)\n",
                "percarr25.shape"
            ]
        },
        {
            "cell_type": "code",
            "execution_count": 154,
            "metadata": {},
            "outputs": [
                {
                    "name": "stdout",
                    "output_type": "stream",
                    "text": [
                        "0.891\n"
                    ]
                },
                {
                    "data": {
                        "text/plain": [
                            "0.705967889595319"
                        ]
                    },
                    "execution_count": 154,
                    "metadata": {},
                    "output_type": "execute_result"
                }
            ],
            "source": [
                "print(np.mean(np.max(idlist25,axis=-1)))\n",
                "np.mean(percarr25[:,0]/percarr25[:,1])"
            ]
        },
        {
            "attachments": {},
            "cell_type": "markdown",
            "metadata": {},
            "source": [
                "# 20x"
            ]
        },
        {
            "cell_type": "code",
            "execution_count": 155,
            "metadata": {},
            "outputs": [],
            "source": [
                "directory = \"C:/Users/robho/OneDrive/Desktop/Uni_Work/Year_4/project2/fluo/20x\"\n",
                "outlist = []\n",
                "idlist = []\n",
                "for i in range(len(os.listdir(directory+\"/masks\"))):\n",
                "    mask = tifffile.imread(directory+\"/masks/synth_\"+str(i).zfill(5)+\".tif\")\n",
                "    seg = tifffile.imread(directory+\"/segmentations/synth_\"+str(i).zfill(5)+\"StarDist.tif\")\n",
                "    outlist.append(IoU(mask,seg))\n",
                "    idlist.append(segmentation_accuracy(mask,[seg],min_dist=int(np.round(np.sqrt(seg.shape[0]*seg.shape[1]/(100*np.pi)))),lb=0.7,ub=1/0.7))"
            ]
        },
        {
            "cell_type": "code",
            "execution_count": 156,
            "metadata": {},
            "outputs": [],
            "source": [
                "perclist20 = []\n",
                "for out in outlist:\n",
                "    aa, bb = 0,0\n",
                "    for a,b in out:\n",
                "        aa+=a\n",
                "        bb+=b\n",
                "    perclist20.append([aa,bb])"
            ]
        },
        {
            "cell_type": "code",
            "execution_count": 157,
            "metadata": {},
            "outputs": [
                {
                    "data": {
                        "text/plain": [
                            "(500, 2)"
                        ]
                    },
                    "execution_count": 157,
                    "metadata": {},
                    "output_type": "execute_result"
                }
            ],
            "source": [
                "idlist20 = np.array(idlist)\n",
                "percarr20 = np.array(perclist20)\n",
                "percarr20.shape"
            ]
        },
        {
            "cell_type": "code",
            "execution_count": 158,
            "metadata": {},
            "outputs": [
                {
                    "name": "stdout",
                    "output_type": "stream",
                    "text": [
                        "0.6548333333333333\n"
                    ]
                },
                {
                    "data": {
                        "text/plain": [
                            "0.43537320626064796"
                        ]
                    },
                    "execution_count": 158,
                    "metadata": {},
                    "output_type": "execute_result"
                }
            ],
            "source": [
                "print(np.mean(np.max(idlist20,axis=-1)))\n",
                "np.mean(percarr20[:,0]/percarr20[:,1])"
            ]
        },
        {
            "cell_type": "code",
            "execution_count": 165,
            "metadata": {},
            "outputs": [],
            "source": [
                "xx = [20,25,30,35,40,60,100]\n",
                "yy1 = [np.mean(percarr20[:,0]/percarr20[:,1]),np.mean(percarr25[:,0]/percarr25[:,1]),np.mean(percarr30[:,0]/percarr30[:,1]),\n",
                "      np.mean(percarr35[:,0]/percarr35[:,1]),np.mean(percarr40[:,0]/percarr40[:,1]),np.mean(percarr60[:,0]/percarr60[:,1]),\n",
                "      np.mean(percarr100[:,0]/percarr100[:,1])]\n",
                "yerr1 = [np.std(percarr20[:,0]/percarr20[:,1]),np.std(percarr25[:,0]/percarr25[:,1]),np.std(percarr30[:,0]/percarr30[:,1]),\n",
                "      np.std(percarr35[:,0]/percarr35[:,1]),np.std(percarr40[:,0]/percarr40[:,1]),np.std(percarr60[:,0]/percarr60[:,1]),\n",
                "      np.std(percarr100[:,0]/percarr100[:,1])]\n",
                "yy2 = [np.mean(idlist20),np.mean(idlist25),np.mean(idlist30),\n",
                "       np.mean(idlist35),np.mean(idlist40),np.mean(idlist60),\n",
                "       np.mean(idlist100)]\n",
                "yerr2 =[np.std(idlist20),np.std(idlist25),np.std(idlist30),\n",
                "        np.std(idlist35),np.std(idlist40),np.std(idlist60),\n",
                "        np.std(idlist100)]"
            ]
        },
        {
            "cell_type": "code",
            "execution_count": 166,
            "metadata": {},
            "outputs": [
                {
                    "data": {
                        "image/png": "[encoded data removed]",
                        "text/plain": [
                            "<Figure size 1400x400 with 1 Axes>"
                        ]
                    },
                    "metadata": {},
                    "output_type": "display_data"
                }
            ],
            "source": [
                "plt.rcParams[\"figure.figsize\"] = [14,4]\n",
                "plt.plot([15,105],[1,1],color='black',linewidth=0.6)\n",
                "plt.plot([15,105],[0.8,0.8],color='black',linewidth=0.6)\n",
                "plt.plot([15,105],[0.6,0.6],color='black',linewidth=0.6)\n",
                "plt.plot([15,105],[0.4,0.4],color='black',linewidth=0.6)\n",
                "plt.plot([15,105],[0.2,0.2],color='black',linewidth=0.6)\n",
                "plt.plot([15,105],[0.9,0.9],color='black',linewidth=0.6)\n",
                "plt.plot([15,105],[0.7,0.7],color='black',linewidth=0.6)\n",
                "plt.plot([15,105],[0.5,0.5],color='black',linewidth=0.6)\n",
                "plt.errorbar(xx,yy2,yerr2,ecolor='darkgreen',elinewidth=0.6,capsize=3,marker='x',label='ID accuracy',color='C2')\n",
                "plt.errorbar(xx,yy1,yerr1,ecolor='black',elinewidth=0.6,capsize=3,marker='x',label='IoU accuracy')\n",
                "plt.title(\"ID accuracy and IoU segmentation accuracy for SyMBac fluorescence images using Stardist\")\n",
                "plt.xlabel(\"objective magnification\")\n",
                "plt.ylabel(\"IoU accuracy\")\n",
                "plt.xlim(15,105)\n",
                "plt.ylim(0.4,1.1)\n",
                "plt.legend()\n",
                "plt.show()"
            ]
        },
        {
            "cell_type": "code",
            "execution_count": null,
            "metadata": {},
            "outputs": [],
            "source": []
        }
    ],
    "metadata": {
        "kernelspec": {
            "display_name": "symbac5",
            "language": "python",
            "name": "python3"
        },
        "language_info": {
            "codemirror_mode": {
                "name": "ipython",
                "version": 3
            },
            "file_extension": ".py",
            "mimetype": "text/x-python",
            "name": "python",
            "nbconvert_exporter": "python",
            "pygments_lexer": "ipython3",
            "version": "3.9.0"
        },
        "orig_nbformat": 4,
        "vscode": {
            "interpreter": {
                "hash": "28513bcd053304259afcc7cbfcce7837493f975346f4a3066a75687ebc7fad8b"
            }
        }
    },
    "nbformat": 4,
    "nbformat_minor": 2
}